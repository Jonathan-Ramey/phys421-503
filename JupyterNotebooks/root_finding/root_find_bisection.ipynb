{
 "cells": [
  {
   "cell_type": "code",
   "execution_count": 19,
   "metadata": {},
   "outputs": [],
   "source": [
    "import numpy as np\n",
    "import matplotlib.pyplot as plt"
   ]
  },
  {
   "cell_type": "code",
   "execution_count": 23,
   "metadata": {},
   "outputs": [],
   "source": [
    "# define a generator function for the polynomial\n",
    "def generator_function(x,*par):\n",
    "    return par[0]+par[1]*x+par[2]*x*x+par[3]*x*x*x\n",
    "\n",
    "par = np.array([1.80,-4.05,0.4,1.0])"
   ]
  },
  {
   "cell_type": "code",
   "execution_count": 24,
   "metadata": {},
   "outputs": [
    {
     "name": "stdout",
     "output_type": "stream",
     "text": [
      "-2.40000 -2.40000 -2.40000    30\n"
     ]
    }
   ],
   "source": [
    "xl = -3.0\n",
    "xh = 1.0\n",
    "\n",
    "diff = 1.0E12\n",
    "epsilon = 1.0E-7\n",
    "n=1\n",
    "\n",
    "xroots = []\n",
    "yroots = []\n",
    "\n",
    "while (diff > epsilon):\n",
    "    \n",
    "    if n>1000:\n",
    "        break\n",
    "    else:\n",
    "        n += 1\n",
    "        \n",
    "    fl = generator_function(xl,*par)\n",
    "    fh = generator_function(xh,*par)\n",
    "        \n",
    "    xm = (xh-xl)/2.0+xl\n",
    "    fm = generator_function(xm,*par)\n",
    "    \n",
    "    if (fl*fm < 0):\n",
    "        xh = xm\n",
    "        diff = np.abs(fm-fl)\n",
    "    else:\n",
    "        xl = xm\n",
    "        diff = np.abs(fm-fh)\n",
    "        \n",
    "    \n",
    "        \n",
    "print (\"%0.5f %0.5f %0.5f %5d\" % (xl,xh,xm,n))\n",
    "xroots.append(xm)\n",
    "yroots.append(diff)\n"
   ]
  },
  {
   "cell_type": "code",
   "execution_count": 25,
   "metadata": {},
   "outputs": [
    {
     "data": {
      "image/png": "[encoded data removed]",
      "text/plain": [
       "<Figure size 432x288 with 1 Axes>"
      ]
     },
     "metadata": {
      "needs_background": "light"
     },
     "output_type": "display_data"
    }
   ],
   "source": [
    "# Generate the figure and the axes \n",
    "fig, axs = plt.subplots(nrows=1, ncols=1)\n",
    "\n",
    "# Set the x limits, and the number of points, calculate the interval, and set the function parameters\n",
    "xl = -4.0\n",
    "xh = 4.0\n",
    "npoints = 10000\n",
    "\n",
    "dx = (xh-xl)/npoints\n",
    "\n",
    "par = np.array([1.80,-4.05,0.4,1.0])\n",
    "\n",
    "xval = np.arange(xl,xh,dx)\n",
    "yval = generator_function(xval,*par)\n",
    "\n",
    "# On the first axis, plot the sine and label the ordinate \n",
    "axs.plot(xval,yval)\n",
    "axs.scatter(xroots,yroots)\n",
    "axs.set_ylabel('Y Value')\n",
    "axs.set_xlabel('X Value')\n",
    "axs.axhline()\n",
    "plt.show()"
   ]
  },
  {
   "cell_type": "code",
   "execution_count": null,
   "metadata": {},
   "outputs": [],
   "source": []
  }
 ],
 "metadata": {
  "kernelspec": {
   "display_name": "Python 3",
   "language": "python",
   "name": "python3"
  },
  "language_info": {
   "codemirror_mode": {
    "name": "ipython",
    "version": 3
   },
   "file_extension": ".py",
   "mimetype": "text/x-python",
   "name": "python",
   "nbconvert_exporter": "python",
   "pygments_lexer": "ipython3",
   "version": "3.6.8"
  }
 },
 "nbformat": 4,
 "nbformat_minor": 4
}
