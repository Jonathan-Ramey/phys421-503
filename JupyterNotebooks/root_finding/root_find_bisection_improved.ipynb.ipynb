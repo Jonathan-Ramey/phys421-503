{
 "cells": [
  {
   "cell_type": "code",
   "execution_count": 80,
   "metadata": {},
   "outputs": [],
   "source": [
    "import numpy as np\n",
    "import matplotlib.pyplot as plt\n",
    "\n",
    "import random\n",
    "\n",
    "import time"
   ]
  },
  {
   "cell_type": "code",
   "execution_count": 81,
   "metadata": {},
   "outputs": [],
   "source": [
    "# define a generator function for the polynomial\n",
    "def generator_function(x,*par):\n",
    "    return par[0]+par[1]*x+par[2]*x*x+par[3]*x*x*x"
   ]
  },
  {
   "cell_type": "code",
   "execution_count": null,
   "metadata": {},
   "outputs": [],
   "source": []
  },
  {
   "cell_type": "code",
   "execution_count": 82,
   "metadata": {},
   "outputs": [],
   "source": [
    "def find_roots(window,n_roots_expected):\n",
    "    \n",
    "    xroots = []\n",
    "    yroots = []\n",
    "\n",
    "    n_roots_found = 0\n",
    "\n",
    "    n = 0\n",
    "\n",
    "    while (n_roots_found < n_roots_expected):\n",
    "\n",
    "        diff = 1.0E12\n",
    "        epsilon = 1.0E-7\n",
    "\n",
    "        xc = np.random.uniform(xl,xh)\n",
    "        xa = xc - window/2.0\n",
    "        xb = xc + window/2.0\n",
    "\n",
    "        fa = generator_function(xa,*par)\n",
    "        fb = generator_function(xb,*par)\n",
    "\n",
    "        #print (xc,xa,xb,fa,fb)\n",
    "\n",
    "        if (fa*fb > 0):\n",
    "            #print ('here 1')\n",
    "            n += 1\n",
    "        else:\n",
    "            #print ('here 2')\n",
    "            while (diff > epsilon and n<10000):\n",
    "                xc = (xb-xa)/2.0+xa\n",
    "                fc = generator_function(xc,*par)\n",
    "    \n",
    "                if (fa*fc < 0):\n",
    "                    xb = xc\n",
    "                    fb = generator_function(xb,*par)\n",
    "                    diff = np.abs(fc-fa)\n",
    "                else:\n",
    "                    xa = xc\n",
    "                    fa = generator_function(xa,*par)\n",
    "                    diff = np.abs(fc-fb)\n",
    "            \n",
    "                n += 1\n",
    "\n",
    "            already_found = False\n",
    "            if n_roots_found > 0:\n",
    "                for xroot in xroots:\n",
    "                    if (np.fabs(xroot-xc) < 5.0*epsilon):\n",
    "                        already_found = True\n",
    "            \n",
    "            if (not already_found):\n",
    "                n_roots_found += 1\n",
    "                xroots.append(xc)\n",
    "                yroots.append(fc)\n",
    "    \n",
    "    return n,xroots,yroots\n",
    "       "
   ]
  },
  {
   "cell_type": "code",
   "execution_count": 92,
   "metadata": {},
   "outputs": [
    {
     "name": "stdout",
     "output_type": "stream",
     "text": [
      "172 [0.5000000244546774, -2.400000006928404, 1.4999999868760794] [-7.091856321639334e-08, -7.836024806806563e-08, -5.118328916253745e-08]\n"
     ]
    },
    {
     "data": {
      "image/png": "[encoded data removed]",
      "text/plain": [
       "<Figure size 432x288 with 1 Axes>"
      ]
     },
     "metadata": {
      "needs_background": "light"
     },
     "output_type": "display_data"
    }
   ],
   "source": [
    "# Set the x limits, and the number of points, calculate the interval, and set the function parameters\n",
    "xl = -4.0\n",
    "xh = 4.0\n",
    "npoints = 10000\n",
    "\n",
    "dx = (xh-xl)/npoints\n",
    "\n",
    "par = np.array([1.80,-4.05,0.4,1.0])\n",
    "\n",
    "# Find the roots!!!!!!!!!\n",
    "n, xroots, yroots = find_roots(0.5,3)\n",
    "print (n,xroots,yroots)\n",
    "\n",
    "# Generate the figure and the axes \n",
    "fig, axs = plt.subplots(nrows=1, ncols=1)\n",
    "\n",
    "xval = np.arange(xl,xh,dx)\n",
    "yval = generator_function(xval,*par)\n",
    "\n",
    "# On the first axis, plot the sine and label the ordinate \n",
    "axs.plot(xval,yval)\n",
    "axs.scatter(xroots,yroots)\n",
    "axs.set_ylabel('Y Value')\n",
    "axs.set_xlabel('X Value')\n",
    "axs.axhline()\n",
    "plt.show()"
   ]
  },
  {
   "cell_type": "code",
   "execution_count": 93,
   "metadata": {},
   "outputs": [
    {
     "data": {
      "text/plain": [
       "[<matplotlib.lines.Line2D at 0x7f032fd2d780>]"
      ]
     },
     "execution_count": 93,
     "metadata": {},
     "output_type": "execute_result"
    },
    {
     "data": {
      "image/png": "[encoded data removed]",
      "text/plain": [
       "<Figure size 432x288 with 1 Axes>"
      ]
     },
     "metadata": {
      "needs_background": "light"
     },
     "output_type": "display_data"
    }
   ],
   "source": [
    "xwin = []\n",
    "nwin = []\n",
    "\n",
    "for i in range(100):\n",
    "    window = 0.01 + i/100.0*3.0\n",
    "    n,xroots,yroots = find_roots(window,3)\n",
    "    xwin.append(window)\n",
    "    nwin.append(n)\n",
    "    \n",
    "plt.plot(xwin,nwin,'.')"
   ]
  },
  {
   "cell_type": "code",
   "execution_count": 94,
   "metadata": {},
   "outputs": [
    {
     "name": "stdout",
     "output_type": "stream",
     "text": [
      "149.653 0.014965299999999999\n"
     ]
    },
    {
     "data": {
      "image/png": "[encoded data removed]",
      "text/plain": [
       "<Figure size 432x288 with 1 Axes>"
      ]
     },
     "metadata": {
      "needs_background": "light"
     },
     "output_type": "display_data"
    }
   ],
   "source": [
    "nstat = []\n",
    "\n",
    "for i in range(1000):\n",
    "    n,xroots,yroots = find_roots(1.0,3)\n",
    "    nstat.append(n)\n",
    "    \n",
    "counts, bins = np.histogram(nstat)\n",
    "plt.hist(bins[:-1], bins, weights=counts)\n",
    "\n",
    "nstat = np.array(nstat)\n",
    "\n",
    "print (nstat.mean(),nstat.mean()/npoints)"
   ]
  },
  {
   "cell_type": "code",
   "execution_count": 95,
   "metadata": {},
   "outputs": [
    {
     "name": "stdout",
     "output_type": "stream",
     "text": [
      "152.456 0.15245599999999998\n"
     ]
    },
    {
     "data": {
      "image/png": "[encoded data removed]",
      "text/plain": [
       "<Figure size 432x288 with 1 Axes>"
      ]
     },
     "metadata": {
      "needs_background": "light"
     },
     "output_type": "display_data"
    }
   ],
   "source": [
    "# Set the x limits, and the number of points, and calculate the interval\n",
    "xl = -4.0\n",
    "xh = 4.0\n",
    "npoints = 1000\n",
    "\n",
    "dx = (xh-xl)/npoints\n",
    "\n",
    "par = np.array([1.80,-4.05,0.4,1.0])\n",
    "\n",
    "nstat = []\n",
    "\n",
    "for i in range(1000):\n",
    "    n,xroots,yroots = find_roots(1.0,3)\n",
    "    nstat.append(n)\n",
    "    \n",
    "counts, bins = np.histogram(nstat)\n",
    "plt.hist(bins[:-1], bins, weights=counts)\n",
    "\n",
    "nstat = np.array(nstat)\n",
    "\n",
    "print (nstat.mean(),nstat.mean()/npoints)"
   ]
  },
  {
   "cell_type": "code",
   "execution_count": null,
   "metadata": {},
   "outputs": [],
   "source": []
  }
 ],
 "metadata": {
  "kernelspec": {
   "display_name": "Python 3",
   "language": "python",
   "name": "python3"
  },
  "language_info": {
   "codemirror_mode": {
    "name": "ipython",
    "version": 3
   },
   "file_extension": ".py",
   "mimetype": "text/x-python",
   "name": "python",
   "nbconvert_exporter": "python",
   "pygments_lexer": "ipython3",
   "version": "3.6.8"
  }
 },
 "nbformat": 4,
 "nbformat_minor": 4
}
