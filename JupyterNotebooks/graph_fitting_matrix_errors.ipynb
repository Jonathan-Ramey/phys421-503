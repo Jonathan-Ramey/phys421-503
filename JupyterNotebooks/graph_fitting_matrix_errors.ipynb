{
 "cells": [
  {
   "cell_type": "code",
   "execution_count": 1,
   "metadata": {},
   "outputs": [],
   "source": [
    "import math\n",
    "import numpy as np\n",
    "import matplotlib.pyplot as plt\n",
    "from P201_Functions import *"
   ]
  },
  {
   "cell_type": "code",
   "execution_count": 2,
   "metadata": {},
   "outputs": [],
   "source": [
    "def generator_function(x,*par):\n",
    "    return par[0]+par[1]*x+par[2]*x*x+par[3]*x*x*x\n",
    "    #return par[0]+par[1]*x+par[2]*x*x+par[3]*x*x*x+par[4]*x*x*x*x+par[5]*x*x*x*x*x+par[6]*x*x*x*x*x*x+par[7]*x*x*x*x*x*x*x\n",
    "\n",
    "par = []\n",
    "par.append(1.80)\n",
    "par.append(-4.05)\n",
    "par.append(0.40)\n",
    "par.append(1.0000)\n",
    "#par.append(0.0)\n",
    "#par.append(0.0)\n",
    "#par.append(0.0)\n",
    "#par.append(0.0)\n",
    "par = np.array(par)"
   ]
  },
  {
   "cell_type": "code",
   "execution_count": 3,
   "metadata": {},
   "outputs": [],
   "source": [
    "m = 3 #Set the order of the polynomial\n",
    "n = 17 #Set the number of data points\n",
    "\n",
    "walki = np.array([-1,1,-.5,.5,0,-1,1,-.5,.5,0,-1,1,-.5,.5,0,0.1,0.1])\n",
    "sigmai = np.array([1,1,1,2,2,2,1,1,1,2,2,2,1,1,1,3,1])"
   ]
  },
  {
   "cell_type": "code",
   "execution_count": null,
   "metadata": {},
   "outputs": [],
   "source": []
  },
  {
   "cell_type": "code",
   "execution_count": 4,
   "metadata": {},
   "outputs": [],
   "source": [
    "xl = -3.0\n",
    "xh = 3.0\n",
    "\n",
    "xi = []\n",
    "yi = []\n",
    "exi = []\n",
    "eyi = []\n",
    "\n",
    "for i in range(0,n):\n",
    "    xi.append(xl+(xh-xl)*i/n)\n",
    "    yi.append(generator_function(xi[i],*par)+0.5*walki[i])\n",
    "    exi.append(0.0)\n",
    "    eyi.append(sigmai[i])\n",
    "    \n",
    "xi = np.array(xi)\n",
    "yi = np.array(yi)\n",
    "exi = np.array(exi)\n",
    "eyi = np.array(eyi)"
   ]
  },
  {
   "cell_type": "code",
   "execution_count": 5,
   "metadata": {},
   "outputs": [],
   "source": [
    "m_params = m + 1\n",
    "a = np.zeros(shape = (m_params,m_params))\n",
    "v = np.zeros(shape = (m_params,1))"
   ]
  },
  {
   "cell_type": "code",
   "execution_count": 6,
   "metadata": {},
   "outputs": [
    {
     "name": "stdout",
     "output_type": "stream",
     "text": [
      "Cofactor matrix:\n",
      "[[  11.61111111   -2.65686275   39.99480969  -28.45847751]\n",
      " [  -2.65686275   39.99480969  -28.45847751  239.4407215 ]\n",
      " [  39.99480969  -28.45847751  239.4407215  -269.5075902 ]\n",
      " [ -28.45847751  239.4407215  -269.5075902  1671.01567099]]\n",
      "Constant matrix:\n",
      "[[ 19.44279604]\n",
      " [ 62.00359635]\n",
      " [ 12.26666553]\n",
      " [550.55987497]]\n",
      "Inverse matrix\n",
      "[[ 0.21290945  0.01710559 -0.03935136 -0.00517182]\n",
      " [ 0.01710559  0.19522719 -0.01321104 -0.02981361]\n",
      " [-0.03935136 -0.01321104  0.01289688  0.0033029 ]\n",
      " [-0.00517182 -0.02981361  0.0033029   0.00531507]]\n",
      "Diagonal Check:\n",
      "[[ 1.00000000e+00 -3.88404389e-18  1.02861408e-16 -1.49543656e-18]\n",
      " [-1.03451293e-16  1.00000000e+00  1.17564518e-16  2.54972834e-16]\n",
      " [-2.89304400e-16  9.97777173e-17  1.00000000e+00 -5.05675253e-17]\n",
      " [ 3.15059052e-16 -4.12527896e-15 -4.77972604e-16  1.00000000e+00]]\n",
      "Coefficients:\n",
      "[[ 1.87005872]\n",
      " [-4.13886676]\n",
      " [ 0.3924109 ]\n",
      " [ 1.01767439]]\n"
     ]
    }
   ],
   "source": [
    "for k in range(0,m_params):\n",
    "    for i in range(0,n):\n",
    "        v[k][0]=v[k][0]+yi[i]*math.pow(xi[i],k)/math.pow(eyi[i],2)\n",
    "    for j in range(0,m_params):\n",
    "        for i in range(0,n):\n",
    "            a[k][j]=a[k][j]+math.pow(xi[i],k+j)/math.pow(eyi[i],2)\n",
    "        \n",
    "print (\"Cofactor matrix:\")\n",
    "print (a)\n",
    "print (\"Constant matrix:\")\n",
    "print (v)\n",
    "\n",
    "ainv = np.linalg.inv(a)\n",
    "u1 = np.dot(a,ainv)\n",
    "\n",
    "print (\"Inverse matrix\")\n",
    "print (ainv)\n",
    "print (\"Diagonal Check:\")\n",
    "print (u1)\n",
    "coeff = ainv*np.matrix(v)\n",
    "print (\"Coefficients:\")\n",
    "print (coeff)\n",
    "        "
   ]
  },
  {
   "cell_type": "code",
   "execution_count": 7,
   "metadata": {},
   "outputs": [
    {
     "name": "stdout",
     "output_type": "stream",
     "text": [
      "i = 0  y = -9.950000  yfit = -9.658851\n",
      "i = 1  y = -2.724374  yfit = -3.300076\n",
      "i = 2  y = 0.872481  yfit = 1.143071\n",
      "i = 3  y = 4.104356  yfit = 3.939041\n",
      "i = 4  y = 5.235040  yfit = 5.356287\n",
      "i = 5  y = 5.028323  yfit = 5.663261\n",
      "i = 6  y = 5.497995  yfit = 5.128416\n",
      "i = 7  y = 3.657847  yfit = 4.020203\n",
      "i = 8  y = 2.771667  yfit = 2.607075\n",
      "i = 9  y = 1.103246  yfit = 1.157484\n",
      "i = 10  y = -0.583625  yfit = -0.060118\n",
      "i = 11  y = -0.275158  yfit = -0.777278\n",
      "i = 12  y = -0.957562  yfit = -0.725544\n",
      "i = 13  y = 0.632953  yfit = 0.363536\n",
      "i = 14  y = 2.760177  yfit = 2.758415\n",
      "i = 15  y = 6.737899  yfit = 6.727545\n",
      "i = 16  y = 12.479910  yfit = 12.539377\n",
      "chi2/dof = 1.157945 / 13.000000\n"
     ]
    }
   ],
   "source": [
    "yfit = 0\n",
    "error_sum = 0\n",
    "for j in range(0,n):\n",
    "    for k in range(0,m+1):\n",
    "        yfit = yfit + coeff[k]*math.pow(xi[j],k)\n",
    "    print (\"i = %d  y = %f  yfit = %f\" % (j,yi[j],yfit))\n",
    "    error_sum = error_sum + math.pow(((yfit-yi[j])/eyi[j]),2)\n",
    "    yfit = 0\n",
    "    \n",
    "chi2 = error_sum/(n-m)\n",
    "print (\"chi2/dof = %f / %f\" % (error_sum,(n-m-1)))"
   ]
  },
  {
   "cell_type": "code",
   "execution_count": 8,
   "metadata": {},
   "outputs": [
    {
     "name": "stdout",
     "output_type": "stream",
     "text": [
      "Coefficients with Errors:\n",
      "p0 = 1.870059 +/- 0.461421\n",
      "p1 = -4.138867 +/- 0.441845\n",
      "p2 = 0.392411 +/- 0.113564\n",
      "p3 = 1.017674 +/- 0.072905\n"
     ]
    }
   ],
   "source": [
    "print (\"Coefficients with Errors:\")\n",
    "for k in range(0,m+1):\n",
    "    print(\"p%d = %f +/- %f\" % (k,coeff[k],math.pow(ainv[k][k],0.5)))"
   ]
  },
  {
   "cell_type": "code",
   "execution_count": 9,
   "metadata": {},
   "outputs": [
    {
     "name": "stdout",
     "output_type": "stream",
     "text": [
      "[[ 0.21290946  0.01710559 -0.03935136 -0.00517182]\n",
      " [ 0.01710559  0.1952272  -0.01321104 -0.02981362]\n",
      " [-0.03935136 -0.01321104  0.01289689  0.0033029 ]\n",
      " [-0.00517182 -0.02981362  0.0033029   0.00531507]]\n",
      "\n",
      "[ 1.87005874 -4.13886676  0.3924109   1.01767439]\n",
      "[0.46142113 0.44184522 0.11356446 0.07290453]\n",
      "[-10.43671941 -10.42874433 -10.42098578 ...  19.04130539  19.05000693\n",
      "  19.05850951]\n",
      "[-8.88053167 -8.87322441 -8.86618253 ... 21.87841307 21.88801786\n",
      " 21.89755897]\n"
     ]
    },
    {
     "data": {
      "text/plain": [
       "[<matplotlib.lines.Line2D at 0x7fac630056d8>]"
      ]
     },
     "execution_count": 9,
     "metadata": {},
     "output_type": "execute_result"
    },
    {
     "data": {
      "image/png": "[encoded data removed]",
      "text/plain": [
       "<Figure size 864x648 with 1 Axes>"
      ]
     },
     "metadata": {
      "needs_background": "light"
     },
     "output_type": "display_data"
    }
   ],
   "source": [
    "plt.rcParams[\"figure.figsize\"] = (12,9)\n",
    "\n",
    "figure, axis = plt.subplots(1, 1)\n",
    "plot1 = plt.subplot2grid((1, 1), (0, 0), rowspan=1, colspan=1)\n",
    "\n",
    "# Plot the data, with these uncertainties, and give the panel a title.\n",
    "plot1.errorbar(xi, yi, yerr=sigmai, fmt='o', capsize=5, capthick=2)\n",
    "plot1.set_title(\"Cubic Data\")\n",
    "\n",
    "b = np.squeeze(np.asarray(coeff))\n",
    "\n",
    "npoints = 1000*n\n",
    "dx = (xh-xl)/npoints\n",
    "\n",
    "xfitting = []\n",
    "yfitting = []\n",
    "for i in range(0,npoints):\n",
    "    xfitting.append(xl+dx*i)\n",
    "    yfitting.append(generator_function(xfitting[i],*b))\n",
    "xfitting = np.array(xfitting)\n",
    "yfitting = np.array(yfitting)\n",
    "    \n",
    "plot1.plot(xfitting,yfitting,'r-')\n",
    "\n",
    "from scipy.optimize import curve_fit\n",
    "\n",
    "init_vals = [0.0 for x in range(m+1)]\n",
    "popt, pcov = curve_fit(generator_function,xi,yi,p0=init_vals,sigma=sigmai,absolute_sigma=True)\n",
    "perr = np.sqrt(np.diag(pcov))\n",
    "\n",
    "print(pcov)\n",
    "print()\n",
    "print(popt)\n",
    "print(perr)\n",
    "\n",
    "ps = np.random.multivariate_normal(popt,pcov,10000)\n",
    "ysample=np.asarray([generator_function(xfitting,*pi) for pi in ps])\n",
    "\n",
    "lower = np.percentile(ysample,16.0,axis=0)\n",
    "upper = np.percentile(ysample,84.0,axis=0)\n",
    "middle = (lower+upper)/2.0\n",
    "\n",
    "print (lower)\n",
    "print (upper)\n",
    "\n",
    "plot1.plot(xfitting,lower,'g-',linewidth=1)\n",
    "plot1.plot(xfitting,upper,'g-',linewidth=1)\n",
    "\n",
    "xzero = [xl,xh]\n",
    "yzero = [0,0]\n",
    "plot1.plot(xzero,yzero,'b-')\n"
   ]
  },
  {
   "cell_type": "code",
   "execution_count": 10,
   "metadata": {},
   "outputs": [
    {
     "name": "stdout",
     "output_type": "stream",
     "text": [
      "Lower:\n",
      "Found root at  -2.3544705882352943\n",
      "Found root at  0.3532941176470592\n",
      "Found root at  1.618235294117647\n",
      "Upper:\n",
      "Found root at  -2.442\n",
      "Found root at  0.7189411764705884\n",
      "Found root at  1.3344705882352947\n",
      "Root = -2.40 +/- 0.04\n",
      "Root = 0.54 +/- 0.18\n",
      "Root = 1.48 +/- 0.14\n"
     ]
    }
   ],
   "source": [
    "lowerroots = []\n",
    "upperroots = []\n",
    "\n",
    "print (\"Lower:\")\n",
    "for i in range(npoints-1):\n",
    "    if (lower[i]*lower[i+1]<0):\n",
    "        print (\"Found root at \",xfitting[i])\n",
    "        lowerroots.append(xfitting[i])\n",
    "        \n",
    "print (\"Upper:\")\n",
    "for i in range(npoints-1):\n",
    "    if (upper[i]*upper[i+1]<0):\n",
    "        print (\"Found root at \",xfitting[i])\n",
    "        upperroots.append(xfitting[i])\n",
    "\n",
    "for i in range(len(lowerroots)):\n",
    "    print (\"Root = %0.2f +/- %0.2f\" % ((lowerroots[i]+upperroots[i])/2.0,np.fabs((lowerroots[i]-upperroots[i])/2.0)))\n",
    "    "
   ]
  },
  {
   "cell_type": "code",
   "execution_count": null,
   "metadata": {},
   "outputs": [],
   "source": []
  }
 ],
 "metadata": {
  "kernelspec": {
   "display_name": "Python 3",
   "language": "python",
   "name": "python3"
  },
  "language_info": {
   "codemirror_mode": {
    "name": "ipython",
    "version": 3
   },
   "file_extension": ".py",
   "mimetype": "text/x-python",
   "name": "python",
   "nbconvert_exporter": "python",
   "pygments_lexer": "ipython3",
   "version": "3.6.8"
  }
 },
 "nbformat": 4,
 "nbformat_minor": 4
}
