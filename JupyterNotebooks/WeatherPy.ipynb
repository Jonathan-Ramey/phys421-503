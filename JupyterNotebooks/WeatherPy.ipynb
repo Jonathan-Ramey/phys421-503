{
 "cells": [
  {
   "cell_type": "markdown",
   "metadata": {},
   "source": [
    "# WeatherPy\n",
    "----\n",
    "\n",
    "#### Note\n",
    "* Instructions have been included for each segment. You do not have to follow them exactly, but they are included to help you think through the steps."
   ]
  },
  {
   "cell_type": "code",
   "execution_count": 1,
   "metadata": {
    "scrolled": true
   },
   "outputs": [],
   "source": [
    "# Dependencies and Setup\n",
    "import matplotlib.pyplot as plt\n",
    "import pandas as pd\n",
    "import numpy as np\n",
    "import requests, json\n",
    "import time\n",
    "from scipy.stats import linregress\n",
    "\n",
    "# Import API key\n",
    "#from api_keys import weather_api_key\n",
    "\n",
    "# Incorporated citipy to determine city based on latitude and longitude\n",
    "from citipy import citipy\n",
    "\n",
    "# Output File (CSV)\n",
    "output_data_file = \"output_data/cities.csv\"\n",
    "\n",
    "# Range of latitudes and longitudes\n",
    "lat_range = (-90, 90)\n",
    "lng_range = (-180, 180)"
   ]
  },
  {
   "cell_type": "markdown",
   "metadata": {},
   "source": [
    "## Generate Cities List"
   ]
  },
  {
   "cell_type": "code",
   "execution_count": 2,
   "metadata": {},
   "outputs": [
    {
     "data": {
      "text/plain": [
       "608"
      ]
     },
     "execution_count": 2,
     "metadata": {},
     "output_type": "execute_result"
    }
   ],
   "source": [
    "# List for holding lat_lngs and cities\n",
    "lat_lngs = []\n",
    "cities = []\n",
    "\n",
    "# Create a set of random lat and lng combinations\n",
    "lats = np.random.uniform(lat_range[0], lat_range[1], size=1500)\n",
    "lngs = np.random.uniform(lng_range[0], lng_range[1], size=1500)\n",
    "lat_lngs = zip(lats, lngs)\n",
    "\n",
    "# Identify nearest city for each lat, lng combination\n",
    "for lat_lng in lat_lngs:\n",
    "    city = citipy.nearest_city(lat_lng[0], lat_lng[1]).city_name\n",
    "    \n",
    "    # If the city is unique, then add it to a our cities list\n",
    "    if city not in cities:\n",
    "        cities.append(city)\n",
    "\n",
    "# Print the city count to confirm sufficient count\n",
    "len(cities)"
   ]
  },
  {
   "cell_type": "markdown",
   "metadata": {},
   "source": [
    "### Perform API Calls\n",
    "* Perform a weather check on each city using a series of successive API calls.\n",
    "* Include a print log of each city as it'sbeing processed (with the city number and city name).\n"
   ]
  },
  {
   "cell_type": "code",
   "execution_count": 3,
   "metadata": {},
   "outputs": [],
   "source": [
    "raw_data = pd.DataFrame(columns =(\"City\",\"Latitude\",\"Max Temp\",\"Wind Speed\",\"Cloudiness\",\"Description\", \"Humidity\"))"
   ]
  },
  {
   "cell_type": "code",
   "execution_count": 4,
   "metadata": {},
   "outputs": [
    {
     "name": "stdout",
     "output_type": "stream",
     "text": [
      "298.15 75 69 4.12 broken clouds saint-philippe -21.3585\n",
      "285.93 40 66 3.6 scattered clouds ancud -41.8697\n",
      "292.15 90 45 5.66 overcast clouds saint anthony 45.0205\n",
      " City Not Found \n",
      "300.15 20 61 2.06 few clouds avarua -21.2078\n",
      " City Not Found \n",
      "278.15 20 87 4.12 few clouds hobart -42.8794\n",
      "298.15 1 18 2.57 clear sky saint george 37.1041\n",
      "303.15 20 58 6.69 few clouds puerto ayora -0.7393\n",
      "289.95 100 96 1.85 overcast clouds camabatela -8.1881\n",
      "299.36 86 82 7.11 overcast clouds rikitea -23.1203\n",
      "301.67 100 71 2.98 overcast clouds hithadhoo -0.6\n",
      "278.15 75 60 8.75 broken clouds punta arenas -53.15\n",
      "290.37 52 68 2.74 broken clouds kropotkin 45.4375\n",
      "265.15 40 86 3.09 scattered clouds tuktoyaktuk 69.4541\n",
      "288.15 58 56 1.79 broken clouds ponta do sol 32.6667\n",
      "270.15 90 100 5.14 heavy snow kiruna 67.8557\n",
      "302.21 76 72 7.13 broken clouds butaritari 3.0707\n",
      "297.27 78 75 3.87 broken clouds caravelas -17.7125\n",
      "302.15 40 79 2.06 scattered clouds salalah 17.0151\n",
      " City Not Found \n",
      "277.04 20 30 3.6 few clouds yellowknife 62.456\n",
      "289.15 90 82 5.14 light rain jamestown 42.097\n",
      " City Not Found \n",
      "268.83 34 74 3.81 scattered clouds lavrentiya 65.5833\n",
      "278.8 42 57 10.89 scattered clouds nanortalik 60.1432\n",
      "301.03 84 79 5.89 broken clouds sulangan 11.1373\n",
      "269.15 20 80 5.14 few clouds vardo 70.3705\n",
      "277.04 54 89 1.4 broken clouds new norfolk -42.7826\n",
      "288.71 30 78 1.79 scattered clouds busselton -33.65\n",
      "276.24 100 95 6.11 overcast clouds lipin bor 60.2622\n",
      "278.15 20 56 7.72 few clouds nome 64.5011\n",
      "269.08 100 89 4.56 overcast clouds dikson 73.5069\n",
      "270.15 20 74 5.14 few clouds mehamn 71.0357\n",
      "297.59 100 84 1.64 overcast clouds bengkulu -3.8004\n",
      "286.48 95 77 2.68 heavy intensity rain bluff -46.6\n",
      "272.15 90 93 0.51 light snow roros 62.5747\n",
      "279.26 99 90 2.33 overcast clouds salzwedel 52.85\n",
      "301.46 69 75 3.27 broken clouds kavieng -2.5744\n",
      "290.15 90 55 3.09 overcast clouds albany 42.6001\n",
      "278.15 61 76 4.02 light rain torbay 47.6666\n",
      "301.56 55 69 6.53 broken clouds dwarka 22.2394\n",
      "286.48 100 77 2.68 light rain mataura -46.1927\n",
      "296.38 100 77 2.56 overcast clouds save 8.0425\n",
      "298.71 48 91 4.12 scattered clouds victoria 22.2855\n",
      "294.81 2 71 4.44 clear sky sao filipe 14.8961\n",
      "292.13 0 71 4.88 clear sky east london -33.0153\n",
      "301.15 1 24 4.63 clear sky coahuayana 18.7333\n",
      "285.37 1 50 8.23 clear sky bar harbor 44.3876\n",
      "296.15 90 88 2.06 overcast clouds avera 33.194\n",
      "293.52 0 62 5.81 clear sky port alfred -33.5906\n",
      "292.76 0 59 2.3 clear sky luderitz -26.6481\n",
      "291.15 100 100 7.2 overcast clouds carnarvon -24.8667\n",
      "288.15 100 63 2.06 overcast clouds bredasdorp -34.5322\n",
      "301.35 66 51 3.4 broken clouds manthani 18.65\n",
      "276.15 75 81 12.86 broken clouds ushuaia -54.8\n",
      "294.97 0 80 4.84 clear sky cidreira -30.1811\n",
      "299.15 40 65 5.14 scattered clouds kapaa 22.0752\n",
      "298.15 0 73 3.09 clear sky arraial do cabo -22.9661\n",
      "274.15 20 64 2.57 few clouds husavik 66.0449\n",
      " City Not Found \n",
      "268.35 88 82 5.95 overcast clouds khatanga 71.9667\n",
      "271.51 100 97 0.36 overcast clouds batagay-alyta 67.8006\n",
      "282.88 25 31 3.31 scattered clouds yinchuan 38.4681\n",
      "302.59 99 72 2.68 overcast clouds upata 8.0086\n",
      "295.15 75 43 3.6 broken clouds cape town -33.9258\n",
      "302.53 46 69 3.97 scattered clouds ko samui 9.5357\n",
      " City Not Found \n",
      "273.15 75 59 3.09 broken clouds finnsnes 69.2296\n",
      "291.68 38 67 1.15 scattered clouds castro -24.7911\n",
      "297.6 2 79 1.7 clear sky koumac -20.5667\n",
      "286.15 75 62 3.09 light rain seoul 37.5683\n",
      "299.83 0 16 2.08 clear sky mandali 33.7499\n",
      "274.19 92 80 3.01 overcast clouds kargasok 59.0556\n",
      "284.15 20 58 1.03 few clouds hasaki 35.7333\n",
      " City Not Found \n",
      "301.33 55 79 1.69 broken clouds karwar 14.8\n",
      "284.26 99 1 2.68 overcast clouds newton abbot 50.5286\n",
      "296.95 35 67 0.38 scattered clouds bria 6.5423\n",
      "282.15 0 93 6.69 clear sky broken hill -31.95\n",
      "297.15 75 78 3.6 broken clouds vaini -21.2\n",
      "287.33 55 76 2.15 broken clouds nichinan 31.6\n",
      "299.15 75 89 2.57 broken clouds touros -5.1989\n",
      "293.15 99 56 4.63 light rain saldanha -33.0117\n",
      "298.35 100 92 2.02 overcast clouds mabaruma 8.2\n",
      "305.15 1 70 7.2 clear sky san patricio 28.017\n",
      "275.15 90 87 6 snow nikolskoye 59.7035\n",
      "267.19 100 93 4.61 snow beringovskiy 63.05\n",
      "298.15 40 94 1.54 scattered clouds souillac -20.5167\n",
      "293.13 25 33 3.41 scattered clouds kruisfontein -34.0033\n",
      "300.8 7 76 4.9 clear sky mangrol 21.1167\n",
      "298.15 0 73 3.09 clear sky campos -21.75\n",
      "289.82 0 82 4.12 clear sky sinnai 39.3042\n",
      " City Not Found \n",
      "286.15 75 35 7.2 broken clouds bismarck 46.8083\n",
      "303.15 40 58 2.06 scattered clouds pointe michel 15.25\n",
      " City Not Found \n",
      "289.15 40 72 1.54 scattered clouds port elizabeth -33.918\n",
      "295.37 100 52 3.13 overcast clouds hermanus -34.4187\n",
      "301.15 94 53 2.58 overcast clouds ler 8.3018\n",
      "269.67 1 67 3.39 clear sky palana 59.1167\n",
      "275.39 99 54 5.81 overcast clouds hofn 64.2539\n",
      "299.46 100 15 6.37 overcast clouds seydi 39.4816\n",
      "292.15 1 55 3.09 clear sky pacific grove 36.6177\n",
      "265.15 90 79 2.06 overcast clouds barrow 71.2906\n",
      "299.97 18 75 7.2 few clouds atuona -9.8\n",
      "299.89 100 82 1.86 overcast clouds batticaloa 7.7102\n",
      "274.15 40 69 6 scattered clouds provideniya 64.3833\n",
      "288.13 53 90 1.78 broken clouds airai -8.9266\n",
      "299.19 20 73 7.86 few clouds cockburn town 21.4612\n",
      "283.15 0 29 8.23 clear sky ilulissat 69.2167\n",
      "300.15 40 54 3.6 scattered clouds cordoba -31.4135\n",
      "287.13 100 93 4.33 overcast clouds zherdevka 51.8486\n",
      "280.93 75 74 0.89 broken clouds kaitangata -46.2817\n",
      " City Not Found \n",
      "298.36 80 87 3.44 moderate rain dingle 10.9995\n",
      "283.71 0 64 1.54 clear sky oga 46.4631\n",
      "276.58 100 84 5.85 moderate rain taldan 53.6667\n",
      "296.63 38 94 2.14 light rain dafeng 23.4517\n",
      "301.15 40 57 8.23 scattered clouds bathsheba 13.2167\n",
      "303.45 52 38 1.73 broken clouds gulbarga 17.3333\n",
      "273.18 100 99 3.59 overcast clouds chokurdakh 70.6333\n",
      "295.67 85 95 0.67 overcast clouds longhua 23.6137\n",
      "291.48 40 67 5.14 scattered clouds north bend 43.4065\n",
      " City Not Found \n",
      "293.42 56 81 2.86 broken clouds jaguarari -10.2639\n",
      " City Not Found \n",
      "300.15 20 89 4.63 few clouds cayenne 4.9333\n",
      "294.26 20 63 6.17 few clouds lompoc 34.6391\n",
      "299.96 0 78 2.75 clear sky pathein 16.7833\n",
      "305.53 34 8 4.52 scattered clouds nguru 12.8791\n",
      "299.32 4 56 1.02 clear sky sao miguel do araguaia -13.275\n",
      "286.48 99 99 0.89 overcast clouds port macquarie -31.4333\n",
      "269.71 100 97 1.24 overcast clouds aykhal 66\n",
      "287.59 6 84 5.36 clear sky lata 40.1629\n",
      "294.03 64 92 1.84 broken clouds linhares -19.3911\n",
      "300.15 40 100 1.54 scattered clouds georgetown 5.4112\n",
      "299.2 2 84 1.18 clear sky yanam 16.7333\n",
      "275.07 1 61 4.67 clear sky tigil 57.8\n",
      "292.11 55 59 7.99 broken clouds guerrero negro 27.9769\n",
      "285.4 14 48 3.81 few clouds at-bashi 41.1702\n",
      "301.12 66 75 1.72 broken clouds gizo -8.103\n",
      "298.15 40 94 1.54 light rain mahebourg -20.4081\n",
      "271.31 28 81 0.81 scattered clouds qaanaaq 77.484\n",
      " City Not Found \n",
      " City Not Found \n",
      "291.15 20 72 2.57 few clouds ribeira grande 38.5167\n",
      "299.15 40 78 2.57 scattered clouds maceio -9.6658\n",
      "262.44 56 89 4.48 broken clouds pevek 69.7008\n",
      "282.27 100 53 5.43 overcast clouds saint-augustin 51.226\n",
      " City Not Found \n",
      "302.92 80 64 0.13 broken clouds sena madureira -9.0656\n",
      "266.27 48 97 1.47 scattered clouds turukhansk 65.8167\n",
      "284.15 1 32 5.14 clear sky slave lake 55.2834\n",
      "306.79 100 6 2.79 overcast clouds tari 12.4086\n",
      "298.71 40 94 1.54 light rain quatre cocos -20.2078\n",
      "266.81 49 91 4.01 scattered clouds yar-sale 66.8333\n",
      "284.15 75 82 5.66 light rain warrington 53.3925\n",
      "285.15 20 76 2.57 few clouds aras 42.5617\n",
      "273.45 43 69 0.65 scattered clouds kyren 51.6828\n",
      " City Not Found \n",
      "302.17 83 65 7.66 broken clouds riohacha 11.5444\n",
      "269.31 0 68 7.58 clear sky evensk 61.95\n",
      "299.48 98 81 1.83 overcast clouds hambantota 6.1241\n",
      "301.15 20 74 1.54 few clouds santa rosa 14.3122\n",
      "304.15 40 62 7.2 scattered clouds tulum 20.2167\n",
      "298.71 40 94 1.54 light rain bambous virieux -20.3428\n",
      "280.93 100 77 3.22 overcast clouds huanren 41.2647\n",
      "296.09 100 98 0.71 overcast clouds japura -0.3167\n",
      "293.75 100 90 2 moderate rain tura 25.5198\n",
      " City Not Found \n",
      "281.41 100 76 2.11 overcast clouds nyazepetrovsk 56.0531\n",
      "274.15 100 51 2.06 overcast clouds la ronge 55.1001\n",
      "287.82 0 74 0.37 clear sky giyani -23.3025\n",
      "295.15 66 96 2.17 moderate rain mahanoro -19.9\n",
      "301.89 21 77 1.3 few clouds kankon 15.0167\n",
      "293.15 75 88 2.57 broken clouds bowen -20.0167\n",
      "283.09 100 93 3.17 overcast clouds te anau -45.4167\n",
      "296.18 36 53 6.06 scattered clouds tukrah 32.5341\n",
      "288.15 100 61 2.68 overcast clouds necochea -38.5473\n",
      " City Not Found \n",
      "273.52 100 97 0.95 overcast clouds batagay 67.6333\n",
      "307.15 40 46 3.09 scattered clouds acoyapa 11.9703\n",
      "288.08 38 96 3.26 scattered clouds mungaa -4.9667\n",
      "283.29 8 45 2.09 clear sky karakol 42.4907\n",
      " City Not Found \n",
      "305.37 1 38 7.72 clear sky cabo san lucas 22.8909\n",
      "297.01 16 65 0.88 few clouds ippy 6.2679\n",
      "300.46 83 79 1.37 broken clouds namatanai -3.6667\n",
      "285.15 40 43 3.09 scattered clouds fort nelson 58.8053\n",
      "304.15 40 74 5.14 scattered clouds iralaya 15\n",
      "273.59 83 83 3.87 broken clouds upernavik 72.7868\n",
      "295.53 54 76 2.59 broken clouds chuy -33.6971\n",
      " City Not Found \n",
      " City Not Found \n",
      "275.98 100 96 5.16 light rain vizinga 61.0749\n",
      "303.71 1 12 9.26 clear sky sacramento 38.4666\n",
      "300.15 40 61 2.57 scattered clouds hilo 19.7297\n",
      "302.13 65 70 2.7 broken clouds eyl 7.9803\n",
      "298.15 91 89 5.58 overcast clouds merauke -8.4667\n",
      "285.15 0 43 5.66 clear sky chateauroux 46.8167\n",
      "273.15 0 64 4.63 clear sky tasiilaq 65.6145\n",
      "305.98 0 5 4.94 clear sky arlit 18.7369\n",
      "285.15 0 32 2.57 clear sky provost 52.3501\n",
      "289.15 92 82 0.79 overcast clouds faya 18.3851\n",
      "283.71 90 62 7.72 overcast clouds napanee 44.2501\n",
      "300.39 5 69 0.99 clear sky faanui -16.4833\n",
      "281.15 20 49 1 few clouds norman wells 65.282\n",
      "271.07 99 91 8.24 overcast clouds naryan-mar 67.6713\n",
      "298.67 47 80 8.2 scattered clouds isangel -19.55\n",
      " City Not Found \n",
      "299.15 40 94 5.14 scattered clouds macau 22.2006\n",
      "300.19 17 79 2.01 few clouds sisophon 13.5859\n",
      "280.15 0 70 1.03 clear sky maureni 45.4039\n",
      "293.15 69 73 2.06 broken clouds ondangwa -17.9167\n",
      "282.06 41 88 0.67 scattered clouds murchison -41.8\n",
      "270.3 50 80 4.45 scattered clouds cherskiy 68.75\n",
      "277.55 1 46 1.03 clear sky sisimiut 66.9395\n",
      "284.15 75 66 10.29 light rain terrace 54.5163\n",
      "280.15 90 100 6.69 moderate rain elliot lake 46.3834\n",
      "284.6 90 59 8.57 overcast clouds codrington -38.2667\n",
      " City Not Found \n",
      "298.15 97 88 6.69 overcast clouds alofi -19.0595\n",
      "267.15 0 68 1.54 clear sky longyearbyen 78.2186\n",
      " City Not Found \n",
      " City Not Found \n",
      "305.15 40 62 3.09 scattered clouds riberalta -10.9833\n",
      "298.45 68 91 0.9 broken clouds bang saphan 11.2126\n",
      "301.87 79 71 6.51 broken clouds sarangani 5.4033\n",
      " City Not Found \n",
      "294.15 27 56 2.57 scattered clouds walvis bay -22.9575\n",
      " City Not Found \n",
      "303.88 99 50 3.5 overcast clouds mandera 3.9366\n",
      " City Not Found \n",
      "290.15 0 88 1.03 light rain mar del plata -38.0023\n",
      "279.82 53 81 3.13 broken clouds burnie -41.0667\n",
      "277.15 90 93 3.09 overcast clouds sioux lookout 50.1001\n",
      "270.57 100 96 2.47 overcast clouds tiksi 71.6872\n",
      "272.15 100 98 2.88 light snow talnakh 69.4865\n",
      "296.71 100 89 1.56 overcast clouds ambulu -8.345\n",
      "286.48 0 71 1.03 clear sky mantua 45.1667\n",
      "280.15 75 26 18.01 broken clouds narsaq 60.9167\n",
      "275 100 96 9.01 snow konstantinovo 54.6628\n",
      "279.76 13 57 2.47 few clouds san carlos de bariloche -41.1456\n",
      "276.35 100 54 3.68 light rain yarensk 62.1675\n",
      "301.6 0 73 1.89 clear sky srivardhan 18.0333\n",
      "310.15 6 12 2.06 clear sky tambacounda 13.7539\n",
      "293.15 75 52 4.63 broken clouds geraldton -28.7667\n",
      "276.93 99 86 2.34 overcast clouds tulun 54.5611\n",
      "284.9 97 65 2.25 overcast clouds shingu 33.7333\n",
      "292.62 98 97 0.93 overcast clouds shaowu 27.3409\n",
      "289.78 88 86 2.03 overcast clouds mwinilunga -11.7358\n",
      "287.15 0 58 1.03 clear sky katsuura 35.1333\n",
      "275.54 24 71 7.73 few clouds poronaysk 49.2167\n",
      "275.17 100 96 4.12 snow bukachacha 52.9833\n",
      "285.37 0 60 0.89 clear sky shimoda 34.6667\n",
      "293.15 90 45 3.09 overcast clouds palmer 42.1584\n",
      "291.15 0 67 0.51 clear sky gemlik 40.4309\n",
      "286.33 37 77 5.01 scattered clouds lebu -37.6167\n",
      "288.15 0 55 3.09 clear sky nkowakowa -23.8878\n",
      "287.85 98 80 1.65 moderate rain birin 26.8865\n",
      "296.15 75 88 3.09 broken clouds san cristobal 7.7669\n",
      "266.73 91 92 1.71 overcast clouds omsukchan 62.5333\n",
      "294.15 75 52 5.14 broken clouds roma 43.2128\n",
      " City Not Found \n",
      "270.45 100 95 3.25 overcast clouds saskylakh 71.9167\n",
      "295.15 75 68 6.17 broken clouds praia 14.9215\n",
      "304.65 11 18 4.05 few clouds adrar 20.5022\n",
      "306.39 0 8 4.13 clear sky tessalit 20.1986\n",
      "286.24 95 76 4.17 overcast clouds kalat 29.0225\n",
      "274.15 1 86 6.17 clear sky pangnirtung 66.1451\n",
      "302.15 75 79 3.6 moderate rain male 4.1748\n",
      "280.15 100 36 3.09 overcast clouds haines junction 60.7522\n",
      " City Not Found \n",
      "290.15 90 59 3.6 overcast clouds bethel 41.3712\n",
      "285.15 40 76 2.57 scattered clouds carballo 43.213\n",
      "298.19 11 85 1.49 few clouds sao felix do xingu -6.6447\n",
      "296.84 94 91 1.74 overcast clouds boyolangu -8.1181\n",
      "299.15 20 89 1.54 few clouds denpasar -8.65\n",
      "303.15 1 26 6.17 clear sky san jose 37.3394\n",
      "275.15 0 55 2.57 clear sky sorland 67.667\n",
      "286.48 100 62 2.24 light rain sharkan 57.2989\n",
      "300.02 56 80 0.38 broken clouds lorengau -2.0226\n",
      " City Not Found \n",
      "283.15 100 65 2.68 light rain margate 51.3813\n",
      "290.15 20 82 2.94 few clouds himare 40.1017\n",
      " City Not Found \n",
      "276.54 100 52 6.27 light rain suoyarvi 62.0833\n",
      "292.7 9 33 2.86 clear sky idil 37.3411\n",
      "274.93 100 98 2.65 light snow severo-kurilsk 50.6789\n",
      "284.15 0 71 9 clear sky auly 48.5271\n",
      " City Not Found \n",
      "299.91 87 76 1.76 overcast clouds sola -13.8833\n",
      "281.15 0 61 4.12 clear sky veszto 46.9167\n",
      "298.41 31 88 4 scattered clouds wanning 18.8003\n",
      "272.61 92 97 0.98 overcast clouds verkhnevilyuysk 63.4453\n",
      "286.9 31 94 1.81 scattered clouds kambove -10.8764\n",
      "298.15 0 78 3.6 clear sky vila velha -20.3297\n",
      "290.73 33 96 1.98 scattered clouds masumbwe -3.6333\n",
      "298.71 14 89 1.34 few clouds cap malheureux -19.9842\n",
      "286.11 2 65 0.18 clear sky maragheh 37.3917\n",
      "291.6 0 62 5.05 clear sky san quintin 30.4833\n",
      "292.92 93 67 7.98 overcast clouds misratah 32.3754\n",
      "301.64 51 41 2.29 broken clouds raga 8.4596\n",
      "298.53 50 72 1.88 scattered clouds maumere -8.6199\n",
      "271.15 1 80 9.26 clear sky clyde river 70.4692\n",
      "270.76 90 97 1.26 overcast clouds yerbogachen 61.2767\n",
      "300.15 0 78 4.12 clear sky cabedelo -6.9811\n",
      "301.56 87 67 0.88 overcast clouds calabozo 8.9242\n",
      "281.48 100 40 7.6 overcast clouds melita 49.2681\n",
      "286.48 100 97 0.89 light rain batemans bay -35.7167\n",
      "282.15 20 49 2.06 few clouds coihaique -45.5752\n",
      "296.87 50 84 2.93 scattered clouds poya -21.35\n",
      "274.15 90 100 3 light rain and snow petropavlovsk-kamchatskiy 53.0452\n",
      "282.58 93 54 13.73 overcast clouds rawson -43.3002\n",
      "271.15 75 69 2.57 broken clouds aklavik 68.2191\n",
      "285.37 100 44 2.68 overcast clouds coulommiers 48.8145\n",
      "291.15 0 72 3.6 clear sky antofagasta -23.65\n",
      "290.4 69 81 2.56 broken clouds niksar 40.5917\n",
      "298.15 40 83 5.66 light rain havelock 34.8791\n",
      "292.15 90 63 2.06 overcast clouds buzmeyin 38.0507\n",
      "283.15 20 81 3.6 light rain prince rupert 54.3161\n",
      "289.15 1 44 8.75 clear sky willmar 45.1219\n",
      " City Not Found \n",
      "293.54 0 57 2.44 clear sky dores do indaia -19.4633\n",
      "299.22 44 56 2 scattered clouds morros -9.4467\n",
      "295.93 75 73 4.63 broken clouds lima -12.0432\n",
      "287.15 43 67 3.09 scattered clouds alice springs -23.7\n",
      "281.15 75 93 9.77 broken clouds louth 53.3666\n",
      "262.23 84 90 4.21 broken clouds tilichiki 60.4667\n",
      "299.34 89 89 1.72 overcast clouds ranong 9.9658\n",
      "281.58 42 80 5.15 scattered clouds kachiry 53.0675\n",
      "297.06 90 78 4.31 overcast clouds prado -17.3411\n",
      "290.5 70 91 0.73 light rain bunia 1.5667\n",
      " City Not Found \n",
      "298.15 75 100 1.54 light rain port-gentil -0.7193\n",
      "289.26 90 70 0.45 overcast clouds cabra 37.4725\n",
      " City Not Found \n",
      "282.15 0 76 8 light rain verkhnechusovskiye gorodki 58.1671\n",
      "277.15 0 70 2.05 clear sky belyy yar 53.6039\n",
      "274.96 100 94 10.6 light snow manzhouli 49.6\n",
      "299.64 79 32 0.34 broken clouds darnah 32.767\n",
      "291.25 94 74 5.43 overcast clouds fukue 32.6881\n",
      "287.13 0 77 1.2 clear sky chiredzi -21.05\n",
      "273.78 13 67 1.11 few clouds ayan 56.45\n",
      "296.64 80 77 1.42 broken clouds lumphat 13.4878\n",
      "306.76 5 32 3.52 clear sky porto murtinho -21.6989\n",
      "302.16 100 48 2.08 overcast clouds santiago del estero -27.7951\n",
      " City Not Found \n",
      "295.28 99 94 1 overcast clouds lusambo -4.9667\n",
      "281.15 90 87 5.14 light rain ketchikan 55.3422\n",
      "298.15 75 69 4.12 broken clouds saint-joseph -21.3667\n",
      "294.25 73 76 4.52 broken clouds hualmay -11.0964\n",
      "288.15 100 77 3.93 light rain tandil -37.3217\n",
      "296.67 100 94 0.68 overcast clouds amuntai -2.4177\n",
      " City Not Found \n",
      "285.7 18 95 1.66 light rain nzega -2.479\n",
      "295.99 23 82 3.37 few clouds inhambupe -11.7844\n",
      " City Not Found \n",
      "298.15 0 78 3.6 clear sky guarapari -20.6667\n",
      "294.26 100 85 5.59 overcast clouds bud 39.447\n",
      "278.15 90 81 7.2 moderate rain kodiak 57.79\n",
      "286.76 100 93 1.58 light rain constitucion -35.3333\n",
      "287.15 51 72 8.23 broken clouds waipawa -41.4122\n",
      "293.28 34 96 0.86 scattered clouds myitkyina 25.3833\n",
      "294.73 40 76 4.44 scattered clouds huarmey -10.0681\n",
      "290.15 40 88 1.54 scattered clouds vila franca do campo 37.7167\n",
      "301.02 7 71 0.78 clear sky mawlamyine 16.4914\n",
      "311.36 98 17 4.63 overcast clouds bafoulabe 13.8065\n",
      " City Not Found \n",
      "303.15 1 11 9.77 clear sky laguna 38.421\n",
      "285.15 20 54 2.06 few clouds zlobin 45.2924\n",
      "285.28 4 82 6.47 clear sky wajima 37.4\n",
      "295.15 40 73 3.09 scattered clouds chillicothe 39.3331\n",
      "286.36 1 89 2.85 clear sky xinye 32.5186\n",
      "276.15 90 56 5.14 overcast clouds thompson 55.7435\n",
      "298.82 58 84 1.67 broken clouds amahai -3.3333\n",
      "301.12 100 51 0.41 overcast clouds cedro -6.6067\n",
      "299.55 82 81 0.91 light rain sorong -0.8833\n",
      "281.15 40 66 5.66 scattered clouds comodoro rivadavia -45.8667\n",
      "298.27 92 86 1.37 overcast clouds matara 5.9485\n",
      "285.37 92 61 4.47 overcast clouds irricana 51.3237\n",
      "299.91 100 81 4.17 overcast clouds harper 4.375\n",
      "276.15 0 87 2 clear sky bryukhovychi 49.9047\n",
      "276.15 20 65 1.03 few clouds iqaluit 63.7506\n",
      "293.15 20 60 8.23 few clouds puerto del rosario 28.5004\n",
      "288.15 72 36 0.89 broken clouds polson 47.6936\n",
      "290.93 100 87 0.45 overcast clouds lock haven 41.137\n",
      " City Not Found \n",
      " City Not Found \n",
      "290.97 61 67 5.5 broken clouds naze 28.3667\n",
      "280.15 61 93 3.09 broken clouds mildura -34.2\n",
      "302 55 69 1.44 broken clouds bandarbeyla 9.4942\n",
      "289.34 53 36 2.96 broken clouds hecun 36.5333\n",
      "288.15 100 66 6.8 overcast clouds nikita 44.5333\n",
      "291.15 20 63 4.63 few clouds coquimbo -29.9533\n",
      "283.15 26 84 1.32 scattered clouds cervo 43.6702\n",
      "297.69 88 15 4.56 overcast clouds gazli 40.1333\n",
      "291.1 99 66 3.99 overcast clouds masallatah 32.6167\n",
      "301.15 0 57 2.06 clear sky doha 25.2867\n",
      "290.81 100 96 0.45 overcast clouds watsa 3.0372\n",
      "300.02 30 81 4.21 scattered clouds samarai -10.6167\n",
      "277.94 100 59 7.37 heavy intensity rain khingansk 49.1167\n",
      "302.15 0 34 2.06 clear sky rolandia -23.3097\n",
      "284.57 100 64 4.36 overcast clouds shahreza 32.0339\n",
      "264.15 75 79 4 light snow anadyr 64.75\n",
      "303.15 20 94 1.03 few clouds sattahip 12.6664\n",
      "265.21 78 79 3.1 broken clouds egvekinot 66.3167\n",
      "297.22 100 92 0.8 overcast clouds fonte boa -2.4959\n",
      "274.53 90 58 2.02 overcast clouds gornopravdinsk 60.05\n",
      "298.15 0 25 3.09 clear sky buraydah 26.326\n",
      "287.86 100 92 8.58 overcast clouds kovylkino 54.0388\n",
      "294.77 97 94 1.02 overcast clouds tshikapa -6.4167\n",
      "313.15 75 30 6.17 broken clouds progreso 21.2833\n",
      "298.55 100 89 1.99 overcast clouds meulaboh 4.1363\n",
      "308.23 9 17 5.07 clear sky araouane 18.9048\n",
      " City Not Found \n",
      "273.06 9 82 1.8 clear sky kurumkan 54.3\n",
      "271.72 99 95 0.9 overcast clouds deputatskiy 69.3\n",
      "289.15 0 44 2 clear sky luancheng 37.8792\n",
      "286.48 100 77 2.68 light rain tuatapere -46.1333\n",
      "282.15 100 74 1.25 overcast clouds shahr-e kord 32.3256\n",
      "272.89 4 73 2.53 clear sky ola 59.5833\n",
      "283.71 1 40 9.77 clear sky port hawkesbury 45.6169\n",
      "291 1 68 0.95 clear sky oranjemund -28.55\n",
      "300.34 100 48 1.3 overcast clouds doka 13.5167\n",
      "301.12 52 79 7.87 broken clouds tual -5.6667\n",
      "286.15 90 41 4.5 overcast clouds price 39.5994\n",
      "296.75 100 94 0.98 overcast clouds metro -5.1131\n",
      "273.14 98 98 1.81 light snow ust-kut 56.7938\n",
      "290.37 42 68 3.37 scattered clouds atamanskaya 46.1773\n",
      "275.15 0 55 2.57 clear sky gravdal 68.1214\n",
      "279.15 75 70 5.14 broken clouds kirkwall 58.9848\n",
      "296.48 90 78 2.06 overcast clouds laurel 39.0993\n",
      "301.84 14 68 2.12 few clouds san borja -14.8167\n",
      "288.71 100 94 7.33 overcast clouds kamenka 51.3223\n",
      "298.41 90 84 2.44 overcast clouds pemangkat 1.1667\n",
      "302.15 20 45 5.66 few clouds kahului 20.8947\n",
      "297.35 98 91 0.7 overcast clouds wattegama 6.7989\n",
      "278.15 20 87 4.12 few clouds lublin 51\n",
      "279.15 1 61 7.2 clear sky moose factory 51.2585\n",
      "299.15 20 89 1.54 few clouds banjar -8.19\n",
      "286.15 100 94 1.54 overcast clouds sawtell -30.3833\n",
      " City Not Found \n",
      "299.14 53 81 3.87 broken clouds acarau -2.8856\n",
      "275.15 90 51 3.09 overcast clouds flin flon 54.7682\n",
      "304.82 1 7 5.66 clear sky san ramon 37.7799\n",
      "299.15 40 22 2.06 scattered clouds najran 17.4924\n",
      "279.15 0 61 6.17 clear sky grindavik 63.8424\n",
      "300.15 0 78 4.12 clear sky pitimbu -7.4706\n",
      "300.39 0 25 6.86 clear sky saint-louis 16.3333\n",
      "299.95 100 77 1.18 overcast clouds jacareacanga -6.2222\n",
      "275.64 100 51 5.97 overcast clouds onega 63.9061\n",
      "274.82 100 73 7.02 snow garbolovo 60.3413\n",
      "305.15 20 37 2.06 few clouds santa maria -29.6842\n",
      "304.15 0 40 2.57 clear sky boyuibe -20.4167\n",
      "298.35 79 88 1.41 broken clouds kimbe -5.5502\n",
      "297.15 0 35 3.09 clear sky manbij 36.5281\n",
      "277.15 99 52 7.72 overcast clouds gimli 50.6336\n",
      "289.26 100 82 3.75 overcast clouds kings park 40.8862\n",
      "307.15 20 38 5.66 few clouds baguanos 20.7517\n",
      "279.15 0 49 2 clear sky baiyin 36.5583\n",
      "271.3 100 98 0.84 light snow udachnyy 66.4167\n",
      "299.15 75 61 7.72 broken clouds pangai -19.8\n",
      " City Not Found \n",
      "288.15 61 89 2.28 broken clouds ribeira brava 32.65\n",
      "303.85 20 20 2.79 few clouds sardulgarh 29.7\n",
      "300.44 100 85 6.84 overcast clouds san policarpo 12.1791\n",
      "276.15 0 56 3.6 clear sky rorvik 64.8621\n",
      " City Not Found \n",
      "276.34 42 40 0.16 scattered clouds ulaangom 49.9811\n",
      " City Not Found \n",
      "287.41 53 70 1.33 broken clouds ahipara -35.1667\n",
      "302.16 70 72 0.95 broken clouds kavaratti 10.5669\n",
      " City Not Found \n",
      "301.29 0 58 1.79 clear sky mecca 21.4267\n",
      " City Not Found \n",
      "299.15 98 94 1.03 overcast clouds cukai 4.25\n",
      "300.87 100 76 4.59 overcast clouds robertsport 6.7533\n",
      "307.15 75 66 6.17 broken clouds jacksonville beach 30.2947\n",
      "281.4 100 75 4.8 overcast clouds kazachinskoye 57.6953\n",
      "297.75 30 75 0.59 light rain namibe -15.1961\n",
      "290.93 1 72 9.26 clear sky fortuna 40.5982\n",
      "276.28 98 90 2.25 overcast clouds kuytun 54.3419\n",
      "295.46 95 96 0.93 overcast clouds huaicheng 23.9051\n",
      "307.57 93 22 2.63 overcast clouds ouahigouya 13.5828\n",
      "291.78 100 71 1 overcast clouds taltal -25.4\n",
      "269.14 88 82 1.19 overcast clouds srednekolymsk 67.45\n",
      "286.48 98 100 0.39 overcast clouds calafell 41.2\n",
      "298.71 89 87 1.34 light rain cabo rojo 18.0866\n",
      "299.72 100 83 3.77 overcast clouds tabou 4.423\n",
      "296.03 100 97 0.17 overcast clouds pringsewu -5.3582\n",
      "305.15 20 58 2.57 few clouds alta floresta -9.8756\n",
      " City Not Found \n",
      "298.37 52 88 1.82 broken clouds aitape -3.1374\n",
      "280.15 75 45 5.66 broken clouds chapais 49.7834\n",
      " City Not Found \n",
      "298.22 67 39 2.13 broken clouds palmas de monte alto -14.2672\n",
      "298.71 14 89 1.34 few clouds grand gaube -20.0064\n",
      "281.9 100 57 2.88 overcast clouds moba 33.2288\n",
      "284.26 77 64 0.45 broken clouds siena 43.2167\n",
      "300.11 100 80 2.62 overcast clouds banda aceh 5.5577\n",
      "270.97 100 96 1.26 overcast clouds koshurnikovo 54.1667\n",
      "277.11 0 26 0.37 clear sky hovd 48.0056\n",
      "303.99 0 13 3.47 clear sky atar 20.5169\n",
      "294.15 75 78 4.12 broken clouds itoman 26.1247\n",
      "302.43 98 53 3.95 overcast clouds tamale 9.4008\n",
      "273.49 100 44 0.41 overcast clouds nizhniy odes 63.6445\n",
      "290.97 2 32 0.9 clear sky kuryk 43.2\n",
      "285.15 100 94 4.12 overcast clouds esperance -33.8667\n",
      "281.15 34 36 4.12 scattered clouds hay river 60.8156\n",
      "298.91 80 84 1.16 broken clouds kokopo -4.352\n",
      "278.15 40 81 7.72 scattered clouds brae 60.3964\n",
      "280.53 33 60 3.8 scattered clouds mishkino 55.3389\n",
      " City Not Found \n",
      " City Not Found \n",
      "288.15 100 85 2.2 light rain kiama -34.6833\n",
      " City Not Found \n",
      "277.72 5 47 2.04 clear sky olafsvik 64.8945\n",
      "292.15 80 82 3.09 broken clouds yeppoon -23.1333\n",
      "289.08 11 70 4.95 few clouds perelyub 51.8667\n",
      "278.15 0 38 8.75 clear sky vestmannaeyjar 63.4427\n",
      " City Not Found \n",
      "298.13 49 80 7.78 scattered clouds poum -20.2333\n",
      "294.15 40 68 6.69 scattered clouds sal rei 16.1833\n",
      "297.15 40 64 3.09 haze tekari 24.9333\n",
      "291.66 99 97 1.14 overcast clouds rantepao -2.9701\n",
      "299.63 88 82 3.8 overcast clouds salinopolis -0.6136\n",
      " City Not Found \n",
      "299.52 72 86 5.41 broken clouds polillo 14.7122\n",
      "281.15 90 76 4.63 light rain sitka 57.0531\n",
      "283.62 100 89 3.13 moderate rain xingcheng 40.6167\n",
      " City Not Found \n",
      "292.23 66 94 1.76 broken clouds lukuledi -10.5667\n",
      "290.45 72 68 8.07 broken clouds asfi 32.2994\n",
      "276.15 100 93 2 overcast clouds vikhorevka 56.1201\n",
      "305.37 1 60 0.89 clear sky weatherford 32.7593\n",
      "292.15 0 88 3.6 clear sky nampula -15.1165\n",
      "298.5 100 86 2 overcast clouds padang -0.9492\n",
      "290.15 20 63 3.6 few clouds camacha 33.0833\n",
      "300.06 100 60 0.49 overcast clouds jucas -6.5253\n",
      "280.69 100 56 4.3 overcast clouds babstovo 48.1167\n",
      "290.15 100 88 2.06 light rain gladstone -23.85\n",
      "293.15 40 83 4.12 scattered clouds chicama -7.8447\n",
      "288.61 97 81 5 light rain tsimlyansk 47.6461\n",
      "274.18 64 50 2.94 broken clouds solnechnyy 50.7214\n",
      "301.72 80 72 2.19 broken clouds thinadhoo 0.5333\n",
      "301.15 75 74 4.12 broken clouds russell 32.3502\n",
      "298.15 0 73 2.06 clear sky saint-paul -21.0096\n",
      "299.28 6 73 5.38 clear sky catuday 16.2923\n",
      "297.15 40 60 3.6 scattered clouds inhambane -23.865\n",
      " City Not Found \n",
      "285.93 100 100 1.37 overcast clouds taree -31.9\n",
      "272.59 68 100 2.43 broken clouds kandalaksha 67.162\n",
      " City Not Found \n",
      "307.05 0 31 4.85 clear sky pozo colorado -23.4923\n",
      "289.15 75 100 0.74 mist kathmandu 27.7167\n",
      "287.15 1 26 4.63 clear sky fairbanks 64.8378\n",
      "295.2 100 96 1.11 overcast clouds makokou 0.5738\n",
      "276.15 75 81 5.14 broken clouds klaksvik 62.2266\n",
      "301.15 1 59 7.72 haze half moon bay 37.4636\n",
      "291.15 75 45 2.06 broken clouds portland 45.5234\n",
      "303.15 20 74 5.66 light rain bairiki 1.3292\n",
      " City Not Found \n",
      "302.13 70 74 3.73 broken clouds port blair 11.6667\n",
      "274.69 100 98 1.14 overcast clouds nizhniy kuranakh 58.8353\n",
      "294.09 91 98 1.42 light rain bondo 3.8146\n",
      "295.15 1 43 9.26 clear sky hutchinson 38.0608\n",
      "303.15 0 74 3.09 haze vasai 19.47\n",
      "295.39 99 75 3.48 overcast clouds acari -15.4311\n",
      "289.89 30 65 6.54 scattered clouds dergachi 51.2328\n",
      "271.5 20 87 6.3 few clouds tungor 53.3808\n",
      "283.71 0 62 6.17 light rain nieuwpoort 51.1244\n",
      "281.69 48 33 1.78 scattered clouds ayagoz 47.9714\n",
      "287.15 0 58 1.03 clear sky tateyama 34.9833\n",
      "283.15 39 60 1.34 scattered clouds enying 46.9305\n",
      "271.53 9 85 6.15 clear sky okha 53.5739\n",
      "283.15 75 93 3.09 light rain port hardy 50.6996\n",
      "296.48 75 68 5.14 broken clouds hamilton 39.1834\n",
      "300.2 100 80 4.21 overcast clouds sassandra 4.95\n",
      "292.59 14 73 3.13 few clouds todos santos 23.45\n",
      "297.59 75 94 5.6 broken clouds noumea -22.2763\n",
      "275.15 0 60 6.69 clear sky andenes 69.3143\n",
      "296.03 100 64 1.25 overcast clouds tezu 27.9167\n",
      " City Not Found \n",
      "282.04 77 87 3.58 broken clouds okato -39.2\n",
      " City Not Found \n",
      "301.15 75 78 8.23 broken clouds chirongui -12.9319\n",
      "284.17 100 74 2.27 light rain fuxin 42.0156\n",
      "282.59 100 86 0.89 overcast clouds amposta 40.7131\n",
      "301.88 71 73 2.65 broken clouds kudahuvadhoo 2.6708\n",
      " City Not Found \n",
      "287.15 71 77 3 broken clouds oktyabrskoye 43.0645\n",
      "288.15 40 82 4.63 scattered clouds antibes 43.5624\n",
      "299.33 83 29 1.57 broken clouds shushtar 32.0455\n",
      "286.22 100 73 4.15 overcast clouds bavly 54.393\n",
      "289.2 100 90 3.15 overcast clouds luwingu -10.2621\n",
      "294.26 90 82 4.12 overcast clouds griffith 41.5284\n",
      "276.65 100 96 5.58 overcast clouds velsk 61.0701\n",
      "287.15 0 45 0.76 clear sky lasa 46.6166\n",
      "287.5 82 80 1.34 broken clouds safranbolu 41.2508\n",
      "280.35 21 76 3.36 few clouds glyadyanskoye 54.9075\n",
      "292.76 100 71 0.81 overcast clouds waling 27.9833\n",
      "274.66 100 99 0.96 overcast clouds baykit 61.67\n",
      "298.98 100 81 7.07 light rain kilindoni -7.9139\n",
      "297.15 1 33 10.8 clear sky pacifica 37.6138\n",
      "294.35 78 75 2.8 moderate rain rocha -34.4833\n",
      "286.15 100 73 3.4 overcast clouds oktyabrskiy 54.4815\n"
     ]
    }
   ],
   "source": [
    "# Enter your API key here\n",
    "api_key = \"b9eda530467618ee7b488b14c39de25c\"\n",
    "  \n",
    "# base_url variable to store url\n",
    "base_url = \"http://api.openweathermap.org/data/2.5/weather?\"\n",
    "\n",
    "#loop\n",
    "for city_name in cities:\n",
    "  \n",
    "    # complete_url variable to store\n",
    "    # complete url address\n",
    "    complete_url = base_url + \"appid=\" + api_key + \"&q=\" + city_name\n",
    "  \n",
    "    # get method of requests module\n",
    "    # return response object\n",
    "    response = requests.get(complete_url)\n",
    "  \n",
    "    # json method of response object \n",
    "    # convert json format data into\n",
    "    # python format data\n",
    "    x = response.json()\n",
    "  \n",
    "    # Now x contains list of nested dictionaries\n",
    "    # Check the value of \"cod\" key is equal to\n",
    "    # \"404\", means city is found otherwise,\n",
    "    # city is not found\n",
    "    if x[\"cod\"] != \"404\":\n",
    "  \n",
    "        # store the value of \"main\"\n",
    "        # key in variable y\n",
    "        y = x[\"main\"]\n",
    "        y1 = x[\"wind\"]\n",
    "        y2 = x[\"clouds\"]\n",
    "        y3 = x[\"coord\"]\n",
    "  \n",
    "        # store the value corresponding\n",
    "        # to the \"temp\" key of y\n",
    "        current_temperature = y[\"temp_max\"]\n",
    "  \n",
    "        # store the value corresponding\n",
    "        # to the \"clouds\" key of y\n",
    "        current_clouds = y2[\"all\"]\n",
    "      \n",
    "        # store the value corresponding\n",
    "        # to the \"humidity\" key of y\n",
    "        current_humidity = y[\"humidity\"]\n",
    "    \n",
    "         # store the value corresponding\n",
    "        # to the \"wind\" key of y\n",
    "        current_wind = y1[\"speed\"]\n",
    "  \n",
    "        # store the value of \"weather\"\n",
    "        # key in variable z\n",
    "        z = x[\"weather\"]\n",
    "        \n",
    "        lat = y3[\"lat\"]\n",
    "  \n",
    "        # store the value corresponding \n",
    "        # to the \"description\" key at \n",
    "        # the 0th index of z\n",
    "        weather_description = z[0][\"description\"]\n",
    "  \n",
    "        # print following values\n",
    "        print(current_temperature, current_clouds, current_humidity, current_wind, weather_description, city_name, lat) \n",
    "        row_to_add = {'City':city_name,'Latitude':lat,'Max Temp':current_temperature,'Cloudiness':current_clouds,'Wind Speed':current_wind,'Description':weather_description,'Humidity':current_humidity}\n",
    "        raw_data = raw_data.append(row_to_add, ignore_index = True)\n",
    "   \n",
    "        \n",
    "    else:\n",
    "        print(\" City Not Found \")"
   ]
  },
  {
   "cell_type": "code",
   "execution_count": null,
   "metadata": {},
   "outputs": [],
   "source": []
  },
  {
   "cell_type": "code",
   "execution_count": null,
   "metadata": {
    "scrolled": true
   },
   "outputs": [],
   "source": []
  },
  {
   "cell_type": "markdown",
   "metadata": {},
   "source": [
    "### Convert Raw Data to DataFrame\n",
    "* Export the city data into a .csv.\n",
    "* Display the DataFrame"
   ]
  },
  {
   "cell_type": "code",
   "execution_count": 5,
   "metadata": {},
   "outputs": [
    {
     "name": "stdout",
     "output_type": "stream",
     "text": [
      "<class 'pandas.core.frame.DataFrame'>\n",
      "RangeIndex: 545 entries, 0 to 544\n",
      "Data columns (total 7 columns):\n",
      " #   Column       Non-Null Count  Dtype  \n",
      "---  ------       --------------  -----  \n",
      " 0   City         545 non-null    object \n",
      " 1   Latitude     545 non-null    float64\n",
      " 2   Max Temp     545 non-null    float64\n",
      " 3   Wind Speed   545 non-null    float64\n",
      " 4   Cloudiness   545 non-null    object \n",
      " 5   Description  545 non-null    object \n",
      " 6   Humidity     545 non-null    object \n",
      "dtypes: float64(3), object(4)\n",
      "memory usage: 29.9+ KB\n"
     ]
    }
   ],
   "source": [
    "raw_data.info()"
   ]
  },
  {
   "cell_type": "code",
   "execution_count": 6,
   "metadata": {},
   "outputs": [
    {
     "data": {
      "text/html": [
       "<div>\n",
       "<style scoped>\n",
       "    .dataframe tbody tr th:only-of-type {\n",
       "        vertical-align: middle;\n",
       "    }\n",
       "\n",
       "    .dataframe tbody tr th {\n",
       "        vertical-align: top;\n",
       "    }\n",
       "\n",
       "    .dataframe thead th {\n",
       "        text-align: right;\n",
       "    }\n",
       "</style>\n",
       "<table border=\"1\" class=\"dataframe\">\n",
       "  <thead>\n",
       "    <tr style=\"text-align: right;\">\n",
       "      <th></th>\n",
       "      <th>City</th>\n",
       "      <th>Latitude</th>\n",
       "      <th>Max Temp</th>\n",
       "      <th>Wind Speed</th>\n",
       "      <th>Cloudiness</th>\n",
       "      <th>Description</th>\n",
       "      <th>Humidity</th>\n",
       "    </tr>\n",
       "  </thead>\n",
       "  <tbody>\n",
       "    <tr>\n",
       "      <th>0</th>\n",
       "      <td>saint-philippe</td>\n",
       "      <td>-21.3585</td>\n",
       "      <td>298.15</td>\n",
       "      <td>4.12</td>\n",
       "      <td>75.0</td>\n",
       "      <td>broken clouds</td>\n",
       "      <td>69.0</td>\n",
       "    </tr>\n",
       "    <tr>\n",
       "      <th>1</th>\n",
       "      <td>ancud</td>\n",
       "      <td>-41.8697</td>\n",
       "      <td>285.93</td>\n",
       "      <td>3.60</td>\n",
       "      <td>40.0</td>\n",
       "      <td>scattered clouds</td>\n",
       "      <td>66.0</td>\n",
       "    </tr>\n",
       "    <tr>\n",
       "      <th>2</th>\n",
       "      <td>saint anthony</td>\n",
       "      <td>45.0205</td>\n",
       "      <td>292.15</td>\n",
       "      <td>5.66</td>\n",
       "      <td>90.0</td>\n",
       "      <td>overcast clouds</td>\n",
       "      <td>45.0</td>\n",
       "    </tr>\n",
       "    <tr>\n",
       "      <th>3</th>\n",
       "      <td>avarua</td>\n",
       "      <td>-21.2078</td>\n",
       "      <td>300.15</td>\n",
       "      <td>2.06</td>\n",
       "      <td>20.0</td>\n",
       "      <td>few clouds</td>\n",
       "      <td>61.0</td>\n",
       "    </tr>\n",
       "    <tr>\n",
       "      <th>4</th>\n",
       "      <td>hobart</td>\n",
       "      <td>-42.8794</td>\n",
       "      <td>278.15</td>\n",
       "      <td>4.12</td>\n",
       "      <td>20.0</td>\n",
       "      <td>few clouds</td>\n",
       "      <td>87.0</td>\n",
       "    </tr>\n",
       "    <tr>\n",
       "      <th>...</th>\n",
       "      <td>...</td>\n",
       "      <td>...</td>\n",
       "      <td>...</td>\n",
       "      <td>...</td>\n",
       "      <td>...</td>\n",
       "      <td>...</td>\n",
       "      <td>...</td>\n",
       "    </tr>\n",
       "    <tr>\n",
       "      <th>540</th>\n",
       "      <td>baykit</td>\n",
       "      <td>61.6700</td>\n",
       "      <td>274.66</td>\n",
       "      <td>0.96</td>\n",
       "      <td>100.0</td>\n",
       "      <td>overcast clouds</td>\n",
       "      <td>99.0</td>\n",
       "    </tr>\n",
       "    <tr>\n",
       "      <th>541</th>\n",
       "      <td>kilindoni</td>\n",
       "      <td>-7.9139</td>\n",
       "      <td>298.98</td>\n",
       "      <td>7.07</td>\n",
       "      <td>100.0</td>\n",
       "      <td>light rain</td>\n",
       "      <td>81.0</td>\n",
       "    </tr>\n",
       "    <tr>\n",
       "      <th>542</th>\n",
       "      <td>pacifica</td>\n",
       "      <td>37.6138</td>\n",
       "      <td>297.15</td>\n",
       "      <td>10.80</td>\n",
       "      <td>1.0</td>\n",
       "      <td>clear sky</td>\n",
       "      <td>33.0</td>\n",
       "    </tr>\n",
       "    <tr>\n",
       "      <th>543</th>\n",
       "      <td>rocha</td>\n",
       "      <td>-34.4833</td>\n",
       "      <td>294.35</td>\n",
       "      <td>2.80</td>\n",
       "      <td>78.0</td>\n",
       "      <td>moderate rain</td>\n",
       "      <td>75.0</td>\n",
       "    </tr>\n",
       "    <tr>\n",
       "      <th>544</th>\n",
       "      <td>oktyabrskiy</td>\n",
       "      <td>54.4815</td>\n",
       "      <td>286.15</td>\n",
       "      <td>3.40</td>\n",
       "      <td>100.0</td>\n",
       "      <td>overcast clouds</td>\n",
       "      <td>73.0</td>\n",
       "    </tr>\n",
       "  </tbody>\n",
       "</table>\n",
       "<p>545 rows × 7 columns</p>\n",
       "</div>"
      ],
      "text/plain": [
       "               City  Latitude  Max Temp  Wind Speed  Cloudiness  \\\n",
       "0    saint-philippe  -21.3585    298.15        4.12        75.0   \n",
       "1             ancud  -41.8697    285.93        3.60        40.0   \n",
       "2     saint anthony   45.0205    292.15        5.66        90.0   \n",
       "3            avarua  -21.2078    300.15        2.06        20.0   \n",
       "4            hobart  -42.8794    278.15        4.12        20.0   \n",
       "..              ...       ...       ...         ...         ...   \n",
       "540          baykit   61.6700    274.66        0.96       100.0   \n",
       "541       kilindoni   -7.9139    298.98        7.07       100.0   \n",
       "542        pacifica   37.6138    297.15       10.80         1.0   \n",
       "543           rocha  -34.4833    294.35        2.80        78.0   \n",
       "544     oktyabrskiy   54.4815    286.15        3.40       100.0   \n",
       "\n",
       "          Description  Humidity  \n",
       "0       broken clouds      69.0  \n",
       "1    scattered clouds      66.0  \n",
       "2     overcast clouds      45.0  \n",
       "3          few clouds      61.0  \n",
       "4          few clouds      87.0  \n",
       "..                ...       ...  \n",
       "540   overcast clouds      99.0  \n",
       "541        light rain      81.0  \n",
       "542         clear sky      33.0  \n",
       "543     moderate rain      75.0  \n",
       "544   overcast clouds      73.0  \n",
       "\n",
       "[545 rows x 7 columns]"
      ]
     },
     "execution_count": 6,
     "metadata": {},
     "output_type": "execute_result"
    }
   ],
   "source": [
    "raw_data['Cloudiness'] = raw_data['Cloudiness'].astype(float)\n",
    "raw_data['Humidity'] = raw_data['Humidity'].astype(float)\n",
    "raw_data"
   ]
  },
  {
   "cell_type": "markdown",
   "metadata": {},
   "source": [
    "## Inspect the data and remove the cities where the humidity > 100%.\n",
    "----\n",
    "Skip this step if there are no cities that have humidity > 100%. "
   ]
  },
  {
   "cell_type": "code",
   "execution_count": 24,
   "metadata": {},
   "outputs": [
    {
     "data": {
      "text/plain": [
       "0"
      ]
     },
     "execution_count": 24,
     "metadata": {},
     "output_type": "execute_result"
    }
   ],
   "source": [
    "clean_city_high_humidity = raw_data[raw_data['Humidity'] > 100.0]\n",
    "len(clean_city_high_humidity)"
   ]
  },
  {
   "cell_type": "code",
   "execution_count": 25,
   "metadata": {},
   "outputs": [],
   "source": [
    "#  Get the indices of cities that have humidity over 100%.\n",
    "# \n",
    "#  This step seems unnecessary, even if there is high humidity data, as we can remove those\n",
    "#  entries in a much simpler way"
   ]
  },
  {
   "cell_type": "code",
   "execution_count": 26,
   "metadata": {},
   "outputs": [],
   "source": [
    "# Make a new DataFrame equal to the city data to drop all humidity outliers by index.\n",
    "# Passing \"inplace=False\" will make a copy of the city_data DataFrame, which we call \"clean_city_data\".\n",
    "clean_city_data = raw_data[raw_data['Humidity'] <= 100.0]"
   ]
  },
  {
   "cell_type": "code",
   "execution_count": 27,
   "metadata": {},
   "outputs": [],
   "source": [
    "# Export the clean city data here:\n",
    "\n",
    "clean_city_data.to_csv(r'./clean_city_data.csv')\n"
   ]
  },
  {
   "cell_type": "markdown",
   "metadata": {},
   "source": [
    "## Plotting the Data\n",
    "* Use proper labeling of the plots using plot titles (including date of analysis) and axes labels.\n",
    "* Save the plotted figures as .pngs."
   ]
  },
  {
   "cell_type": "markdown",
   "metadata": {},
   "source": [
    "## Latitude vs. Temperature Plot"
   ]
  },
  {
   "cell_type": "code",
   "execution_count": 28,
   "metadata": {
    "scrolled": true
   },
   "outputs": [
    {
     "data": {
      "image/png": "[encoded data removed]",
      "text/plain": [
       "<Figure size 432x288 with 1 Axes>"
      ]
     },
     "metadata": {
      "needs_background": "light"
     },
     "output_type": "display_data"
    },
    {
     "data": {
      "text/plain": [
       "<Figure size 432x288 with 0 Axes>"
      ]
     },
     "metadata": {},
     "output_type": "display_data"
    }
   ],
   "source": [
    "from datetime import date\n",
    "\n",
    "today = date.today()\n",
    "d2 = today.strftime(\"%B %d, %Y\")\n",
    "\n",
    "plt.plot(clean_city_data['Latitude'],clean_city_data['Max Temp'],'b.')\n",
    "plt.xlabel('Latitude (degrees)')\n",
    "plt.ylabel('Max Temperature (Kelvin)')\n",
    "plt.title('World Temperature Data - %s' % d2)\n",
    "plt.show()\n",
    "plt.savefig('World_Temperature.png')"
   ]
  },
  {
   "cell_type": "markdown",
   "metadata": {},
   "source": [
    "## Latitude vs. Humidity Plot"
   ]
  },
  {
   "cell_type": "code",
   "execution_count": 29,
   "metadata": {},
   "outputs": [
    {
     "data": {
      "image/png": "[encoded data removed]",
      "text/plain": [
       "<Figure size 432x288 with 1 Axes>"
      ]
     },
     "metadata": {
      "needs_background": "light"
     },
     "output_type": "display_data"
    },
    {
     "data": {
      "text/plain": [
       "<Figure size 432x288 with 0 Axes>"
      ]
     },
     "metadata": {},
     "output_type": "display_data"
    }
   ],
   "source": [
    "plt.plot(clean_city_data['Latitude'],clean_city_data['Humidity'],'b.')\n",
    "plt.xlabel('Latitude (degrees)')\n",
    "plt.ylabel('Humidity (percent)')\n",
    "plt.title('World Humidity Data - %s' % d2)\n",
    "plt.show()\n",
    "plt.savefig('World_Humidity.png')"
   ]
  },
  {
   "cell_type": "markdown",
   "metadata": {},
   "source": [
    "## Latitude vs. Cloudiness Plot"
   ]
  },
  {
   "cell_type": "code",
   "execution_count": 30,
   "metadata": {},
   "outputs": [
    {
     "data": {
      "image/png": "[encoded data removed]",
      "text/plain": [
       "<Figure size 432x288 with 1 Axes>"
      ]
     },
     "metadata": {
      "needs_background": "light"
     },
     "output_type": "display_data"
    },
    {
     "data": {
      "text/plain": [
       "<Figure size 432x288 with 0 Axes>"
      ]
     },
     "metadata": {},
     "output_type": "display_data"
    }
   ],
   "source": [
    "plt.plot(clean_city_data['Latitude'],clean_city_data['Cloudiness'],'b.')\n",
    "plt.xlabel('Latitude (degrees)')\n",
    "plt.ylabel('Cloudiness (percent)')\n",
    "plt.title('World Cloudiness Data - %s' % d2)\n",
    "plt.show()\n",
    "plt.savefig('World_Cloudiness.png')"
   ]
  },
  {
   "cell_type": "markdown",
   "metadata": {},
   "source": [
    "## Latitude vs. Wind Speed Plot"
   ]
  },
  {
   "cell_type": "code",
   "execution_count": 31,
   "metadata": {},
   "outputs": [
    {
     "data": {
      "image/png": "[encoded data removed]",
      "text/plain": [
       "<Figure size 432x288 with 1 Axes>"
      ]
     },
     "metadata": {
      "needs_background": "light"
     },
     "output_type": "display_data"
    },
    {
     "data": {
      "text/plain": [
       "<Figure size 432x288 with 0 Axes>"
      ]
     },
     "metadata": {},
     "output_type": "display_data"
    }
   ],
   "source": [
    "plt.plot(clean_city_data['Latitude'],clean_city_data['Wind Speed'],'b.')\n",
    "plt.xlabel('Latitude (degrees)')\n",
    "plt.ylabel('Wind Speed (mph)')\n",
    "plt.title('World Wind Speed Data - %s' % d2)\n",
    "plt.show()\n",
    "plt.savefig('World_WindSpeed.png')"
   ]
  },
  {
   "cell_type": "markdown",
   "metadata": {},
   "source": [
    "## Linear Regression"
   ]
  },
  {
   "cell_type": "code",
   "execution_count": 14,
   "metadata": {},
   "outputs": [],
   "source": [
    "def linear_plot(x,y,xstring,ystring,thistitle):\n",
    "    res = linregress(x, y)\n",
    "    \n",
    "    from datetime import date\n",
    "\n",
    "    today = date.today()\n",
    "    d2 = today.strftime(\"%B %d, %Y\")\n",
    "\n",
    "    plt.plot(x,y,'b.',label='Data')\n",
    "    plt.plot(x, res.intercept + res.slope*x, 'r-', label='Linear Fit')\n",
    "    plt.xlabel(xstring)\n",
    "    plt.ylabel(ystring)\n",
    "    plt.title(thistitle % d2)\n",
    "    plt.legend()\n",
    "    plt.show()\n",
    "\n",
    "    from scipy.stats import t\n",
    "    tinv = lambda p, dof: abs(t.ppf(p/2, dof))\n",
    "    ts = tinv(0.05, len(x)-2)\n",
    "    print(f\"R-squared: {res.rvalue**2:.6f}\")\n",
    "    print(f\"slope (95%): {res.slope:.6f} +/- {ts*res.stderr:.6f}\")"
   ]
  },
  {
   "cell_type": "code",
   "execution_count": 15,
   "metadata": {},
   "outputs": [
    {
     "data": {
      "image/png": "[encoded data removed]",
      "text/plain": [
       "<Figure size 432x288 with 1 Axes>"
      ]
     },
     "metadata": {
      "needs_background": "light"
     },
     "output_type": "display_data"
    },
    {
     "name": "stdout",
     "output_type": "stream",
     "text": [
      "R-squared: 0.773977\n",
      "slope (95%): -0.503389 +/- 0.027622\n"
     ]
    }
   ],
   "source": [
    "clean_city_north = clean_city_data[clean_city_data['Latitude']>0.0]\n",
    "\n",
    "linear_plot(clean_city_north['Latitude'],clean_city_north['Max Temp'],'Latitude (degrees)','Max Temperature (Kelvin)','Northern Hemisphere Temperature Data - %s')"
   ]
  },
  {
   "cell_type": "markdown",
   "metadata": {},
   "source": [
    "####  Northern Hemisphere - Max Temp vs. Latitude Linear Regression"
   ]
  },
  {
   "cell_type": "code",
   "execution_count": 16,
   "metadata": {},
   "outputs": [
    {
     "data": {
      "image/png": "[encoded data removed]",
      "text/plain": [
       "<Figure size 432x288 with 1 Axes>"
      ]
     },
     "metadata": {
      "needs_background": "light"
     },
     "output_type": "display_data"
    },
    {
     "name": "stdout",
     "output_type": "stream",
     "text": [
      "R-squared: 0.466319\n",
      "slope (95%): 0.337117 +/- 0.055265\n"
     ]
    }
   ],
   "source": [
    "clean_city_south = clean_city_data[clean_city_data['Latitude']<0.0]\n",
    "\n",
    "linear_plot(clean_city_south['Latitude'],clean_city_south['Max Temp'],'Latitude (degrees)','Max Temperature (Kelvin)','Southern Hemisphere Temperature Data - %s')"
   ]
  },
  {
   "cell_type": "markdown",
   "metadata": {},
   "source": [
    "####  Southern Hemisphere - Max Temp vs. Latitude Linear Regression"
   ]
  },
  {
   "cell_type": "code",
   "execution_count": 17,
   "metadata": {},
   "outputs": [
    {
     "data": {
      "image/png": "[encoded data removed]",
      "text/plain": [
       "<Figure size 432x288 with 1 Axes>"
      ]
     },
     "metadata": {
      "needs_background": "light"
     },
     "output_type": "display_data"
    },
    {
     "name": "stdout",
     "output_type": "stream",
     "text": [
      "R-squared: 0.007570\n",
      "slope (95%): 0.097482 +/- 0.113334\n"
     ]
    }
   ],
   "source": [
    "linear_plot(clean_city_north['Latitude'],clean_city_north['Humidity'],'Latitude (degrees)','Humidity (percent)','Northern Hemisphere Humidity Data - %s')"
   ]
  },
  {
   "cell_type": "markdown",
   "metadata": {},
   "source": [
    "####  Northern Hemisphere - Humidity (%) vs. Latitude Linear Regression"
   ]
  },
  {
   "cell_type": "code",
   "execution_count": 18,
   "metadata": {},
   "outputs": [
    {
     "data": {
      "image/png": "[encoded data removed]",
      "text/plain": [
       "<Figure size 432x288 with 1 Axes>"
      ]
     },
     "metadata": {
      "needs_background": "light"
     },
     "output_type": "display_data"
    },
    {
     "name": "stdout",
     "output_type": "stream",
     "text": [
      "R-squared: 0.063940\n",
      "slope (95%): 0.293770 +/- 0.172245\n"
     ]
    }
   ],
   "source": [
    "linear_plot(clean_city_south['Latitude'],clean_city_south['Humidity'],'Latitude (degrees)','Humidity (percent)','Southern Hemisphere Humidity Data - %s')"
   ]
  },
  {
   "cell_type": "markdown",
   "metadata": {},
   "source": [
    "####  Southern Hemisphere - Humidity (%) vs. Latitude Linear Regression"
   ]
  },
  {
   "cell_type": "code",
   "execution_count": 19,
   "metadata": {},
   "outputs": [
    {
     "data": {
      "image/png": "[encoded data removed]",
      "text/plain": [
       "<Figure size 432x288 with 1 Axes>"
      ]
     },
     "metadata": {
      "needs_background": "light"
     },
     "output_type": "display_data"
    },
    {
     "name": "stdout",
     "output_type": "stream",
     "text": [
      "R-squared: 0.000005\n",
      "slope (95%): 0.004235 +/- 0.197965\n"
     ]
    }
   ],
   "source": [
    "linear_plot(clean_city_north['Latitude'],clean_city_north['Cloudiness'],'Latitude (degrees)','Cloudiness (percent)','Northern Hemisphere Cloudiness Data - %s')"
   ]
  },
  {
   "cell_type": "markdown",
   "metadata": {},
   "source": [
    "####  Northern Hemisphere - Cloudiness (%) vs. Latitude Linear Regression"
   ]
  },
  {
   "cell_type": "code",
   "execution_count": 20,
   "metadata": {},
   "outputs": [
    {
     "data": {
      "image/png": "[encoded data removed]",
      "text/plain": [
       "<Figure size 432x288 with 1 Axes>"
      ]
     },
     "metadata": {
      "needs_background": "light"
     },
     "output_type": "display_data"
    },
    {
     "name": "stdout",
     "output_type": "stream",
     "text": [
      "R-squared: 0.002620\n",
      "slope (95%): 0.137013 +/- 0.409640\n"
     ]
    }
   ],
   "source": [
    "linear_plot(clean_city_south['Latitude'],clean_city_south['Cloudiness'],'Latitude (degrees)','Cloudiness (percent)','Southern Hemisphere Cloudiness Data - %s')"
   ]
  },
  {
   "cell_type": "markdown",
   "metadata": {},
   "source": [
    "####  Southern Hemisphere - Cloudiness (%) vs. Latitude Linear Regression"
   ]
  },
  {
   "cell_type": "code",
   "execution_count": 21,
   "metadata": {},
   "outputs": [
    {
     "data": {
      "image/png": "[encoded data removed]",
      "text/plain": [
       "<Figure size 432x288 with 1 Axes>"
      ]
     },
     "metadata": {
      "needs_background": "light"
     },
     "output_type": "display_data"
    },
    {
     "name": "stdout",
     "output_type": "stream",
     "text": [
      "R-squared: 0.022134\n",
      "slope (95%): 0.018512 +/- 0.012494\n"
     ]
    }
   ],
   "source": [
    "linear_plot(clean_city_north['Latitude'],clean_city_north['Wind Speed'],'Latitude (degrees)','WindSpeed(percent)','Northern Hemisphere Wind Speed Data - %s')"
   ]
  },
  {
   "cell_type": "markdown",
   "metadata": {},
   "source": [
    "####  Northern Hemisphere - Wind Speed (mph) vs. Latitude Linear Regression"
   ]
  },
  {
   "cell_type": "code",
   "execution_count": 22,
   "metadata": {},
   "outputs": [
    {
     "data": {
      "image/png": "[encoded data removed]",
      "text/plain": [
       "<Figure size 432x288 with 1 Axes>"
      ]
     },
     "metadata": {
      "needs_background": "light"
     },
     "output_type": "display_data"
    },
    {
     "name": "stdout",
     "output_type": "stream",
     "text": [
      "R-squared: 0.081397\n",
      "slope (95%): -0.047501 +/- 0.024453\n"
     ]
    }
   ],
   "source": [
    "linear_plot(clean_city_south['Latitude'],clean_city_south['Wind Speed'],'Latitude (degrees)','WindSpeed(percent)','Southern Hemisphere Wind Speed Data - %s')"
   ]
  },
  {
   "cell_type": "markdown",
   "metadata": {},
   "source": [
    "####  Southern Hemisphere - Wind Speed (mph) vs. Latitude Linear Regression"
   ]
  },
  {
   "cell_type": "code",
   "execution_count": null,
   "metadata": {},
   "outputs": [],
   "source": []
  },
  {
   "cell_type": "code",
   "execution_count": null,
   "metadata": {},
   "outputs": [],
   "source": []
  }
 ],
 "metadata": {
  "anaconda-cloud": {},
  "kernel_info": {
   "name": "python3"
  },
  "kernelspec": {
   "display_name": "Python 3",
   "language": "python",
   "name": "python3"
  },
  "language_info": {
   "codemirror_mode": {
    "name": "ipython",
    "version": 3
   },
   "file_extension": ".py",
   "mimetype": "text/x-python",
   "name": "python",
   "nbconvert_exporter": "python",
   "pygments_lexer": "ipython3",
   "version": "3.6.8"
  },
  "latex_envs": {
   "LaTeX_envs_menu_present": true,
   "autoclose": false,
   "autocomplete": true,
   "bibliofile": "biblio.bib",
   "cite_by": "apalike",
   "current_citInitial": 1,
   "eqLabelWithNumbers": true,
   "eqNumInitial": 1,
   "hotkeys": {
    "equation": "Ctrl-E",
    "itemize": "Ctrl-I"
   },
   "labels_anchors": false,
   "latex_user_defs": false,
   "report_style_numbering": false,
   "user_envs_cfg": false
  },
  "nteract": {
   "version": "0.12.3"
  }
 },
 "nbformat": 4,
 "nbformat_minor": 4
}
