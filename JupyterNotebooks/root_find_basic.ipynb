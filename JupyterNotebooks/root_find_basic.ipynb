{
 "cells": [
  {
   "cell_type": "code",
   "execution_count": 17,
   "metadata": {},
   "outputs": [],
   "source": [
    "import numpy as np\n",
    "import matplotlib.pyplot as plt\n",
    "\n",
    "import time"
   ]
  },
  {
   "cell_type": "code",
   "execution_count": 18,
   "metadata": {},
   "outputs": [],
   "source": [
    "\n",
    "# define a generator function for the polynomial\n",
    "def generator_function(x,*par):\n",
    "    return par[0]+par[1]*x+par[2]*x*x+par[3]*x*x*x\n",
    "\n",
    "# Set the x limits, and the number of points, and calculate the interval\n",
    "xl = -4.0\n",
    "xh = 4.0\n",
    "npoints = 1000000\n",
    "\n",
    "dx = (xh-xl)/npoints\n",
    "\n",
    "xroots = []\n",
    "yroots = []\n",
    "\n",
    "par = np.array([1.80,-4.05,0.4,1.0])"
   ]
  },
  {
   "cell_type": "code",
   "execution_count": 19,
   "metadata": {},
   "outputs": [],
   "source": [
    "# Define the data arrays (x and y)\n",
    "#\n",
    "# Note:  we are \"digitizing\" this function, based on npoints defined in the cell above!!!!!\n",
    "\n",
    "xval = np.arange(xl,xh,dx)\n",
    "yval = generator_function(xval,*par)"
   ]
  },
  {
   "cell_type": "code",
   "execution_count": 20,
   "metadata": {},
   "outputs": [
    {
     "name": "stdout",
     "output_type": "stream",
     "text": [
      "Found root at x = -2.400000\n",
      "\n",
      "Found root at x = 0.500000\n",
      "\n",
      "Found root at x = 1.500000\n",
      "\n",
      "Total number of roots found = 3\n",
      "\n",
      "Total time =  0.0019791126251220703\n"
     ]
    }
   ],
   "source": [
    "start = time.time()\n",
    "\n",
    "# Define the number of data points in each of the \"slices\" in x in which we will look for roots.\n",
    "nsearch = 1000\n",
    "\n",
    "# calculate the number of slices\n",
    "niter = (int)(npoints/nsearch)\n",
    "\n",
    "# use the left most data point in the first slice as the comparison point, and keep track of the number of roots found\n",
    "ycomp = yval[0]\n",
    "xcomp = xval[0]\n",
    "nroots_found = 0\n",
    "\n",
    "# loop over the slices\n",
    "for i in range(1,int(niter)+1):\n",
    "    # Begin at the right most data point in the slice \n",
    "    #print (i)\n",
    "    y = yval[nsearch*i-1]\n",
    "    x = xval[nsearch*i-1]\n",
    "    \n",
    "    # Check to see if we got lucky and landed on an exact zero of the function\n",
    "    if (y==0):\n",
    "        print (\"Found exact root at x = %f\\n\" % x)\n",
    "        xroots.append(x)\n",
    "        yroots.append(0.0)\n",
    "        nroots_found = nroots_found + 1\n",
    "    # Otherwise, check to see if there is a root in between the left and right comparison points\n",
    "    if (y*ycomp<0.0):\n",
    "        # There is a root in the interval, so apply bisection method\n",
    "        #\n",
    "        # First, get the x-values of the left and right ends of the slice\n",
    "        \n",
    "        #print (y,ycomp)\n",
    "        \n",
    "        xlow = xcomp\n",
    "        xhigh = x\n",
    "        # define a \"tolerance\" at which point we will say we have found a zero\n",
    "        epsilon = 1.0E-6\n",
    "        \n",
    "        diff = 1.0E12\n",
    "        n_eps_iter = 0\n",
    "        while (diff>epsilon and n_eps_iter < 1000):\n",
    "            #print (\"in epsilon loop\")\n",
    "            # Calculate the function values at the left, right, and midpoints of the slice\n",
    "            fa = generator_function(xlow,*par)\n",
    "            fb = generator_function(xhigh,*par)\n",
    "            xmid = (xhigh+xlow)/2.0\n",
    "            fc = generator_function(xmid,*par)\n",
    "            #print (fa,fb,fc)\n",
    "            #print (xlow,xhigh,xmid)\n",
    "            \n",
    "            # Decide if the root is in the left half or right half of the interval, and redefine\n",
    "            # the x interval accordingly\n",
    "            product = fa*fc\n",
    "            if (product < 0):\n",
    "                xhigh = xmid\n",
    "            else:\n",
    "                xlow = xmid\n",
    "\n",
    "            # update the difference value\n",
    "            diff = np.abs(fc)\n",
    "            n_eps_iter = n_eps_iter + 1\n",
    "\n",
    "        print (\"Found root at x = %f\\n\" % xmid)\n",
    "        xroots.append(xmid)\n",
    "        yroots.append(0.0)\n",
    "        nroots_found = nroots_found + 1\n",
    "        \n",
    "        # move to the next slice\n",
    "        ycomp = y\n",
    "        xcomp = x\n",
    "    else:\n",
    "        # move to the next slice\n",
    "        ycomp = y\n",
    "        xcomp = x\n",
    "\n",
    "print (\"Total number of roots found = %d\\n\" % nroots_found)\n",
    "\n",
    "end = time.time()\n",
    "print(\"Total time = \",(end - start))\n",
    "time_ejb = (end-start)"
   ]
  },
  {
   "cell_type": "code",
   "execution_count": 21,
   "metadata": {},
   "outputs": [
    {
     "data": {
      "image/png": "[encoded data removed]",
      "text/plain": [
       "<Figure size 432x288 with 1 Axes>"
      ]
     },
     "metadata": {
      "needs_background": "light"
     },
     "output_type": "display_data"
    }
   ],
   "source": [
    "# Generate the figure and the axes \n",
    "fig, axs = plt.subplots(nrows=1, ncols=1) \n",
    "\n",
    "# On the first axis, plot the sine and label the ordinate \n",
    "axs.plot(xval,yval)\n",
    "axs.scatter(xroots,yroots)\n",
    "axs.set_ylabel('Y Value')\n",
    "axs.set_xlabel('X Value')\n",
    "axs.axhline()\n",
    "plt.show()"
   ]
  },
  {
   "cell_type": "code",
   "execution_count": null,
   "metadata": {},
   "outputs": [],
   "source": []
  }
 ],
 "metadata": {
  "kernelspec": {
   "display_name": "Python 3",
   "language": "python",
   "name": "python3"
  },
  "language_info": {
   "codemirror_mode": {
    "name": "ipython",
    "version": 3
   },
   "file_extension": ".py",
   "mimetype": "text/x-python",
   "name": "python",
   "nbconvert_exporter": "python",
   "pygments_lexer": "ipython3",
   "version": "3.6.8"
  }
 },
 "nbformat": 4,
 "nbformat_minor": 4
}
