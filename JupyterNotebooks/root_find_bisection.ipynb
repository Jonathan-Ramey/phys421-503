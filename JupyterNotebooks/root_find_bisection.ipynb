{
 "cells": [
  {
   "cell_type": "code",
   "execution_count": 1,
   "metadata": {},
   "outputs": [],
   "source": [
    "import numpy as np\n",
    "import matplotlib.pyplot as plt"
   ]
  },
  {
   "cell_type": "code",
   "execution_count": 2,
   "metadata": {},
   "outputs": [],
   "source": [
    "def generating_function(x):\n",
    "    result = x**3 + x - 4\n",
    "    return result"
   ]
  },
  {
   "cell_type": "code",
   "execution_count": 3,
   "metadata": {},
   "outputs": [
    {
     "name": "stdout",
     "output_type": "stream",
     "text": [
      "1.37875 1.37885 1.37875\n"
     ]
    }
   ],
   "source": [
    "xl = 1.0\n",
    "xh = 4.0\n",
    "\n",
    "diff = 1.0E12\n",
    "epsilon = .001\n",
    "\n",
    "n=1\n",
    "\n",
    "while (diff > epsilon):\n",
    "    \n",
    "    if n>10000:\n",
    "        break\n",
    "    n = n + 1\n",
    "    \n",
    "    fl = generating_function(xl)\n",
    "    fh = generating_function(xh)\n",
    "    xm = (xh-xl)/2.0+xl\n",
    "    fm = generating_function(xm)\n",
    "    \n",
    "    if (fl*fm < 0):\n",
    "        xh = xm\n",
    "        diff = np.abs(fm-fl)\n",
    "    else:\n",
    "        xl = xm\n",
    "        diff = np.abs(fm-fh)\n",
    "        \n",
    "    \n",
    "        \n",
    "print (\"%0.5f %0.5f %0.5f\" % (xl,xh,xm))\n"
   ]
  },
  {
   "cell_type": "code",
   "execution_count": null,
   "metadata": {},
   "outputs": [],
   "source": []
  }
 ],
 "metadata": {
  "kernelspec": {
   "display_name": "Python 3",
   "language": "python",
   "name": "python3"
  },
  "language_info": {
   "codemirror_mode": {
    "name": "ipython",
    "version": 3
   },
   "file_extension": ".py",
   "mimetype": "text/x-python",
   "name": "python",
   "nbconvert_exporter": "python",
   "pygments_lexer": "ipython3",
   "version": "3.6.8"
  }
 },
 "nbformat": 4,
 "nbformat_minor": 4
}
