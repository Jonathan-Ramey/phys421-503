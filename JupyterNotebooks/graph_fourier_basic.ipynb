{
 "cells": [
  {
   "cell_type": "code",
   "execution_count": 15,
   "metadata": {},
   "outputs": [],
   "source": [
    "import numpy as np\n",
    "from scipy.fftpack import fft\n",
    "import random"
   ]
  },
  {
   "cell_type": "code",
   "execution_count": 28,
   "metadata": {},
   "outputs": [],
   "source": [
    "# Choose the signal frequency (0.2Hz) and the number of cycles to sample over (2) and the number of samples (50)\n",
    "\n",
    "f_s = 0.2\n",
    "N_cycles = 2.0\n",
    "N_samples = 50\n",
    "\n",
    "# Calculate the timespan\n",
    "period = 1/f_s\n",
    "T =  N_cycles*period\n",
    "\n",
    "# Set the number of terms in the Fourier series (initially, equal to the number of samples, which is bad!)\n",
    "\n",
    "N_terms = int(N_samples/2)\n",
    "\n",
    "random.seed(1)"
   ]
  },
  {
   "cell_type": "code",
   "execution_count": 29,
   "metadata": {},
   "outputs": [],
   "source": [
    "# Calculate the spacing (in time) between data points\n",
    "dt = T/N_samples\n",
    "\n",
    "# Set up arrays to hold the time (x-axis), amplitude (y-axis), and frequencies (Fourier transform)\n",
    "t = np.zeros(N_samples)\n",
    "y = np.zeros(N_samples)\n",
    "f = np.zeros(N_terms)\n",
    "\n",
    "yhigh = np.zeros(1000)\n",
    "ylow = np.zeros(1000)\n",
    "time = np.zeros(1000)\n",
    "\n",
    "ytReal = np.zeros(N_terms)\n",
    "ytImag = np.zeros(N_terms)\n",
    "\n",
    "yfftReal = np.zeros(N_terms)\n",
    "yfftImag = np.zeros(N_terms)\n",
    "\n",
    "power = np.zeros(N_terms)\n",
    "powerfft = np.zeros(N_terms)"
   ]
  },
  {
   "cell_type": "markdown",
   "metadata": {},
   "source": [
    "## Theory\n",
    "\n",
    "The function that we will choose is:\n",
    "\n",
    "$y(t) = sin(2 \\pi f_s t)$\n",
    "\n",
    "The Fourier approximation is given by:\n",
    "\n",
    "$y(t) \\approx \\frac{a_0}{2} + \\sum_{n=1}^{\\infty} \\left ( a_n cos(\\frac{2 \\pi n t}{T}) + b_n sin(\\frac{2 \\pi n t}{T}) \\right )$\n",
    "\n",
    "where $T$ is the time-span.\n",
    "\n",
    "For the chosen function, we expect:\n",
    "\n",
    "$a_0 = 0$\n",
    "\n",
    "$a_n = 0,~for~all~n$\n",
    "\n",
    "Since we have a single sine wave with with frequency, $f_s$, we would expect one of the $b_n$ values to be non-zero, and the rest zero.  The value of n for the single non-zero $b_n$ value can be calculated from:\n",
    "\n",
    "$2 \\pi f_s = \\frac{2 \\pi n}{T}$\n",
    "\n",
    "$n = T\\cdot f_s = (0.2)(10.0) = 2$\n",
    "\n",
    "Thus, we expect:\n",
    "\n",
    "$b_2 = 1, and~all~other~b_n=0$"
   ]
  },
  {
   "cell_type": "code",
   "execution_count": 30,
   "metadata": {},
   "outputs": [
    {
     "name": "stdout",
     "output_type": "stream",
     "text": [
      "[ 0.00000000e+00  2.48689891e-01  4.81753681e-01  6.84547109e-01\n",
      "  8.44327934e-01  9.51056525e-01  9.98026741e-01  9.82287266e-01\n",
      "  9.04827054e-01  7.70513243e-01  5.87785262e-01  3.68124556e-01\n",
      "  1.25333235e-01 -1.25333234e-01 -3.68124556e-01 -5.87785261e-01\n",
      " -7.70513246e-01 -9.04827070e-01 -9.82287268e-01 -9.98026729e-01\n",
      " -9.51056517e-01 -8.44327935e-01 -6.84547119e-01 -4.81753678e-01\n",
      " -2.48689888e-01 -2.44929362e-16  2.48689887e-01  4.81753676e-01\n",
      "  6.84547112e-01  8.44327934e-01  9.51056521e-01  9.98026733e-01\n",
      "  9.82287255e-01  9.04827061e-01  7.70513247e-01  5.87785253e-01\n",
      "  3.68124559e-01  1.25333235e-01 -1.25333235e-01 -3.68124554e-01\n",
      " -5.87785264e-01 -7.70513256e-01 -9.04827055e-01 -9.82287257e-01\n",
      " -9.98026743e-01 -9.51056530e-01 -8.44327941e-01 -6.84547112e-01\n",
      " -4.81753682e-01 -2.48689890e-01] [0.  0.2 0.4 0.6 0.8 1.  1.2 1.4 1.6 1.8 2.  2.2 2.4 2.6 2.8 3.  3.2 3.4\n",
      " 3.6 3.8 4.  4.2 4.4 4.6 4.8] [0.  0.2 0.4 0.6 0.8 1.  1.2 1.4 1.6 1.8 2.  2.2 2.4 2.6 2.8 3.  3.2 3.4\n",
      " 3.6 3.8 4.  4.2 4.4 4.6 4.8 5.  5.2 5.4 5.6 5.8 6.  6.2 6.4 6.6 6.8 7.\n",
      " 7.2 7.4 7.6 7.8 8.  8.2 8.4 8.6 8.8 9.  9.2 9.4 9.6 9.8]\n"
     ]
    }
   ],
   "source": [
    "# Create the data set.  Add a little bit of random noise into the signal.\n",
    "\n",
    "for i in range(N_samples):\n",
    "    t[i]=i*dt\n",
    "    y[i]=(1.0+0.00000002*random.uniform(0,1))*np.sin(2.0*np.pi*t[i]*f_s)\n",
    "    \n",
    "for i in range(N_terms):\n",
    "    f[i] = i/(N_terms*dt)\n",
    "    \n",
    "    \n",
    "print (y,f,t)"
   ]
  },
  {
   "cell_type": "markdown",
   "metadata": {},
   "source": [
    "# Calculating the coefficients\n",
    "\n",
    "We will determine the coefficients by numerical integration, according to:\n",
    "\n",
    "$a_0 = \\frac{2}{T} \\int_0^T f(t) dt$\n",
    "\n",
    "$a_n = \\frac{2}{T} \\int_0^T f(t) cos(\\frac{2 \\pi n}{T} t) dt$\n",
    "\n",
    "$b_n = \\frac{2}{T} \\int_0^T f(t) sin(\\frac{2 \\pi n}{T} t) dt$"
   ]
  },
  {
   "cell_type": "code",
   "execution_count": 31,
   "metadata": {},
   "outputs": [
    {
     "name": "stdout",
     "output_type": "stream",
     "text": [
      "Brash:  0.01115188654512167\n"
     ]
    }
   ],
   "source": [
    "from timeit import default_timer as timer\n",
    "\n",
    "start = timer()\n",
    "\n",
    "# Define a useful constant, because I am sick of typing it so many times!\n",
    "\n",
    "twopiT=2.0*np.pi/T\n",
    "\n",
    "# rather than just making things exactly zero, make them a small number, so that logarithmic plots do not fail.\n",
    "epsilon = 0.001\n",
    "\n",
    "for n in range(N_terms):\n",
    "    ytReal[n]=epsilon\n",
    "    ytImag[n]=epsilon\n",
    "    for i in range(N_samples):\n",
    "        ytReal[n] = ytReal[n] + 2.0/T*y[i]*np.cos(twopiT*n*i*dt)*dt\n",
    "        ytImag[n] = ytImag[n] + 2.0/T*y[i]*np.sin(twopiT*n*i*dt)*dt  \n",
    "    power[n]=(ytReal[n]**2+ytImag[n]**2)\n",
    "    \n",
    "end = timer()\n",
    "btime = end-start\n",
    "print (\"Brash: \",btime)\n",
    "ymaxr = max(ytReal)\n",
    "ymaxi = max(ytImag)\n",
    "ymax = 1.2*max(ymaxr,ymaxi)"
   ]
  },
  {
   "cell_type": "code",
   "execution_count": 32,
   "metadata": {},
   "outputs": [
    {
     "name": "stdout",
     "output_type": "stream",
     "text": [
      "Average Power = 0.50 Watts.\n",
      "Nyquist frequency = 2.50 Hz.\n"
     ]
    }
   ],
   "source": [
    "integral = 0.0\n",
    "N_real = int(N_terms)\n",
    "\n",
    "for n in range(N_real):\n",
    "    integral = integral + power[n]\n",
    "print(\"Average Power = %.2f Watts.\" % (integral/2.0))\n",
    "\n",
    "#Nyquist frequency is 1/2 the sampling rate frequency\n",
    "f_nyquist = 0.5*(1.0/dt)\n",
    "print(\"Nyquist frequency = %.2f Hz.\" % f_nyquist)\n",
    "\n",
    "for i in range(1000):\n",
    "    time[i] = i*T/1000.0\n",
    "    ylow[i] = np.sin(2.0*np.pi*time[i]*f_s)\n",
    "    yhigh[i] = -np.sin(2.0*np.pi*time[i]*(2.0*f_nyquist-f_s))\n"
   ]
  },
  {
   "cell_type": "code",
   "execution_count": 33,
   "metadata": {},
   "outputs": [
    {
     "name": "stdout",
     "output_type": "stream",
     "text": [
      "Python:  0.0005247090011835098\n",
      "Ratio =  21.25346910376605\n",
      "0.0009999981079202701 -1.892079699583604e-09 0.001 -0.0 1.9999962158441203e-06 3.579965589576382e-18\n",
      "0.001000000178962599 1.789626809471877e-10 0.0010000009824702592 -9.824702626459514e-10 2.000002322866714e-06 9.972754581554096e-19\n",
      "0.0010000000507058675 5.0705967851666765e-11 1.0010000094036333 -1.0000000094036332 1.0020020188261753 1.0000000188072666\n",
      "0.0009999996465257042 -3.5347439204977443e-10 0.001000001228211072 -1.2282112004060193e-09 2.0000017494751857e-06 1.6334468986377526e-18\n",
      "0.0010000005678408048 5.678409052476803e-10 0.0010000003280041985 -3.280042480066657e-10 2.0000017916904366e-06 4.300300803829232e-19\n",
      "0.0010000003492445456 3.4924466343891603e-10 0.0010000004325964838 -4.3259656799804384e-10 2.0000015636823682e-06 3.0911162558424786e-19\n",
      "0.0009999994275484685 -5.72451555126819e-10 0.0010000006123378436 -6.123374816479877e-10 2.000000079773327e-06 7.026579743981132e-19\n",
      "0.001000001139846089 1.1398456418432071e-09 0.0009999987946737142 1.2053264821756352e-09 1.9999998690423586e-06 2.7520600158628446e-18\n",
      "0.0010000014750543053 1.4750546870367342e-09 0.000999999878949092 1.2105077609200763e-10 2.000002708008985e-06 2.190439620141515e-18\n",
      "0.0009999994521999326 -5.478002354000029e-10 0.0009999995194306405 4.805692729210458e-10 1.9999979432616775e-06 5.310319239801611e-19\n",
      "0.0010000001533990621 1.5339834945089422e-10 0.0009999999949337965 5.0662305418893425e-12 2.0000002966657405e-06 2.3556720306162234e-20\n",
      "0.0009999982428404645 -1.7571586463241e-09 0.001000002893569791 -2.8935696647077124e-09 2.000002272831971e-06 1.1460351912868247e-17\n",
      "0.0009999994782912652 -5.217095657962228e-10 0.0009999991617680344 8.382323457884491e-10 1.999997280119574e-06 9.748143365692893e-19\n",
      "0.0010000007473369818 7.473367917465628e-10 0.0010000006589708666 -6.589710619455132e-10 2.0000028126166895e-06 9.927551407796426e-19\n",
      "0.0009999999073154809 -9.268535658039484e-11 0.0009999995734725417 4.265278413068137e-10 1.999998961576236e-06 1.9051657473428537e-19\n",
      "0.0010000012337614316 1.2337611729752147e-09 0.000999998692435805 1.307564601964607e-09 1.999999852397705e-06 3.2318918202520386e-18\n",
      "0.0009999996005835166 -3.994164659424196e-10 0.0010000014065793608 -1.4065802034109673e-09 2.0000020143278926e-06 2.1380013818935704e-18\n",
      "0.0009999987308467757 -1.2691523498750494e-09 0.0010000010602689204 -1.06026948977603e-09 1.999999582234127e-06 2.734919078143283e-18\n",
      "0.0010000004013581646 4.013580464704818e-10 0.0009999998398160454 1.601841504856168e-10 2.0000004823486067e-06 1.8674724353340013e-19\n",
      "0.0010000005080097393 5.080085009052734e-10 0.0009999991329057824 8.670950328200071e-10 1.9999992818320533e-06 1.0099264329331523e-18\n",
      "0.0009999996825456334 -3.174531714003716e-10 0.0009999993296582032 6.703407748711114e-10 1.9999980244082232e-06 5.501332704869559e-19\n",
      "0.0010000005682185347 5.682201004495739e-10 0.0009999992203264772 7.796728421215065e-10 1.9999995770909548e-06 9.307638232967515e-19\n",
      "0.0010000001608201688 1.608217553963251e-10 0.0009999998416273452 1.5837239963254112e-10 2.000000004895079e-06 5.094545397412472e-20\n",
      "0.0009999992538202544 -7.461789724056474e-10 0.000999999731961217 2.6803910202488624e-10 1.9999979715635715e-06 6.286280190746552e-19\n",
      "0.0010000000405764875 4.057615265568929e-11 0.000999999541211764 4.587886806891148e-10 1.999999163576715e-06 2.1213347769279632e-19\n"
     ]
    }
   ],
   "source": [
    "start = timer()\n",
    "N_fft = len(y)\n",
    "yfft = fft(y)\n",
    "yfftReal = 2.0/N_fft*yfft.real\n",
    "yfftImag = 2.0/N_fft*yfft.imag\n",
    "powerfft = 4.0/N_fft**2*abs(yfft)**2\n",
    "end = timer()\n",
    "print (\"Python: \",(end-start))\n",
    "print(\"Ratio = \",btime/(end-start))\n",
    "\n",
    "for i in range(N_terms):\n",
    "    print (ytReal[i],yfftReal[i],ytImag[i],yfftImag[i],power[i],powerfft[i])\n",
    "    "
   ]
  },
  {
   "cell_type": "code",
   "execution_count": null,
   "metadata": {},
   "outputs": [],
   "source": []
  },
  {
   "cell_type": "code",
   "execution_count": 34,
   "metadata": {},
   "outputs": [
    {
     "name": "stderr",
     "output_type": "stream",
     "text": [
      "Warning in <TCanvas::Constructor>: Deleting canvas with same name: c1\n"
     ]
    },
    {
     "data": {
      "image/png": "[encoded data removed]",
      "text/plain": [
       "<IPython.core.display.Image object>"
      ]
     },
     "metadata": {},
     "output_type": "display_data"
    }
   ],
   "source": [
    "from ROOT import TCanvas, TFile\n",
    "from ROOT import TGraph, TF1\n",
    "from ROOT import gStyle, gPad\n",
    "\n",
    "Ns = N_samples\n",
    "Nt = N_terms\n",
    "\n",
    "gStyle.SetOptFit(1)\n",
    "\n",
    "c1 = TCanvas( 'c1', 'Fourier Transform', 200, 10, 1200, 900 )\n",
    "c1.SetGridx()\n",
    "c1.SetGridy()\n",
    "c1.GetFrame().SetFillColor( 21 )\n",
    "c1.GetFrame().SetBorderMode(-1 )\n",
    "c1.GetFrame().SetBorderSize( 5 )\n",
    "c1.Divide(2,2)\n",
    "\n",
    "c1.cd(1)\n",
    "gr = TGraph(Ns,t,y)\n",
    "gr.SetMarkerStyle(22)\n",
    "gr.SetLineColor(2)\n",
    "gr.SetTitle(\"Time Series\")\n",
    "gr.GetXaxis().SetTitle(\"t\")\n",
    "gr.GetYaxis().SetTitle(\"y\")\n",
    "gr.Draw(\"APL\")\n",
    "\n",
    "c1.cd(2)\n",
    "grr = TGraph(Nt,f,ytReal)\n",
    "grr.SetMarkerStyle(22)\n",
    "grr.SetLineColor(2)\n",
    "grr.SetTitle(\"Real Part of Fourier Transform\")\n",
    "grr.GetXaxis().SetTitle(\"f\")\n",
    "grr.GetYaxis().SetTitle(\"Y\")\n",
    "grr.GetHistogram().SetMaximum(ymax)\n",
    "grr.GetHistogram().SetMinimum(-1.0*ymax)\n",
    "\n",
    "grrfft = TGraph(Nt,f,yfftReal)\n",
    "grrfft.SetMarkerStyle(23)\n",
    "grrfft.SetLineColor(3)\n",
    "grrfft.SetTitle(\"Real Part of Fourier Transform\")\n",
    "grrfft.GetXaxis().SetTitle(\"f\")\n",
    "grrfft.GetYaxis().SetTitle(\"Y\")\n",
    "grrfft.GetHistogram().SetMaximum(ymax)\n",
    "grrfft.GetHistogram().SetMaximum(-1.0*ymax)\n",
    "\n",
    "grr.Draw(\"AP\")\n",
    "grrfft.Draw(\"L\")\n",
    "\n",
    "c1.cd(3)\n",
    "gri = TGraph(Nt,f,ytImag)\n",
    "grifft = TGraph(Nt,f,-yfftImag)\n",
    "gri.SetMarkerStyle(22)\n",
    "grifft.SetMarkerStyle(23)\n",
    "gri.SetLineColor(2)\n",
    "grifft.SetLineColor(3)\n",
    "gri.SetTitle(\"Imaginary Part of Fourier Transform\")\n",
    "gri.GetXaxis().SetTitle(\"f\")\n",
    "gri.GetYaxis().SetTitle(\"Y\")\n",
    "gri.GetHistogram().SetMaximum(ymax)\n",
    "gri.GetHistogram().SetMinimum(-1.0*ymax)\n",
    "gri.Draw(\"AP\")\n",
    "grifft.Draw(\"L\")\n",
    "\n",
    "c1.cd(4)\n",
    "#gPad.SetLogy()\n",
    "grp = TGraph(Nt,f,power)\n",
    "grpfft = TGraph(Nt,f,powerfft)\n",
    "grp.SetMarkerStyle(22)\n",
    "grpfft.SetMarkerStyle(23)\n",
    "grp.SetLineColor(2)\n",
    "grpfft.SetLineColor(3)\n",
    "grp.SetTitle(\"Power Spectrum\")\n",
    "grp.GetXaxis().SetTitle(\"f\")\n",
    "grp.GetYaxis().SetTitle(\"P\")\n",
    "gri.GetHistogram().SetMaximum(ymax)\n",
    "grp.Draw(\"APL\")\n",
    "grpfft.Draw(\"L\")\n",
    "\n",
    "c1.Draw()"
   ]
  },
  {
   "cell_type": "code",
   "execution_count": 26,
   "metadata": {},
   "outputs": [
    {
     "name": "stderr",
     "output_type": "stream",
     "text": [
      "Warning in <TCanvas::Constructor>: Deleting canvas with same name: c1\n"
     ]
    }
   ],
   "source": [
    "c2 = TCanvas( 'c1', 'Fourier Transform', 200, 10, 1200, 900 )\n",
    "c2.SetGridx()\n",
    "c2.SetGridy()\n",
    "c2.GetFrame().SetFillColor( 21 )\n",
    "c2.GetFrame().SetBorderMode(-1 )\n",
    "c2.GetFrame().SetBorderSize( 5 )\n",
    "\n"
   ]
  },
  {
   "cell_type": "code",
   "execution_count": 27,
   "metadata": {},
   "outputs": [
    {
     "data": {
      "image/png": "[encoded data removed]",
      "text/plain": [
       "<IPython.core.display.Image object>"
      ]
     },
     "metadata": {},
     "output_type": "display_data"
    }
   ],
   "source": [
    "c2.cd()\n",
    "grhigh = TGraph(1000,time,yhigh)\n",
    "grlow = TGraph(1000,time,ylow)\n",
    "grhigh.SetMarkerStyle(22)\n",
    "grhigh.SetLineColor(2)\n",
    "grhigh.SetTitle(\"Aliasing\")\n",
    "grhigh.GetXaxis().SetTitle(\"t\")\n",
    "grhigh.GetYaxis().SetTitle(\"y\")\n",
    "grlow.SetMarkerStyle(22)\n",
    "grlow.SetLineColor(3)\n",
    "grhigh.Draw(\"AL\")\n",
    "grlow.Draw(\"L\")\n",
    "gr.Draw(\"P\")\n",
    "c2.Draw()"
   ]
  },
  {
   "cell_type": "code",
   "execution_count": null,
   "metadata": {},
   "outputs": [],
   "source": []
  },
  {
   "cell_type": "code",
   "execution_count": null,
   "metadata": {},
   "outputs": [],
   "source": []
  },
  {
   "cell_type": "code",
   "execution_count": null,
   "metadata": {},
   "outputs": [],
   "source": []
  }
 ],
 "metadata": {
  "kernelspec": {
   "display_name": "Python 3",
   "language": "python",
   "name": "python3"
  },
  "language_info": {
   "codemirror_mode": {
    "name": "ipython",
    "version": 3
   },
   "file_extension": ".py",
   "mimetype": "text/x-python",
   "name": "python",
   "nbconvert_exporter": "python",
   "pygments_lexer": "ipython3",
   "version": "3.6.8"
  }
 },
 "nbformat": 4,
 "nbformat_minor": 2
}
