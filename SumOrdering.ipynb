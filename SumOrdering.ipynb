{
 "cells": [
  {
   "cell_type": "code",
   "execution_count": 1,
   "metadata": {},
   "outputs": [
    {
     "name": "stdout",
     "output_type": "stream",
     "text": [
      "100.0 1.6349839001848923 0.009950166663334148\n",
      "100.0 1.634983900184893 0.009950166663333482\n",
      "1000.0 1.6439345666815615 0.0009995001666649461\n",
      "1000.0 1.6439345666815597 0.0009995001666667225\n",
      "10000.0 1.6448340718480652 9.999500016122376e-05\n",
      "10000.0 1.6448340718480596 9.999500016677487e-05\n",
      "100000.0 1.6449240668982423 9.999949984074163e-06\n",
      "100000.0 1.6449240668982263 9.999950000061375e-06\n",
      "1000000.0 1.64493306684877 9.999994563525405e-07\n",
      "1000000.0 1.6449330668487263 9.999995000953277e-07\n",
      "5 10000000\n",
      "5 10000000\n",
      "10000000.0 1.6449339668472596 1.0000096684059656e-07\n",
      "10000000.0 1.6449339668482315 9.99999949513608e-08\n",
      "\n",
      "The program took 14.131926 seconds to execute\n"
     ]
    }
   ],
   "source": [
    "import numpy as np\n",
    "import time\n",
    "\n",
    "start = time.time()\n",
    "\n",
    "# N_max = 8\n",
    "# nexp = np.array([2,3,4,5,6,7,8,9])\n",
    "N_max = 6\n",
    "nexp = np.array([2,3,4,5,6,7])\n",
    "\n",
    "n = np.zeros(N_max)\n",
    "sum_up = np.zeros(N_max)\n",
    "sum_down = np.zeros(N_max)\n",
    "diff_up = np.zeros(N_max)\n",
    "diff_down = np.zeros(N_max)\n",
    "    \n",
    "sum_exact = np.pi**2/6.0\n",
    "\n",
    "for i in range(N_max):\n",
    "    n[i] = 10**nexp[i]\n",
    "    for j in range(int(n[i])):\n",
    "        if ((j+1)%10000000 == 0):\n",
    "            print (i,(j+1))\n",
    "        sum_up[i] += 1.0/((j+1)**2)\n",
    "        \n",
    "    for j in range(int(n[i]),0,-1):\n",
    "        if (j%10000000 == 0):\n",
    "            print (i,j)\n",
    "        sum_down[i] += 1.0/(j**2)\n",
    "        \n",
    "    diff_up[i] = sum_exact-sum_up[i];\n",
    "    print (n[i],sum_up[i],sum_exact-sum_up[i]);\n",
    "    \n",
    "    diff_down[i] = sum_exact-sum_down[i];\n",
    "    print (n[i],sum_down[i],sum_exact-sum_down[i]);\n",
    "        \n",
    "end = time.time()\n",
    "time_taken = end - start\n",
    "print()\n",
    "print (\"The program took %f seconds to execute\" % time_taken)"
   ]
  },
  {
   "cell_type": "code",
   "execution_count": 2,
   "metadata": {},
   "outputs": [
    {
     "data": {
      "text/plain": [
       "<Figure size 420x300 with 1 Axes>"
      ]
     },
     "metadata": {},
     "output_type": "display_data"
    }
   ],
   "source": [
    "import matplotlib.pyplot as plt\n",
    "fig = plt.figure(figsize=(7, 5), dpi=60)\n",
    "\n",
    "plt.plot(n,diff_up,\"b.-\")\n",
    "plt.plot(n,diff_down,\"r.-\")\n",
    "plt.xscale(\"log\")\n",
    "plt.yscale(\"log\")\n",
    "plt.xlabel(\"N\")\n",
    "plt.ylabel(\"Difference from Exact Value\")\n",
    "plt.title(\"Sum Ordering Example\")\n",
    "\n",
    "plt.show()"
   ]
  },
  {
   "cell_type": "markdown",
   "metadata": {},
   "source": [
    "C version on jlabdaq:  17.15 seconds\n",
    "\n",
    "Python version on jlabdaq:  1245.37 seconds\n",
    "\n",
    "Factor:  1245.37/17.15 = approx. 73 times faster in C !!!!!!!!!!!"
   ]
  },
  {
   "cell_type": "code",
   "execution_count": 3,
   "metadata": {},
   "outputs": [
    {
     "name": "stdout",
     "output_type": "stream",
     "text": [
      "100 1.6349839001848931 0.00995016666333326\n",
      "100 1.634983900184893 0.009950166663333482\n",
      "1000 1.6439345666815601 0.0009995001666662784\n",
      "1000 1.64393456668156 0.0009995001666665004\n",
      "10000 1.6448340718480603 9.999500016610874e-05\n",
      "10000 1.6448340718480596 9.999500016677487e-05\n",
      "100000 1.644924066898227 9.999949999395241e-06\n",
      "100000 1.6449240668982263 9.999950000061375e-06\n",
      "1000000 1.6449330668487268 9.999994996512385e-07\n",
      "1000000 1.644933066848726 9.999995003173723e-07\n",
      "10000000 1.6449339668482332 9.999999317500397e-08\n",
      "10000000 1.6449339668482317 9.99999947293162e-08\n",
      "\n",
      "The program took 3.098241 seconds to execute\n"
     ]
    }
   ],
   "source": [
    "start = time.time()\n",
    "N_max = 6\n",
    "nexp = np.array([2,3,4,5,6,7])\n",
    "\n",
    "for j in range(N_max):\n",
    "    n = 10**nexp[j]\n",
    "    myarray = np.array(n)\n",
    "    myarray = [1/(i*i) for i in range(1,n+1)]\n",
    "    print (n,np.sum(myarray),sum_exact-np.sum(myarray))\n",
    "    myarray = [1/(i*i) for i in range(n,0,-1)]\n",
    "    print (n,np.sum(myarray),sum_exact-np.sum(myarray))\n",
    "\n",
    "end = time.time()\n",
    "time_taken = end - start\n",
    "print()\n",
    "print (\"The program took %f seconds to execute\" % time_taken)"
   ]
  },
  {
   "cell_type": "code",
   "execution_count": null,
   "metadata": {},
   "outputs": [],
   "source": []
  },
  {
   "cell_type": "code",
   "execution_count": null,
   "metadata": {},
   "outputs": [],
   "source": []
  }
 ],
 "metadata": {
  "kernelspec": {
   "display_name": "Python 3",
   "language": "python",
   "name": "python3"
  },
  "language_info": {
   "codemirror_mode": {
    "name": "ipython",
    "version": 3
   },
   "file_extension": ".py",
   "mimetype": "text/x-python",
   "name": "python",
   "nbconvert_exporter": "python",
   "pygments_lexer": "ipython3",
   "version": "3.6.8"
  }
 },
 "nbformat": 4,
 "nbformat_minor": 4
}
