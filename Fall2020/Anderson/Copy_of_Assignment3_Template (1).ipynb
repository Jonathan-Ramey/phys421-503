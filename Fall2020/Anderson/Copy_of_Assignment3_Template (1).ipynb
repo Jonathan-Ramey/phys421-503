{
  "nbformat": 4,
  "nbformat_minor": 0,
  "metadata": {
    "colab": {
      "name": "Copy of Assignment3_Template.ipynb",
      "provenance": [],
      "collapsed_sections": []
    },
    "kernelspec": {
      "display_name": "Python 3",
      "language": "python",
      "name": "python3"
    },
    "language_info": {
      "codemirror_mode": {
        "name": "ipython",
        "version": 3
      },
      "file_extension": ".py",
      "mimetype": "text/x-python",
      "name": "python",
      "nbconvert_exporter": "python",
      "pygments_lexer": "ipython3",
      "version": "3.6.8"
    }
  },
  "cells": [
    {
      "cell_type": "markdown",
      "metadata": {
        "id": "4OzSEkaZRUcV"
      },
      "source": [
        "# Assignment 3\n",
        "\n",
        "Due Date:  11:59pm on Friday, November 13th (for now)\n",
        "\n",
        "There are some subtle issues to worry about in each of these questions, and thus I\n",
        "will be discussing each problem in class on Monday, November 9th."
      ]
    },
    {
      "cell_type": "markdown",
      "metadata": {
        "id": "mhm9ftD5RUcW"
      },
      "source": [
        "## Question 1 - Fourier Analysis"
      ]
    },
    {
      "cell_type": "markdown",
      "metadata": {
        "id": "JJIKK-lORUcX"
      },
      "source": [
        "Consider the following triangular pulse signal:"
      ]
    },
    {
      "cell_type": "code",
      "metadata": {
        "id": "QS7DcerMRUcX",
        "outputId": "405aac1c-67bf-443f-b899-7dee4c8163e8",
        "colab": {
          "base_uri": "https://localhost:8080/",
          "height": 283
        }
      },
      "source": [
        "import numpy as np\n",
        "import matplotlib.pyplot as plt\n",
        "import random\n",
        "\n",
        "fx = []\n",
        "\n",
        "N_samples = 1000\n",
        "t_low = -np.pi\n",
        "t_high = 2.0*np.pi\n",
        "\n",
        "t = np.linspace(t_low,t_high,N_samples)\n",
        "y = np.zeros(N_samples)\n",
        "\n",
        "for i in range(N_samples):\n",
        "    if t[i] < 0.0:\n",
        "        y[i] = 0.0 + 0.1*random.uniform(-1,1)\n",
        "        fx.append(y[i])\n",
        "    if t[i] >= 0.0 and t[i] < np.pi:\n",
        "        y[i] = t[i] + 0.1*random.uniform(-1,1)\n",
        "        fx.append(y[i])\n",
        "    if t[i] >= np.pi:\n",
        "        y[i] = 0.0 + 0.1*random.uniform(-1,1)\n",
        "        fx.append(y[i])\n",
        "    \n",
        "plt.plot(t,y)"
      ],
      "execution_count": 43,
      "outputs": [
        {
          "output_type": "execute_result",
          "data": {
            "text/plain": [
              "[<matplotlib.lines.Line2D at 0x7fdeed238518>]"
            ]
          },
          "metadata": {
            "tags": []
          },
          "execution_count": 43
        },
        {
          "output_type": "display_data",
          "data": {
            "image/png": "[encoded data removed]",
            "text/plain": [
              "<Figure size 432x288 with 1 Axes>"
            ]
          },
          "metadata": {
            "tags": [],
            "needs_background": "light"
          }
        }
      ]
    },
    {
      "cell_type": "markdown",
      "metadata": {
        "id": "auZEFvI8RUcc"
      },
      "source": [
        "(a) Using the jupyter notebooks called graph_fourier_basic.ipynb and graph_fourier_guitar.ipynb to help you, calcuate the Fourier transform of this signal.\n",
        "\n",
        "You should create plots of both the real and imaginary Fourier components as a function\n",
        "of frequency, a plot of the Fourier power spectrum as a function of frequency, and also\n",
        "a plot of the time spectrum using the Fourier components as compared to the original time spectrum.\n",
        "\n",
        "(b) Discuss the resulting Fourier spectrum. Which Fourier components do you expect to be small (or zero), based on the theory?  What is the Nyquist frequency, and how many terms in the Fourier series is necessary to give a good approximation to the original signal?"
      ]
    },
    {
      "cell_type": "code",
      "metadata": {
        "id": "CBfO0kHd1EMV",
        "outputId": "1a85b9aa-51a7-46c9-cb8f-a229bd04a036",
        "colab": {
          "base_uri": "https://localhost:8080/",
          "height": 491
        }
      },
      "source": [
        "t = np.linspace(t_low,t_high,N_samples)\n",
        "dt = (t_high-t_low)/N_samples\n",
        "\n",
        "# Calculate the Nyquist frequency\n",
        "\n",
        "f_sampling = 1.0/dt\n",
        "f_nyquist = f_sampling/2.0\n",
        "print(\"Nyquist Frequency = %0.4f\" % f_nyquist)\n",
        "\n",
        "nterms = int(2.0*t_high*f_nyquist)\n",
        "print ('Max terms = ',nterms)\n",
        "\n",
        "x2 = np.linspace(t_low,t_high,N_samples)\n",
        "fx_fourier = np.zeros(len(x2))\n",
        "\n",
        "n = []\n",
        "an = []\n",
        "bn = []\n",
        "ant = []\n",
        "bnt = []\n",
        "for i in range(nterms+1):\n",
        "    n.append(i/(2*np.pi))\n",
        "    a0 = np.pi/2\n",
        "    a0sum = 0.0\n",
        "    ansum = 0.0\n",
        "    bnsum = 0.0\n",
        "    P = t_high\n",
        "    for k in range(len(x2)):\n",
        "        a0sum = a0sum + 1/P*fx[k]*dt\n",
        "        ansum = ansum + 1/P*fx[k]*np.cos(i*x2[k])*dt\n",
        "        bnsum = bnsum + 1/P*fx[k]*np.sin(i*x2[k])*dt\n",
        "        \n",
        "    if (i==0):\n",
        "        an.append(a0sum)\n",
        "        bn.append(0)\n",
        "    else:\n",
        "        an.append(ansum)\n",
        "        bn.append(bnsum)   \n",
        "        \n",
        "    for j in range(len(x2)):\n",
        "        if i==0:\n",
        "            fx_fourier[j] = fx_fourier[j]+an[0]/2.0\n",
        "        else:\n",
        "            if (j==0 and i<=10): \n",
        "                print (\"Data: n = %0.4f, a_n = %0.4f, bn = %0.4f\" % (i,an[i],bn[i]))\n",
        "            fx_fourier[j] = fx_fourier[j]+an[i]*np.cos(i*x2[j])+bn[i]*np.sin(i*x2[j])\n",
        "\n",
        "plt.plot(t,fx)\n",
        "plt.plot(x2,fx_fourier)"
      ],
      "execution_count": 44,
      "outputs": [
        {
          "output_type": "stream",
          "text": [
            "Nyquist Frequency = 53.0516\n",
            "Max terms =  666\n",
            "Data: n = 1.0000, a_n = -0.3137, bn = 0.4965\n",
            "Data: n = 2.0000, a_n = -0.0020, bn = -0.2503\n",
            "Data: n = 3.0000, a_n = -0.0336, bn = 0.1650\n",
            "Data: n = 4.0000, a_n = -0.0045, bn = -0.1263\n",
            "Data: n = 5.0000, a_n = -0.0132, bn = 0.1010\n",
            "Data: n = 6.0000, a_n = -0.0010, bn = -0.0832\n",
            "Data: n = 7.0000, a_n = -0.0024, bn = 0.0682\n",
            "Data: n = 8.0000, a_n = -0.0034, bn = -0.0640\n",
            "Data: n = 9.0000, a_n = 0.0003, bn = 0.0575\n",
            "Data: n = 10.0000, a_n = -0.0036, bn = -0.0493\n"
          ],
          "name": "stdout"
        },
        {
          "output_type": "execute_result",
          "data": {
            "text/plain": [
              "[<matplotlib.lines.Line2D at 0x7fdee2662cc0>]"
            ]
          },
          "metadata": {
            "tags": []
          },
          "execution_count": 44
        },
        {
          "output_type": "display_data",
          "data": {
            "image/png": "[encoded data removed]",
            "text/plain": [
              "<Figure size 432x288 with 1 Axes>"
            ]
          },
          "metadata": {
            "tags": [],
            "needs_background": "light"
          }
        }
      ]
    },
    {
      "cell_type": "code",
      "metadata": {
        "id": "N-Q4KpzWwz6D",
        "outputId": "21625739-bb5e-4241-ec9b-dd04e1e20f6e",
        "colab": {
          "base_uri": "https://localhost:8080/",
          "height": 267
        }
      },
      "source": [
        "plt.plot(n,an)\n",
        "plt.yscale(\"log\")"
      ],
      "execution_count": 45,
      "outputs": [
        {
          "output_type": "display_data",
          "data": {
            "image/png": "[encoded data removed]",
            "text/plain": [
              "<Figure size 432x288 with 1 Axes>"
            ]
          },
          "metadata": {
            "tags": [],
            "needs_background": "light"
          }
        }
      ]
    },
    {
      "cell_type": "code",
      "metadata": {
        "id": "0TOgQOrHw4OC",
        "outputId": "f45e5879-f9ea-4357-c46a-0d877e41a0fc",
        "colab": {
          "base_uri": "https://localhost:8080/",
          "height": 265
        }
      },
      "source": [
        "plt.plot(n,bn)\n",
        "plt.yscale(\"log\")"
      ],
      "execution_count": 46,
      "outputs": [
        {
          "output_type": "display_data",
          "data": {
            "image/png": "[encoded data removed]",
            "text/plain": [
              "<Figure size 432x288 with 1 Axes>"
            ]
          },
          "metadata": {
            "tags": [],
            "needs_background": "light"
          }
        }
      ]
    },
    {
      "cell_type": "markdown",
      "metadata": {
        "id": "xZQfoPpyiLoO"
      },
      "source": [
        "The Fourier elements that we expect to be zero according to the theory is on the interval t = -pi to t = 0 and on the interval t = pi to t = 2*pi. The resulting Nyquist Frequency is printed above and in order to give an accurate representation of the data we need about 250 samples.\n"
      ]
    },
    {
      "cell_type": "markdown",
      "metadata": {
        "id": "Q3nEBaDeRUcc"
      },
      "source": [
        "## Question 2 - Frogs and Lily Pads"
      ]
    },
    {
      "cell_type": "markdown",
      "metadata": {
        "id": "KsV1l_iBRUcd"
      },
      "source": [
        "Modify the Jupyter Notebook called frogger.ipynb to include the possibility that the frog can jump in either direction (not just forward). Use the following algorithm:\n",
        "\n",
        "From wherever the frog is currently sitting (i.e. anywhere from the starting position to the last lily pad), it can jump to any other available position, including back to the starting position, or to the other side of the stream.  The frog should continue jumping until that moment when it gets to the other side of the stream.  The probability should be uniform/equal for jumping to any available position.\n",
        "\n",
        "The goal here is to calculate the average number of jumps, as function of the number of lily pads.\n",
        "\n",
        "Does the final result surprise you?  \n",
        "\n",
        "As a final check that your simulation is reasonable, plot the DISTRIBUTION of the number of jumps taken for N$_{lily~pads}$ = 30."
      ]
    },
    {
      "cell_type": "code",
      "metadata": {
        "id": "gV6e_9CSjfQF",
        "outputId": "ac633d30-5e07-4a52-b2aa-13d0e49cf89c",
        "colab": {
          "base_uri": "https://localhost:8080/",
          "height": 529
        }
      },
      "source": [
        "import numpy as np\n",
        "import matplotlib.pyplot as plt\n",
        "import scipy.stats as stats\n",
        "import random\n",
        "import pandas as pd\n",
        "\n",
        "a = []\n",
        "b = []\n",
        "\n",
        "npad = 30\n",
        "start = 0\n",
        "jumpsum = 0\n",
        "total_jumps = 0\n",
        "n_trys = 1000\n",
        "   \n",
        "end = npad\n",
        "for j in range(n_trys):\n",
        "    while start < npad:\n",
        "      if (start == 0):\n",
        "        jump = int(random.uniform(1,(end-start+1)))\n",
        "        while jump == 0:\n",
        "          jump = int(random.uniform(1,(end-start+1)))\n",
        "      else:\n",
        "        jump = int(random.uniform((-1*(end-start+1)),(end-start+1)))\n",
        "        while jump == 0:\n",
        "          jump = int(random.uniform((-1*(end-start+1)),(end-start+1)))\n",
        "        while jump + start < 0:\n",
        "          jump = int(random.uniform((-1*(end-start+1)),(end-start+1)))\n",
        "          while jump == 0:\n",
        "            jump = int(random.uniform((-1*(end-start+1)),(end-start+1)))\n",
        "      #print (\"Jump = \",jump)\n",
        "      start = start + jump\n",
        "      #print (\"Now at \",start)\n",
        "      jumpsum = jumpsum + 1\n",
        "    start = 0\n",
        "    #print (\"j = %d, Total_jumps = %d\" % (j,jumpsum))\n",
        "    total_jumps = total_jumps + jumpsum\n",
        "    a.append(jumpsum)\n",
        "    c = jumpsum/npad\n",
        "    b.append(c)\n",
        "    jumpsum = 0\n",
        "\n",
        "e = pd.DataFrame(b)\n",
        "normyguyhopefully = e.plot.kde() #shows number of jumps taken per lilly pad,\n",
        "                                 #should look normal as well as slightly positive\n",
        "s = pd.DataFrame(a)\n",
        "frogtendencies = s.hist(bins = 50) #shows the number of occurances of jumps it took\n",
        "                                   #the frogs to get across the lilipads based on 30 pads\n",
        "                                   #and 1000 frogs"
      ],
      "execution_count": 47,
      "outputs": [
        {
          "output_type": "display_data",
          "data": {
            "image/png": "[encoded data removed]",
            "text/plain": [
              "<Figure size 432x288 with 1 Axes>"
            ]
          },
          "metadata": {
            "tags": [],
            "needs_background": "light"
          }
        },
        {
          "output_type": "display_data",
          "data": {
            "image/png": "[encoded data removed]",
            "text/plain": [
              "<Figure size 432x288 with 1 Axes>"
            ]
          },
          "metadata": {
            "tags": [],
            "needs_background": "light"
          }
        }
      ]
    },
    {
      "cell_type": "markdown",
      "metadata": {
        "id": "-EA4fofizsPT"
      },
      "source": [
        "The results from the simulation shows that the frogs tend to hop across fairly efficiently averaging .2 jumps per pad and getting over almost always less than 10 jumps. The results are normally distributed which agrees with theory. The final result still surprises me as there are plenty of scenarios in which the frog could infintely jump bakck and fourth witout ever making it across the pads, so I was surprised there wasn't an extraordinarily high number of jumps for a few trials."
      ]
    },
    {
      "cell_type": "markdown",
      "metadata": {
        "id": "OIzKdcTQRUcd"
      },
      "source": [
        "## Question 3 - Random Walk"
      ]
    },
    {
      "cell_type": "markdown",
      "metadata": {
        "id": "Drn0SeHIRUce"
      },
      "source": [
        "Begin with the example Jupyter Notebook called drunken_sailor.ipynb  \n",
        "\n",
        "In the first example, we considered random walk in one dimension.  For each step that a sailor took, we sampled from a random Gaussian distribution with a mean value of 0 and a standard deviation of 1.  \n",
        "\n",
        "In this question, we would like to consider a different underlying distribution for the step size.  Instead of using a Gaussian, choose the step size from a Poisson distribution with an average value of 1.  Remember that the Poisson distribution is defined for positive values of $x$ only, and so you will also have to randomly choose the direction of the step.\n",
        "\n",
        "How do the results compare to choosing a Gaussian distribution of step size?  Do your results agree with the predictions of the central limit theorem?"
      ]
    },
    {
      "cell_type": "code",
      "metadata": {
        "id": "UKR8AcTsRUce"
      },
      "source": [
        "import numpy as np\n",
        "import random\n",
        "%matplotlib inline\n",
        "import matplotlib.pyplot as plt\n",
        "import scipy\n",
        "from scipy import stats \n",
        "from math import erfc  \n",
        "\n",
        "def walkn(nsteps):\n",
        "    mu = 0\n",
        "    a = random.choice([True,False]) #account for both walking directions by randomly choosing a boolean since we are in 1-D\n",
        "    if (a): \n",
        "      b = stats.poisson.rvs(1, size=nsteps) \n",
        "    else:\n",
        "      b = -1 * stats.poisson.rvs(1, size=nsteps)\n",
        "    r = b  # poisson distribution mean=0 variance=1\n",
        "    return sum(r) \n",
        "\n",
        "def npart_walkn(npart,nsteps):\n",
        "    xvec = np.zeros(0)\n",
        "    for i in range(npart):\n",
        "        x = walkn(nsteps)  \n",
        "        xvec = np.append(xvec,x)  \n",
        "    return xvec  \n",
        "\n",
        "nsteps = 100 \n",
        "npart = 1000 \n",
        "\n",
        "xvec = npart_walkn(npart,nsteps)"
      ],
      "execution_count": 48,
      "outputs": []
    },
    {
      "cell_type": "code",
      "metadata": {
        "id": "2uL5bqzBQr07",
        "outputId": "7534ca5f-21d5-43f9-a1f9-7108396b8a6e",
        "colab": {
          "base_uri": "https://localhost:8080/",
          "height": 307
        }
      },
      "source": [
        "n, bins, patches = plt.hist(xvec,bins=20,density=True)\n",
        "plt.xlabel(\"x\",fontsize=22)\n",
        "plt.ylabel(\"p(x)\",fontsize=22)  # probability!\n",
        "mlambda = 1  #lambda of our poisson\n",
        "prob = (((mlambda)**nsteps)*((np.e)**-mlambda))/(scipy.special.factorial(nsteps,0)) #probability of our poisson\n",
        "mypoi = stats.poisson(1, prob) \n",
        "y = mypoi.pmf(bins)  \n",
        "plt.plot(bins,y,\"k\", lw=3 )  "
      ],
      "execution_count": 49,
      "outputs": [
        {
          "output_type": "execute_result",
          "data": {
            "text/plain": [
              "[<matplotlib.lines.Line2D at 0x7fdeed5593c8>]"
            ]
          },
          "metadata": {
            "tags": []
          },
          "execution_count": 49
        },
        {
          "output_type": "display_data",
          "data": {
            "image/png": "[encoded data removed]",
            "text/plain": [
              "<Figure size 432x288 with 1 Axes>"
            ]
          },
          "metadata": {
            "tags": [],
            "needs_background": "light"
          }
        }
      ]
    },
    {
      "cell_type": "markdown",
      "metadata": {
        "id": "qaWjDrXPfpSr"
      },
      "source": [
        "The poisson distribution does not agree with central limit theorem as it tends towards the extremes of the random walk simulation. The centeral limit theorem would have the final positions tend to be closer to the mean value of 0, but as shown the poisson distribution favors the standard deviation of 1 on each step."
      ]
    }
  ]
}