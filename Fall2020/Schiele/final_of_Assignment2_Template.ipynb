{
  "nbformat": 4,
  "nbformat_minor": 0,
  "metadata": {
    "kernelspec": {
      "display_name": "Python 3",
      "language": "python",
      "name": "python3"
    },
    "language_info": {
      "codemirror_mode": {
        "name": "ipython",
        "version": 3
      },
      "file_extension": ".py",
      "mimetype": "text/x-python",
      "name": "python",
      "nbconvert_exporter": "python",
      "pygments_lexer": "ipython3",
      "version": "3.6.8"
    },
    "colab": {
      "name": "final of Assignment2_Template.ipynb",
      "provenance": [],
      "collapsed_sections": []
    }
  },
  "cells": [
    {
      "cell_type": "markdown",
      "metadata": {
        "id": "tWTBXEb3yToD"
      },
      "source": [
        "# Assignment 2\n",
        "\n",
        "Due Date:  11:59pm on Friday, October 2nd (for now)"
      ]
    },
    {
      "cell_type": "markdown",
      "metadata": {
        "id": "JMVRRGdpyToE"
      },
      "source": [
        "## Question 1 - Fitting Part Deux"
      ]
    },
    {
      "cell_type": "markdown",
      "metadata": {
        "id": "cvSiFWdnyToF"
      },
      "source": [
        "In the Jupyter Notebook called Fitting_Examples.ipynb, the last few examples considered cases where the uncertainty in the data became\n",
        "larger at small x-values.  We considered three scenarios for collecting\n",
        "the data - one where we focused on small x-values, and two others that covered larger ranges of x.\n",
        "\n",
        "For this question, begin with the Jupyter Notebook above, and modify it\n",
        "to consider 10 x-value ranges that keep the minimum value of the range constant (and fairly close to zero) while varying the maximum x-value from small to larger values.  For each x-value range, calculate the uncertainty in the y-intercept, and then create a plot of the uncertainty as a function of that maximum x-value of the range.\n",
        "\n",
        "Now, consider keeping the maximum x-value of the range constant, and vary the minimum value of the range from a small value, close to zero, to a larger value that is close to the maximum value.  Create a plot of the\n",
        "uncertainty in the y-intercept as a function of the minimum x-value of the range.\n",
        "\n",
        "What can you conclude from this study about the optimal experiment design?"
      ]
    },
    {
      "cell_type": "code",
      "metadata": {
        "id": "-4KvPQEFyToF"
      },
      "source": [
        ""
      ],
      "execution_count": 139,
      "outputs": []
    },
    {
      "cell_type": "code",
      "metadata": {
        "id": "Io1Aqz5DL8Vc",
        "outputId": "9dfd0981-70cc-4581-fb1f-a027fcce1f90",
        "colab": {
          "base_uri": "https://localhost:8080/",
          "height": 678
        }
      },
      "source": [
        "import numpy as np\n",
        "import pandas as pd\n",
        "import matplotlib.pyplot as plt\n",
        "import scipy.stats as stats\n",
        "\n",
        "\n",
        "#1\n",
        "\n",
        "npts = 11\n",
        "xlow = 0\n",
        "xhigh = 1\n",
        "\n",
        "xl = xlow + 0.01\n",
        "xmid = (xhigh+xlow)/2.0+0.01\n",
        "\n",
        "xi = np.linspace(xlow,xhigh,npts)\n",
        "yrandom = stats.norm.rvs(size=npts,loc=0,scale=.2)\n",
        "yi = xi + yrandom\n",
        "\n",
        "from scipy.optimize import curve_fit\n",
        "\n",
        "def fitfunction(x,*paramlist):\n",
        "    return paramlist[0]+paramlist[1]*x\n",
        "\n",
        "init_vals = [0.0 for x in range(2)]\n",
        "popt, pcov = curve_fit(fitfunction,xi,yi,p0=init_vals)\n",
        "perr = np.sqrt(np.diag(pcov))\n",
        "\n",
        "ps = np.random.multivariate_normal(popt,pcov,10000)\n",
        "ysample=np.asarray([fitfunction(xi,*pi) for pi in ps])\n",
        "\n",
        "lower = np.percentile(ysample,2.5,axis=0)\n",
        "upper = np.percentile(ysample,97.5,axis=0)\n",
        "middle = (lower+upper)/2.0\n",
        "\n",
        "print(\"Coefficients (from curve_fit)\")\n",
        "print (popt)\n",
        "print(\"Covariance Matrix (from curve_fit)\")\n",
        "print (pcov)\n",
        "\n",
        "print()\n",
        "print (\"Final Result: y = (%0.2f +/- %0.2f) x + (%0.2f +/- %0.2f)\" % (popt[1],perr[1],popt[0],perr[0]))\n",
        "\n",
        "plt.plot(xi,yi,'o')\n",
        "\n",
        "plt.plot(xi,middle)\n",
        "plt.plot(xi,lower)\n",
        "plt.plot(xi,upper)\n",
        "plt.show()\n",
        "\n",
        "slope = []\n",
        "dslope = []\n",
        "yint = []\n",
        "dyint = []\n",
        "type = []\n",
        "\n",
        "slope.append(popt[1])\n",
        "dslope.append(perr[1])\n",
        "yint.append(popt[0])\n",
        "dyint.append(perr[0])\n",
        "type.append('Linear')\n",
        "df = pd.DataFrame({'Fit Type':type, 'Slope':slope, 'Error in Slope':dslope, 'Y Intercept':yint, 'Error in Y Intercept':dyint})\n",
        "df.head()\n",
        "sigmai = np.array([dyint for i in range(npts)])\n",
        "plt.errorbar(xi, yi, yerr=sigmai, fmt='o', capsize=5, capthick=2)\n",
        "\n",
        "\n",
        "\n",
        "\n",
        "\n",
        "\n",
        "\n",
        "\n",
        "\n",
        "\n",
        "\n",
        "\n",
        "\n",
        "\n",
        "\n",
        "\n"
      ],
      "execution_count": 140,
      "outputs": [
        {
          "output_type": "stream",
          "text": [
            "Coefficients (from curve_fit)\n",
            "[0.13168992 0.93480323]\n",
            "Covariance Matrix (from curve_fit)\n",
            "[[ 0.00935651 -0.01336644]\n",
            " [-0.01336644  0.02673288]]\n",
            "\n",
            "Final Result: y = (0.93 +/- 0.16) x + (0.13 +/- 0.10)\n"
          ],
          "name": "stdout"
        },
        {
          "output_type": "display_data",
          "data": {
            "image/png": "[encoded data removed]",
            "text/plain": [
              "<Figure size 432x288 with 1 Axes>"
            ]
          },
          "metadata": {
            "tags": [],
            "needs_background": "light"
          }
        },
        {
          "output_type": "stream",
          "text": [
            "/usr/local/lib/python3.6/dist-packages/ipykernel_launcher.py:65: MatplotlibDeprecationWarning: Support for passing a (n, 1)-shaped error array to errorbar() is deprecated since Matplotlib 3.1 and will be removed in 3.3; pass a 1D array instead.\n"
          ],
          "name": "stderr"
        },
        {
          "output_type": "execute_result",
          "data": {
            "text/plain": [
              "<ErrorbarContainer object of 3 artists>"
            ]
          },
          "metadata": {
            "tags": []
          },
          "execution_count": 140
        },
        {
          "output_type": "display_data",
          "data": {
            "image/png": "[encoded data removed]",
            "text/plain": [
              "<Figure size 432x288 with 1 Axes>"
            ]
          },
          "metadata": {
            "tags": [],
            "needs_background": "light"
          }
        }
      ]
    },
    {
      "cell_type": "code",
      "metadata": {
        "id": "srSqccx2L-Th",
        "outputId": "d0f9f4dd-7280-413d-e0f3-7620d12be4c6",
        "colab": {
          "base_uri": "https://localhost:8080/",
          "height": 378
        }
      },
      "source": [
        "#2\n",
        "\n",
        "npts = 11\n",
        "xlow = 0\n",
        "xhigh = 2\n",
        "\n",
        "xl = xlow + 0.01\n",
        "xmid = (xhigh+xlow)/2.0+0.01\n",
        "\n",
        "xi = np.linspace(xlow,xhigh,npts)\n",
        "yrandom = stats.norm.rvs(size=npts,loc=0,scale=.2)\n",
        "yi = xi + yrandom\n",
        "def fitfunction(x,*paramlist):\n",
        "    return paramlist[0]+paramlist[1]*x\n",
        "\n",
        "init_vals = [0.0 for x in range(2)]\n",
        "popt, pcov = curve_fit(fitfunction,xi,yi,p0=init_vals)\n",
        "perr = np.sqrt(np.diag(pcov))\n",
        "\n",
        "ps = np.random.multivariate_normal(popt,pcov,10000)\n",
        "ysample=np.asarray([fitfunction(xi,*pi) for pi in ps])\n",
        "\n",
        "lower = np.percentile(ysample,2.5,axis=0)\n",
        "upper = np.percentile(ysample,97.5,axis=0)\n",
        "middle = (lower+upper)/2.0\n",
        "\n",
        "print(\"Coefficients (from curve_fit)\")\n",
        "print (popt)\n",
        "print(\"Covariance Matrix (from curve_fit)\")\n",
        "print (pcov)\n",
        "\n",
        "print()\n",
        "print (\"Final Result: y = (%0.2f +/- %0.2f) x + (%0.2f +/- %0.2f)\" % (popt[1],perr[1],popt[0],perr[0]))\n",
        "\n",
        "plt.plot(xi,yi,'o')\n",
        "\n",
        "plt.plot(xi,middle)\n",
        "plt.plot(xi,lower)\n",
        "plt.plot(xi,upper)\n",
        "plt.show()\n",
        "\n",
        "slope = []\n",
        "dslope = []\n",
        "yint = []\n",
        "dyint = []\n",
        "type = []\n",
        "\n",
        "slope.append(popt[1])\n",
        "dslope.append(perr[1])\n",
        "yint.append(popt[0])\n",
        "dyint.append(perr[0])\n",
        "type.append('Linear')\n",
        "\n",
        "\n"
      ],
      "execution_count": 141,
      "outputs": [
        {
          "output_type": "stream",
          "text": [
            "Coefficients (from curve_fit)\n",
            "[-0.01616772  0.95573994]\n",
            "Covariance Matrix (from curve_fit)\n",
            "[[ 0.00841745 -0.00601246]\n",
            " [-0.00601246  0.00601246]]\n",
            "\n",
            "Final Result: y = (0.96 +/- 0.08) x + (-0.02 +/- 0.09)\n"
          ],
          "name": "stdout"
        },
        {
          "output_type": "display_data",
          "data": {
            "image/png": "[encoded data removed]",
            "text/plain": [
              "<Figure size 432x288 with 1 Axes>"
            ]
          },
          "metadata": {
            "tags": [],
            "needs_background": "light"
          }
        }
      ]
    },
    {
      "cell_type": "code",
      "metadata": {
        "id": "GLbIygdOMAUf",
        "outputId": "308365c3-2d70-4b2e-a4e4-75a99726601f",
        "colab": {
          "base_uri": "https://localhost:8080/",
          "height": 76
        }
      },
      "source": [
        "df = pd.DataFrame({'Fit Type':type, 'Slope':slope, 'Error in Slope':dslope, 'Y Intercept':yint, 'Error in Y Intercept':dyint})\n",
        "df.head()\n"
      ],
      "execution_count": 142,
      "outputs": [
        {
          "output_type": "execute_result",
          "data": {
            "text/html": [
              "<div>\n",
              "<style scoped>\n",
              "    .dataframe tbody tr th:only-of-type {\n",
              "        vertical-align: middle;\n",
              "    }\n",
              "\n",
              "    .dataframe tbody tr th {\n",
              "        vertical-align: top;\n",
              "    }\n",
              "\n",
              "    .dataframe thead th {\n",
              "        text-align: right;\n",
              "    }\n",
              "</style>\n",
              "<table border=\"1\" class=\"dataframe\">\n",
              "  <thead>\n",
              "    <tr style=\"text-align: right;\">\n",
              "      <th></th>\n",
              "      <th>Fit Type</th>\n",
              "      <th>Slope</th>\n",
              "      <th>Error in Slope</th>\n",
              "      <th>Y Intercept</th>\n",
              "      <th>Error in Y Intercept</th>\n",
              "    </tr>\n",
              "  </thead>\n",
              "  <tbody>\n",
              "    <tr>\n",
              "      <th>0</th>\n",
              "      <td>Linear</td>\n",
              "      <td>0.95574</td>\n",
              "      <td>0.07754</td>\n",
              "      <td>-0.016168</td>\n",
              "      <td>0.091747</td>\n",
              "    </tr>\n",
              "  </tbody>\n",
              "</table>\n",
              "</div>"
            ],
            "text/plain": [
              "  Fit Type    Slope  Error in Slope  Y Intercept  Error in Y Intercept\n",
              "0   Linear  0.95574         0.07754    -0.016168              0.091747"
            ]
          },
          "metadata": {
            "tags": []
          },
          "execution_count": 142
        }
      ]
    },
    {
      "cell_type": "code",
      "metadata": {
        "id": "P1E9NfADMCWz",
        "outputId": "f29adcbb-1cd5-42f4-b1fd-0e09efae1982",
        "colab": {
          "base_uri": "https://localhost:8080/",
          "height": 333
        }
      },
      "source": [
        "sigmai = np.array([dyint for i in range(npts)])\n",
        "plt.errorbar(xi, yi, yerr=sigmai, fmt='o', capsize=5, capthick=2)"
      ],
      "execution_count": 143,
      "outputs": [
        {
          "output_type": "stream",
          "text": [
            "/usr/local/lib/python3.6/dist-packages/ipykernel_launcher.py:2: MatplotlibDeprecationWarning: Support for passing a (n, 1)-shaped error array to errorbar() is deprecated since Matplotlib 3.1 and will be removed in 3.3; pass a 1D array instead.\n",
            "  \n"
          ],
          "name": "stderr"
        },
        {
          "output_type": "execute_result",
          "data": {
            "text/plain": [
              "<ErrorbarContainer object of 3 artists>"
            ]
          },
          "metadata": {
            "tags": []
          },
          "execution_count": 143
        },
        {
          "output_type": "display_data",
          "data": {
            "image/png": "[encoded data removed]",
            "text/plain": [
              "<Figure size 432x288 with 1 Axes>"
            ]
          },
          "metadata": {
            "tags": [],
            "needs_background": "light"
          }
        }
      ]
    },
    {
      "cell_type": "code",
      "metadata": {
        "id": "sk5BnRfCMEwV",
        "outputId": "8e63707c-c7fc-4b21-d754-3451ca40cb9a",
        "colab": {
          "base_uri": "https://localhost:8080/",
          "height": 378
        }
      },
      "source": [
        "#3\n",
        "\n",
        "npts = 11\n",
        "xlow = 0\n",
        "xhigh = 3\n",
        "\n",
        "xl = xlow + 0.01\n",
        "xmid = (xhigh+xlow)/2.0+0.01\n",
        "\n",
        "xi = np.linspace(xlow,xhigh,npts)\n",
        "yrandom = stats.norm.rvs(size=npts,loc=0,scale=.2)\n",
        "yi = xi + yrandom\n",
        "def fitfunction(x,*paramlist):\n",
        "    return paramlist[0]+paramlist[1]*x\n",
        "\n",
        "init_vals = [0.0 for x in range(2)]\n",
        "popt, pcov = curve_fit(fitfunction,xi,yi,p0=init_vals)\n",
        "perr = np.sqrt(np.diag(pcov))\n",
        "\n",
        "ps = np.random.multivariate_normal(popt,pcov,10000)\n",
        "ysample=np.asarray([fitfunction(xi,*pi) for pi in ps])\n",
        "\n",
        "lower = np.percentile(ysample,2.5,axis=0)\n",
        "upper = np.percentile(ysample,97.5,axis=0)\n",
        "middle = (lower+upper)/2.0\n",
        "\n",
        "print(\"Coefficients (from curve_fit)\")\n",
        "print (popt)\n",
        "print(\"Covariance Matrix (from curve_fit)\")\n",
        "print (pcov)\n",
        "\n",
        "print()\n",
        "print (\"Final Result: y = (%0.2f +/- %0.2f) x + (%0.2f +/- %0.2f)\" % (popt[1],perr[1],popt[0],perr[0]))\n",
        "\n",
        "plt.plot(xi,yi,'o')\n",
        "\n",
        "plt.plot(xi,middle)\n",
        "plt.plot(xi,lower)\n",
        "plt.plot(xi,upper)\n",
        "plt.show()\n",
        "\n",
        "slope = []\n",
        "dslope = []\n",
        "yint = []\n",
        "dyint = []\n",
        "type = []\n",
        "\n",
        "slope.append(popt[1])\n",
        "dslope.append(perr[1])\n",
        "yint.append(popt[0])\n",
        "dyint.append(perr[0])\n",
        "type.append('Linear')\n",
        "\n",
        "\n"
      ],
      "execution_count": 144,
      "outputs": [
        {
          "output_type": "stream",
          "text": [
            "Coefficients (from curve_fit)\n",
            "[-0.01212304  0.94339423]\n",
            "Covariance Matrix (from curve_fit)\n",
            "[[ 0.0103587  -0.00493271]\n",
            " [-0.00493271  0.00328847]]\n",
            "\n",
            "Final Result: y = (0.94 +/- 0.06) x + (-0.01 +/- 0.10)\n"
          ],
          "name": "stdout"
        },
        {
          "output_type": "display_data",
          "data": {
            "image/png": "[encoded data removed]",
            "text/plain": [
              "<Figure size 432x288 with 1 Axes>"
            ]
          },
          "metadata": {
            "tags": [],
            "needs_background": "light"
          }
        }
      ]
    },
    {
      "cell_type": "code",
      "metadata": {
        "id": "cOvg0MNhMOa0",
        "outputId": "ae0d5d2f-38e7-42fe-a3dd-663bdfae46b6",
        "colab": {
          "base_uri": "https://localhost:8080/",
          "height": 76
        }
      },
      "source": [
        "df = pd.DataFrame({'Fit Type':type, 'Slope':slope, 'Error in Slope':dslope, 'Y Intercept':yint, 'Error in Y Intercept':dyint})\n",
        "df.head()\n"
      ],
      "execution_count": 145,
      "outputs": [
        {
          "output_type": "execute_result",
          "data": {
            "text/html": [
              "<div>\n",
              "<style scoped>\n",
              "    .dataframe tbody tr th:only-of-type {\n",
              "        vertical-align: middle;\n",
              "    }\n",
              "\n",
              "    .dataframe tbody tr th {\n",
              "        vertical-align: top;\n",
              "    }\n",
              "\n",
              "    .dataframe thead th {\n",
              "        text-align: right;\n",
              "    }\n",
              "</style>\n",
              "<table border=\"1\" class=\"dataframe\">\n",
              "  <thead>\n",
              "    <tr style=\"text-align: right;\">\n",
              "      <th></th>\n",
              "      <th>Fit Type</th>\n",
              "      <th>Slope</th>\n",
              "      <th>Error in Slope</th>\n",
              "      <th>Y Intercept</th>\n",
              "      <th>Error in Y Intercept</th>\n",
              "    </tr>\n",
              "  </thead>\n",
              "  <tbody>\n",
              "    <tr>\n",
              "      <th>0</th>\n",
              "      <td>Linear</td>\n",
              "      <td>0.943394</td>\n",
              "      <td>0.057345</td>\n",
              "      <td>-0.012123</td>\n",
              "      <td>0.101778</td>\n",
              "    </tr>\n",
              "  </tbody>\n",
              "</table>\n",
              "</div>"
            ],
            "text/plain": [
              "  Fit Type     Slope  Error in Slope  Y Intercept  Error in Y Intercept\n",
              "0   Linear  0.943394        0.057345    -0.012123              0.101778"
            ]
          },
          "metadata": {
            "tags": []
          },
          "execution_count": 145
        }
      ]
    },
    {
      "cell_type": "code",
      "metadata": {
        "id": "64m8w48fMRst",
        "outputId": "4b7b8c5c-4a86-4302-fd49-9db977211e63",
        "colab": {
          "base_uri": "https://localhost:8080/",
          "height": 333
        }
      },
      "source": [
        "sigmai = np.array([dyint for i in range(npts)])\n",
        "plt.errorbar(xi, yi, yerr=sigmai, fmt='o', capsize=5, capthick=2)"
      ],
      "execution_count": 146,
      "outputs": [
        {
          "output_type": "stream",
          "text": [
            "/usr/local/lib/python3.6/dist-packages/ipykernel_launcher.py:2: MatplotlibDeprecationWarning: Support for passing a (n, 1)-shaped error array to errorbar() is deprecated since Matplotlib 3.1 and will be removed in 3.3; pass a 1D array instead.\n",
            "  \n"
          ],
          "name": "stderr"
        },
        {
          "output_type": "execute_result",
          "data": {
            "text/plain": [
              "<ErrorbarContainer object of 3 artists>"
            ]
          },
          "metadata": {
            "tags": []
          },
          "execution_count": 146
        },
        {
          "output_type": "display_data",
          "data": {
            "image/png": "[encoded data removed]",
            "text/plain": [
              "<Figure size 432x288 with 1 Axes>"
            ]
          },
          "metadata": {
            "tags": [],
            "needs_background": "light"
          }
        }
      ]
    },
    {
      "cell_type": "code",
      "metadata": {
        "id": "-wf4AQWoMSRo",
        "outputId": "a287738e-1732-43d4-b740-a2f73df15ad1",
        "colab": {
          "base_uri": "https://localhost:8080/",
          "height": 281
        }
      },
      "source": [
        "#4\n",
        "\n",
        "npts = 11\n",
        "xlow = 0\n",
        "xhigh = 4\n",
        "\n",
        "xl = xlow + 0.01\n",
        "xmid = (xhigh+xlow)/2.0+0.01\n",
        "\n",
        "xi = np.linspace(xlow,xhigh,npts)\n",
        "yrandom = stats.norm.rvs(size=npts,loc=0,scale=.2)\n",
        "yi = xi + yrandom\n",
        "\n",
        "plt.plot(xi,yi,'o')\n",
        "\n"
      ],
      "execution_count": 147,
      "outputs": [
        {
          "output_type": "execute_result",
          "data": {
            "text/plain": [
              "[<matplotlib.lines.Line2D at 0x7f32058e12b0>]"
            ]
          },
          "metadata": {
            "tags": []
          },
          "execution_count": 147
        },
        {
          "output_type": "display_data",
          "data": {
            "image/png": "[encoded data removed]",
            "text/plain": [
              "<Figure size 432x288 with 1 Axes>"
            ]
          },
          "metadata": {
            "tags": [],
            "needs_background": "light"
          }
        }
      ]
    },
    {
      "cell_type": "code",
      "metadata": {
        "id": "Seb_O07BOzeb",
        "outputId": "576898ac-2333-4498-f76e-8a20ce4b60df",
        "colab": {
          "base_uri": "https://localhost:8080/",
          "height": 76
        }
      },
      "source": [
        "df = pd.DataFrame({'Fit Type':type, 'Slope':slope, 'Error in Slope':dslope, 'Y Intercept':yint, 'Error in Y Intercept':dyint})\n",
        "df.head()\n"
      ],
      "execution_count": 148,
      "outputs": [
        {
          "output_type": "execute_result",
          "data": {
            "text/html": [
              "<div>\n",
              "<style scoped>\n",
              "    .dataframe tbody tr th:only-of-type {\n",
              "        vertical-align: middle;\n",
              "    }\n",
              "\n",
              "    .dataframe tbody tr th {\n",
              "        vertical-align: top;\n",
              "    }\n",
              "\n",
              "    .dataframe thead th {\n",
              "        text-align: right;\n",
              "    }\n",
              "</style>\n",
              "<table border=\"1\" class=\"dataframe\">\n",
              "  <thead>\n",
              "    <tr style=\"text-align: right;\">\n",
              "      <th></th>\n",
              "      <th>Fit Type</th>\n",
              "      <th>Slope</th>\n",
              "      <th>Error in Slope</th>\n",
              "      <th>Y Intercept</th>\n",
              "      <th>Error in Y Intercept</th>\n",
              "    </tr>\n",
              "  </thead>\n",
              "  <tbody>\n",
              "    <tr>\n",
              "      <th>0</th>\n",
              "      <td>Linear</td>\n",
              "      <td>0.943394</td>\n",
              "      <td>0.057345</td>\n",
              "      <td>-0.012123</td>\n",
              "      <td>0.101778</td>\n",
              "    </tr>\n",
              "  </tbody>\n",
              "</table>\n",
              "</div>"
            ],
            "text/plain": [
              "  Fit Type     Slope  Error in Slope  Y Intercept  Error in Y Intercept\n",
              "0   Linear  0.943394        0.057345    -0.012123              0.101778"
            ]
          },
          "metadata": {
            "tags": []
          },
          "execution_count": 148
        }
      ]
    },
    {
      "cell_type": "code",
      "metadata": {
        "id": "SM12QHcmOzz7",
        "outputId": "d6ad08c4-62d2-487b-8cc1-2dad8ca59188",
        "colab": {
          "base_uri": "https://localhost:8080/",
          "height": 333
        }
      },
      "source": [
        "sigmai = np.array([dyint for i in range(npts)])\n",
        "plt.errorbar(xi, yi, yerr=sigmai, fmt='o', capsize=5, capthick=2)"
      ],
      "execution_count": 149,
      "outputs": [
        {
          "output_type": "stream",
          "text": [
            "/usr/local/lib/python3.6/dist-packages/ipykernel_launcher.py:2: MatplotlibDeprecationWarning: Support for passing a (n, 1)-shaped error array to errorbar() is deprecated since Matplotlib 3.1 and will be removed in 3.3; pass a 1D array instead.\n",
            "  \n"
          ],
          "name": "stderr"
        },
        {
          "output_type": "execute_result",
          "data": {
            "text/plain": [
              "<ErrorbarContainer object of 3 artists>"
            ]
          },
          "metadata": {
            "tags": []
          },
          "execution_count": 149
        },
        {
          "output_type": "display_data",
          "data": {
            "image/png": "[encoded data removed]",
            "text/plain": [
              "<Figure size 432x288 with 1 Axes>"
            ]
          },
          "metadata": {
            "tags": [],
            "needs_background": "light"
          }
        }
      ]
    },
    {
      "cell_type": "code",
      "metadata": {
        "id": "Eb_u9B9sO0Op",
        "outputId": "b2d4578d-efba-4ff9-e0da-ec04e2fc8ac5",
        "colab": {
          "base_uri": "https://localhost:8080/",
          "height": 378
        }
      },
      "source": [
        "#5\n",
        "\n",
        "npts = 11\n",
        "xlow = 0\n",
        "xhigh = 5\n",
        "\n",
        "xl = xlow + 0.01\n",
        "xmid = (xhigh+xlow)/2.0+0.01\n",
        "\n",
        "xi = np.linspace(xlow,xhigh,npts)\n",
        "yrandom = stats.norm.rvs(size=npts,loc=0,scale=.2)\n",
        "yi = xi + yrandom\n",
        "def fitfunction(x,*paramlist):\n",
        "    return paramlist[0]+paramlist[1]*x\n",
        "\n",
        "init_vals = [0.0 for x in range(2)]\n",
        "popt, pcov = curve_fit(fitfunction,xi,yi,p0=init_vals)\n",
        "perr = np.sqrt(np.diag(pcov))\n",
        "\n",
        "ps = np.random.multivariate_normal(popt,pcov,10000)\n",
        "ysample=np.asarray([fitfunction(xi,*pi) for pi in ps])\n",
        "\n",
        "lower = np.percentile(ysample,2.5,axis=0)\n",
        "upper = np.percentile(ysample,97.5,axis=0)\n",
        "middle = (lower+upper)/2.0\n",
        "\n",
        "print(\"Coefficients (from curve_fit)\")\n",
        "print (popt)\n",
        "print(\"Covariance Matrix (from curve_fit)\")\n",
        "print (pcov)\n",
        "\n",
        "print()\n",
        "print (\"Final Result: y = (%0.2f +/- %0.2f) x + (%0.2f +/- %0.2f)\" % (popt[1],perr[1],popt[0],perr[0]))\n",
        "\n",
        "plt.plot(xi,yi,'o')\n",
        "\n",
        "plt.plot(xi,middle)\n",
        "plt.plot(xi,lower)\n",
        "plt.plot(xi,upper)\n",
        "plt.show()\n",
        "\n",
        "slope = []\n",
        "dslope = []\n",
        "yint = []\n",
        "dyint = []\n",
        "type = []\n",
        "\n",
        "slope.append(popt[1])\n",
        "dslope.append(perr[1])\n",
        "yint.append(popt[0])\n",
        "dyint.append(perr[0])\n",
        "type.append('Linear')\n",
        "\n",
        "\n"
      ],
      "execution_count": 150,
      "outputs": [
        {
          "output_type": "stream",
          "text": [
            "Coefficients (from curve_fit)\n",
            "[-0.05858833  1.03412078]\n",
            "Covariance Matrix (from curve_fit)\n",
            "[[ 0.01409016 -0.00402576]\n",
            " [-0.00402576  0.0016103 ]]\n",
            "\n",
            "Final Result: y = (1.03 +/- 0.04) x + (-0.06 +/- 0.12)\n"
          ],
          "name": "stdout"
        },
        {
          "output_type": "display_data",
          "data": {
            "image/png": "[encoded data removed]",
            "text/plain": [
              "<Figure size 432x288 with 1 Axes>"
            ]
          },
          "metadata": {
            "tags": [],
            "needs_background": "light"
          }
        }
      ]
    },
    {
      "cell_type": "code",
      "metadata": {
        "id": "J4biu2GLO0eZ",
        "outputId": "96562232-18a4-4c63-f19f-35968d92be14",
        "colab": {
          "base_uri": "https://localhost:8080/",
          "height": 76
        }
      },
      "source": [
        "\n",
        "df = pd.DataFrame({'Fit Type':type, 'Slope':slope, 'Error in Slope':dslope, 'Y Intercept':yint, 'Error in Y Intercept':dyint})\n",
        "df.head()\n"
      ],
      "execution_count": 151,
      "outputs": [
        {
          "output_type": "execute_result",
          "data": {
            "text/html": [
              "<div>\n",
              "<style scoped>\n",
              "    .dataframe tbody tr th:only-of-type {\n",
              "        vertical-align: middle;\n",
              "    }\n",
              "\n",
              "    .dataframe tbody tr th {\n",
              "        vertical-align: top;\n",
              "    }\n",
              "\n",
              "    .dataframe thead th {\n",
              "        text-align: right;\n",
              "    }\n",
              "</style>\n",
              "<table border=\"1\" class=\"dataframe\">\n",
              "  <thead>\n",
              "    <tr style=\"text-align: right;\">\n",
              "      <th></th>\n",
              "      <th>Fit Type</th>\n",
              "      <th>Slope</th>\n",
              "      <th>Error in Slope</th>\n",
              "      <th>Y Intercept</th>\n",
              "      <th>Error in Y Intercept</th>\n",
              "    </tr>\n",
              "  </thead>\n",
              "  <tbody>\n",
              "    <tr>\n",
              "      <th>0</th>\n",
              "      <td>Linear</td>\n",
              "      <td>1.034121</td>\n",
              "      <td>0.040129</td>\n",
              "      <td>-0.058588</td>\n",
              "      <td>0.118702</td>\n",
              "    </tr>\n",
              "  </tbody>\n",
              "</table>\n",
              "</div>"
            ],
            "text/plain": [
              "  Fit Type     Slope  Error in Slope  Y Intercept  Error in Y Intercept\n",
              "0   Linear  1.034121        0.040129    -0.058588              0.118702"
            ]
          },
          "metadata": {
            "tags": []
          },
          "execution_count": 151
        }
      ]
    },
    {
      "cell_type": "code",
      "metadata": {
        "id": "VMhVDEv_O0rh",
        "outputId": "5a4c8f03-21bf-47ce-bb02-0cea08ebb86a",
        "colab": {
          "base_uri": "https://localhost:8080/",
          "height": 333
        }
      },
      "source": [
        "sigmai = np.array([dyint for i in range(npts)])\n",
        "plt.errorbar(xi, yi, yerr=sigmai, fmt='o', capsize=5, capthick=2)"
      ],
      "execution_count": 152,
      "outputs": [
        {
          "output_type": "stream",
          "text": [
            "/usr/local/lib/python3.6/dist-packages/ipykernel_launcher.py:2: MatplotlibDeprecationWarning: Support for passing a (n, 1)-shaped error array to errorbar() is deprecated since Matplotlib 3.1 and will be removed in 3.3; pass a 1D array instead.\n",
            "  \n"
          ],
          "name": "stderr"
        },
        {
          "output_type": "execute_result",
          "data": {
            "text/plain": [
              "<ErrorbarContainer object of 3 artists>"
            ]
          },
          "metadata": {
            "tags": []
          },
          "execution_count": 152
        },
        {
          "output_type": "display_data",
          "data": {
            "image/png": "[encoded data removed]",
            "text/plain": [
              "<Figure size 432x288 with 1 Axes>"
            ]
          },
          "metadata": {
            "tags": [],
            "needs_background": "light"
          }
        }
      ]
    },
    {
      "cell_type": "code",
      "metadata": {
        "id": "_-Vq8sHXO04V",
        "outputId": "f6d4e5e1-bf75-4a0e-e686-c3103c81121f",
        "colab": {
          "base_uri": "https://localhost:8080/",
          "height": 378
        }
      },
      "source": [
        "#6\n",
        "\n",
        "npts = 11\n",
        "xlow = 0\n",
        "xhigh = 6\n",
        "\n",
        "xl = xlow + 0.01\n",
        "xmid = (xhigh+xlow)/2.0+0.01\n",
        "\n",
        "xi = np.linspace(xlow,xhigh,npts)\n",
        "yrandom = stats.norm.rvs(size=npts,loc=0,scale=.2)\n",
        "yi = xi + yrandom\n",
        "\n",
        "def fitfunction(x,*paramlist):\n",
        "    return paramlist[0]+paramlist[1]*x\n",
        "\n",
        "init_vals = [0.0 for x in range(2)]\n",
        "popt, pcov = curve_fit(fitfunction,xi,yi,p0=init_vals)\n",
        "perr = np.sqrt(np.diag(pcov))\n",
        "\n",
        "ps = np.random.multivariate_normal(popt,pcov,10000)\n",
        "ysample=np.asarray([fitfunction(xi,*pi) for pi in ps])\n",
        "\n",
        "lower = np.percentile(ysample,2.5,axis=0)\n",
        "upper = np.percentile(ysample,97.5,axis=0)\n",
        "middle = (lower+upper)/2.0\n",
        "\n",
        "print(\"Coefficients (from curve_fit)\")\n",
        "print (popt)\n",
        "print(\"Covariance Matrix (from curve_fit)\")\n",
        "print (pcov)\n",
        "\n",
        "print()\n",
        "print (\"Final Result: y = (%0.2f +/- %0.2f) x + (%0.2f +/- %0.2f)\" % (popt[1],perr[1],popt[0],perr[0]))\n",
        "\n",
        "plt.plot(xi,yi,'o')\n",
        "\n",
        "plt.plot(xi,middle)\n",
        "plt.plot(xi,lower)\n",
        "plt.plot(xi,upper)\n",
        "plt.show()\n",
        "\n",
        "slope = []\n",
        "dslope = []\n",
        "yint = []\n",
        "dyint = []\n",
        "type = []\n",
        "\n",
        "slope.append(popt[1])\n",
        "dslope.append(perr[1])\n",
        "yint.append(popt[0])\n",
        "dyint.append(perr[0])\n",
        "type.append('Linear')\n",
        "\n"
      ],
      "execution_count": 153,
      "outputs": [
        {
          "output_type": "stream",
          "text": [
            "Coefficients (from curve_fit)\n",
            "[0.10317291 0.98428844]\n",
            "Covariance Matrix (from curve_fit)\n",
            "[[ 0.01272422 -0.00302958]\n",
            " [-0.00302958  0.00100986]]\n",
            "\n",
            "Final Result: y = (0.98 +/- 0.03) x + (0.10 +/- 0.11)\n"
          ],
          "name": "stdout"
        },
        {
          "output_type": "display_data",
          "data": {
            "image/png": "[encoded data removed]",
            "text/plain": [
              "<Figure size 432x288 with 1 Axes>"
            ]
          },
          "metadata": {
            "tags": [],
            "needs_background": "light"
          }
        }
      ]
    },
    {
      "cell_type": "code",
      "metadata": {
        "id": "LFeXttb3O1FM",
        "outputId": "dd55fe53-6432-451d-f60d-d998822eb933",
        "colab": {
          "base_uri": "https://localhost:8080/",
          "height": 76
        }
      },
      "source": [
        "df = pd.DataFrame({'Fit Type':type, 'Slope':slope, 'Error in Slope':dslope, 'Y Intercept':yint, 'Error in Y Intercept':dyint})\n",
        "df.head()\n"
      ],
      "execution_count": 154,
      "outputs": [
        {
          "output_type": "execute_result",
          "data": {
            "text/html": [
              "<div>\n",
              "<style scoped>\n",
              "    .dataframe tbody tr th:only-of-type {\n",
              "        vertical-align: middle;\n",
              "    }\n",
              "\n",
              "    .dataframe tbody tr th {\n",
              "        vertical-align: top;\n",
              "    }\n",
              "\n",
              "    .dataframe thead th {\n",
              "        text-align: right;\n",
              "    }\n",
              "</style>\n",
              "<table border=\"1\" class=\"dataframe\">\n",
              "  <thead>\n",
              "    <tr style=\"text-align: right;\">\n",
              "      <th></th>\n",
              "      <th>Fit Type</th>\n",
              "      <th>Slope</th>\n",
              "      <th>Error in Slope</th>\n",
              "      <th>Y Intercept</th>\n",
              "      <th>Error in Y Intercept</th>\n",
              "    </tr>\n",
              "  </thead>\n",
              "  <tbody>\n",
              "    <tr>\n",
              "      <th>0</th>\n",
              "      <td>Linear</td>\n",
              "      <td>0.984288</td>\n",
              "      <td>0.031778</td>\n",
              "      <td>0.103173</td>\n",
              "      <td>0.112802</td>\n",
              "    </tr>\n",
              "  </tbody>\n",
              "</table>\n",
              "</div>"
            ],
            "text/plain": [
              "  Fit Type     Slope  Error in Slope  Y Intercept  Error in Y Intercept\n",
              "0   Linear  0.984288        0.031778     0.103173              0.112802"
            ]
          },
          "metadata": {
            "tags": []
          },
          "execution_count": 154
        }
      ]
    },
    {
      "cell_type": "code",
      "metadata": {
        "id": "_JJzEf2jO1BQ",
        "outputId": "59d1a089-fc6e-4fba-cceb-6fa71b4ce624",
        "colab": {
          "base_uri": "https://localhost:8080/",
          "height": 333
        }
      },
      "source": [
        "sigmai = np.array([dyint for i in range(npts)])\n",
        "plt.errorbar(xi, yi, yerr=sigmai, fmt='o', capsize=5, capthick=2)"
      ],
      "execution_count": 155,
      "outputs": [
        {
          "output_type": "stream",
          "text": [
            "/usr/local/lib/python3.6/dist-packages/ipykernel_launcher.py:2: MatplotlibDeprecationWarning: Support for passing a (n, 1)-shaped error array to errorbar() is deprecated since Matplotlib 3.1 and will be removed in 3.3; pass a 1D array instead.\n",
            "  \n"
          ],
          "name": "stderr"
        },
        {
          "output_type": "execute_result",
          "data": {
            "text/plain": [
              "<ErrorbarContainer object of 3 artists>"
            ]
          },
          "metadata": {
            "tags": []
          },
          "execution_count": 155
        },
        {
          "output_type": "display_data",
          "data": {
            "image/png": "[encoded data removed]",
            "text/plain": [
              "<Figure size 432x288 with 1 Axes>"
            ]
          },
          "metadata": {
            "tags": [],
            "needs_background": "light"
          }
        }
      ]
    },
    {
      "cell_type": "code",
      "metadata": {
        "id": "Ik-A494wO00O",
        "outputId": "b7ce7fb3-9b36-4c55-ea34-36753e263d6c",
        "colab": {
          "base_uri": "https://localhost:8080/",
          "height": 378
        }
      },
      "source": [
        "#7\n",
        "\n",
        "npts = 11\n",
        "xlow = 0\n",
        "xhigh = 7\n",
        "\n",
        "xl = xlow + 0.01\n",
        "xmid = (xhigh+xlow)/2.0+0.01\n",
        "\n",
        "xi = np.linspace(xlow,xhigh,npts)\n",
        "yrandom = stats.norm.rvs(size=npts,loc=0,scale=.2)\n",
        "yi = xi + yrandom\n",
        "\n",
        "def fitfunction(x,*paramlist):\n",
        "    return paramlist[0]+paramlist[1]*x\n",
        "\n",
        "init_vals = [0.0 for x in range(2)]\n",
        "popt, pcov = curve_fit(fitfunction,xi,yi,p0=init_vals)\n",
        "perr = np.sqrt(np.diag(pcov))\n",
        "\n",
        "ps = np.random.multivariate_normal(popt,pcov,10000)\n",
        "ysample=np.asarray([fitfunction(xi,*pi) for pi in ps])\n",
        "\n",
        "lower = np.percentile(ysample,2.5,axis=0)\n",
        "upper = np.percentile(ysample,97.5,axis=0)\n",
        "middle = (lower+upper)/2.0\n",
        "\n",
        "print(\"Coefficients (from curve_fit)\")\n",
        "print (popt)\n",
        "print(\"Covariance Matrix (from curve_fit)\")\n",
        "print (pcov)\n",
        "\n",
        "print()\n",
        "print (\"Final Result: y = (%0.2f +/- %0.2f) x + (%0.2f +/- %0.2f)\" % (popt[1],perr[1],popt[0],perr[0]))\n",
        "\n",
        "plt.plot(xi,yi,'o')\n",
        "\n",
        "plt.plot(xi,middle)\n",
        "plt.plot(xi,lower)\n",
        "plt.plot(xi,upper)\n",
        "plt.show()\n",
        "\n",
        "slope = []\n",
        "dslope = []\n",
        "yint = []\n",
        "dyint = []\n",
        "type = []\n",
        "\n",
        "slope.append(popt[1])\n",
        "dslope.append(perr[1])\n",
        "yint.append(popt[0])\n",
        "dyint.append(perr[0])\n",
        "type.append('Linear')\n",
        "\n",
        "\n",
        "\n"
      ],
      "execution_count": 156,
      "outputs": [
        {
          "output_type": "stream",
          "text": [
            "Coefficients (from curve_fit)\n",
            "[0.05734649 0.97544037]\n",
            "Covariance Matrix (from curve_fit)\n",
            "[[ 0.01516427 -0.00309475]\n",
            " [-0.00309475  0.00088421]]\n",
            "\n",
            "Final Result: y = (0.98 +/- 0.03) x + (0.06 +/- 0.12)\n"
          ],
          "name": "stdout"
        },
        {
          "output_type": "display_data",
          "data": {
            "image/png": "[encoded data removed]",
            "text/plain": [
              "<Figure size 432x288 with 1 Axes>"
            ]
          },
          "metadata": {
            "tags": [],
            "needs_background": "light"
          }
        }
      ]
    },
    {
      "cell_type": "code",
      "metadata": {
        "id": "bpj6tvY4O0nE",
        "outputId": "bd09922b-39f7-4ba5-bf12-1f5aa102406f",
        "colab": {
          "base_uri": "https://localhost:8080/",
          "height": 76
        }
      },
      "source": [
        "df = pd.DataFrame({'Fit Type':type, 'Slope':slope, 'Error in Slope':dslope, 'Y Intercept':yint, 'Error in Y Intercept':dyint})\n",
        "df.head()"
      ],
      "execution_count": 157,
      "outputs": [
        {
          "output_type": "execute_result",
          "data": {
            "text/html": [
              "<div>\n",
              "<style scoped>\n",
              "    .dataframe tbody tr th:only-of-type {\n",
              "        vertical-align: middle;\n",
              "    }\n",
              "\n",
              "    .dataframe tbody tr th {\n",
              "        vertical-align: top;\n",
              "    }\n",
              "\n",
              "    .dataframe thead th {\n",
              "        text-align: right;\n",
              "    }\n",
              "</style>\n",
              "<table border=\"1\" class=\"dataframe\">\n",
              "  <thead>\n",
              "    <tr style=\"text-align: right;\">\n",
              "      <th></th>\n",
              "      <th>Fit Type</th>\n",
              "      <th>Slope</th>\n",
              "      <th>Error in Slope</th>\n",
              "      <th>Y Intercept</th>\n",
              "      <th>Error in Y Intercept</th>\n",
              "    </tr>\n",
              "  </thead>\n",
              "  <tbody>\n",
              "    <tr>\n",
              "      <th>0</th>\n",
              "      <td>Linear</td>\n",
              "      <td>0.97544</td>\n",
              "      <td>0.029736</td>\n",
              "      <td>0.057346</td>\n",
              "      <td>0.123143</td>\n",
              "    </tr>\n",
              "  </tbody>\n",
              "</table>\n",
              "</div>"
            ],
            "text/plain": [
              "  Fit Type    Slope  Error in Slope  Y Intercept  Error in Y Intercept\n",
              "0   Linear  0.97544        0.029736     0.057346              0.123143"
            ]
          },
          "metadata": {
            "tags": []
          },
          "execution_count": 157
        }
      ]
    },
    {
      "cell_type": "code",
      "metadata": {
        "id": "xDtlzF_EO0Yb",
        "outputId": "da3cf9fd-ed16-4c52-cda6-c0ee97da7315",
        "colab": {
          "base_uri": "https://localhost:8080/",
          "height": 333
        }
      },
      "source": [
        "sigmai = np.array([dyint for i in range(npts)])\n",
        "plt.errorbar(xi, yi, yerr=sigmai, fmt='o', capsize=5, capthick=2)"
      ],
      "execution_count": 158,
      "outputs": [
        {
          "output_type": "stream",
          "text": [
            "/usr/local/lib/python3.6/dist-packages/ipykernel_launcher.py:2: MatplotlibDeprecationWarning: Support for passing a (n, 1)-shaped error array to errorbar() is deprecated since Matplotlib 3.1 and will be removed in 3.3; pass a 1D array instead.\n",
            "  \n"
          ],
          "name": "stderr"
        },
        {
          "output_type": "execute_result",
          "data": {
            "text/plain": [
              "<ErrorbarContainer object of 3 artists>"
            ]
          },
          "metadata": {
            "tags": []
          },
          "execution_count": 158
        },
        {
          "output_type": "display_data",
          "data": {
            "image/png": "[encoded data removed]",
            "text/plain": [
              "<Figure size 432x288 with 1 Axes>"
            ]
          },
          "metadata": {
            "tags": [],
            "needs_background": "light"
          }
        }
      ]
    },
    {
      "cell_type": "code",
      "metadata": {
        "id": "LIg8AbWGO0IR",
        "outputId": "2d9b8e14-7820-4fc7-9de2-4263c166eb9b",
        "colab": {
          "base_uri": "https://localhost:8080/",
          "height": 378
        }
      },
      "source": [
        "#8\n",
        "\n",
        "npts = 11\n",
        "xlow = 0\n",
        "xhigh = 8\n",
        "\n",
        "xl = xlow + 0.01\n",
        "xmid = (xhigh+xlow)/2.0+0.01\n",
        "\n",
        "xi = np.linspace(xlow,xhigh,npts)\n",
        "yrandom = stats.norm.rvs(size=npts,loc=0,scale=.2)\n",
        "yi = xi + yrandom\n",
        "\n",
        "def fitfunction(x,*paramlist):\n",
        "    return paramlist[0]+paramlist[1]*x\n",
        "\n",
        "init_vals = [0.0 for x in range(2)]\n",
        "popt, pcov = curve_fit(fitfunction,xi,yi,p0=init_vals)\n",
        "perr = np.sqrt(np.diag(pcov))\n",
        "\n",
        "ps = np.random.multivariate_normal(popt,pcov,10000)\n",
        "ysample=np.asarray([fitfunction(xi,*pi) for pi in ps])\n",
        "\n",
        "lower = np.percentile(ysample,2.5,axis=0)\n",
        "upper = np.percentile(ysample,97.5,axis=0)\n",
        "middle = (lower+upper)/2.0\n",
        "\n",
        "print(\"Coefficients (from curve_fit)\")\n",
        "print (popt)\n",
        "print(\"Covariance Matrix (from curve_fit)\")\n",
        "print (pcov)\n",
        "\n",
        "print()\n",
        "print (\"Final Result: y = (%0.2f +/- %0.2f) x + (%0.2f +/- %0.2f)\" % (popt[1],perr[1],popt[0],perr[0]))\n",
        "\n",
        "plt.plot(xi,yi,'o')\n",
        "\n",
        "plt.plot(xi,middle)\n",
        "plt.plot(xi,lower)\n",
        "plt.plot(xi,upper)\n",
        "plt.show()\n",
        "\n",
        "slope = []\n",
        "dslope = []\n",
        "yint = []\n",
        "dyint = []\n",
        "type = []\n",
        "\n",
        "slope.append(popt[1])\n",
        "dslope.append(perr[1])\n",
        "yint.append(popt[0])\n",
        "dyint.append(perr[0])\n",
        "type.append('Linear')\n",
        "\n"
      ],
      "execution_count": 159,
      "outputs": [
        {
          "output_type": "stream",
          "text": [
            "Coefficients (from curve_fit)\n",
            "[1.86807243e-04 9.90303632e-01]\n",
            "Covariance Matrix (from curve_fit)\n",
            "[[ 0.00936923 -0.00167308]\n",
            " [-0.00167308  0.00041828]]\n",
            "\n",
            "Final Result: y = (0.99 +/- 0.02) x + (0.00 +/- 0.10)\n"
          ],
          "name": "stdout"
        },
        {
          "output_type": "display_data",
          "data": {
            "image/png": "[encoded data removed]",
            "text/plain": [
              "<Figure size 432x288 with 1 Axes>"
            ]
          },
          "metadata": {
            "tags": [],
            "needs_background": "light"
          }
        }
      ]
    },
    {
      "cell_type": "code",
      "metadata": {
        "id": "AZZOIAvIOzrG",
        "outputId": "9e73663d-550c-40ef-9383-13cb6a5be47c",
        "colab": {
          "base_uri": "https://localhost:8080/",
          "height": 76
        }
      },
      "source": [
        "df = pd.DataFrame({'Fit Type':type, 'Slope':slope, 'Error in Slope':dslope, 'Y Intercept':yint, 'Error in Y Intercept':dyint})\n",
        "df.head()\n"
      ],
      "execution_count": 160,
      "outputs": [
        {
          "output_type": "execute_result",
          "data": {
            "text/html": [
              "<div>\n",
              "<style scoped>\n",
              "    .dataframe tbody tr th:only-of-type {\n",
              "        vertical-align: middle;\n",
              "    }\n",
              "\n",
              "    .dataframe tbody tr th {\n",
              "        vertical-align: top;\n",
              "    }\n",
              "\n",
              "    .dataframe thead th {\n",
              "        text-align: right;\n",
              "    }\n",
              "</style>\n",
              "<table border=\"1\" class=\"dataframe\">\n",
              "  <thead>\n",
              "    <tr style=\"text-align: right;\">\n",
              "      <th></th>\n",
              "      <th>Fit Type</th>\n",
              "      <th>Slope</th>\n",
              "      <th>Error in Slope</th>\n",
              "      <th>Y Intercept</th>\n",
              "      <th>Error in Y Intercept</th>\n",
              "    </tr>\n",
              "  </thead>\n",
              "  <tbody>\n",
              "    <tr>\n",
              "      <th>0</th>\n",
              "      <td>Linear</td>\n",
              "      <td>0.990304</td>\n",
              "      <td>0.020452</td>\n",
              "      <td>0.000187</td>\n",
              "      <td>0.096795</td>\n",
              "    </tr>\n",
              "  </tbody>\n",
              "</table>\n",
              "</div>"
            ],
            "text/plain": [
              "  Fit Type     Slope  Error in Slope  Y Intercept  Error in Y Intercept\n",
              "0   Linear  0.990304        0.020452     0.000187              0.096795"
            ]
          },
          "metadata": {
            "tags": []
          },
          "execution_count": 160
        }
      ]
    },
    {
      "cell_type": "code",
      "metadata": {
        "id": "EM59cfdROzFy",
        "outputId": "c739c8cc-e79d-4a61-faf9-5fc1480e63e9",
        "colab": {
          "base_uri": "https://localhost:8080/",
          "height": 333
        }
      },
      "source": [
        "sigmai = np.array([dyint for i in range(npts)])\n",
        "plt.errorbar(xi, yi, yerr=sigmai, fmt='o', capsize=5, capthick=2)"
      ],
      "execution_count": 161,
      "outputs": [
        {
          "output_type": "stream",
          "text": [
            "/usr/local/lib/python3.6/dist-packages/ipykernel_launcher.py:2: MatplotlibDeprecationWarning: Support for passing a (n, 1)-shaped error array to errorbar() is deprecated since Matplotlib 3.1 and will be removed in 3.3; pass a 1D array instead.\n",
            "  \n"
          ],
          "name": "stderr"
        },
        {
          "output_type": "execute_result",
          "data": {
            "text/plain": [
              "<ErrorbarContainer object of 3 artists>"
            ]
          },
          "metadata": {
            "tags": []
          },
          "execution_count": 161
        },
        {
          "output_type": "display_data",
          "data": {
            "image/png": "[encoded data removed]",
            "text/plain": [
              "<Figure size 432x288 with 1 Axes>"
            ]
          },
          "metadata": {
            "tags": [],
            "needs_background": "light"
          }
        }
      ]
    },
    {
      "cell_type": "code",
      "metadata": {
        "id": "_WYt4Ps1PlzN",
        "outputId": "e32198a3-d134-44fc-c1f6-40bf2b96dfbc",
        "colab": {
          "base_uri": "https://localhost:8080/",
          "height": 378
        }
      },
      "source": [
        "#9\n",
        "\n",
        "npts = 11\n",
        "xlow = 0\n",
        "xhigh = 9\n",
        "\n",
        "xl = xlow + 0.01\n",
        "xmid = (xhigh+xlow)/2.0+0.01\n",
        "\n",
        "xi = np.linspace(xlow,xhigh,npts)\n",
        "yrandom = stats.norm.rvs(size=npts,loc=0,scale=.2)\n",
        "yi = xi + yrandom\n",
        "\n",
        "def fitfunction(x,*paramlist):\n",
        "    return paramlist[0]+paramlist[1]*x\n",
        "\n",
        "init_vals = [0.0 for x in range(2)]\n",
        "popt, pcov = curve_fit(fitfunction,xi,yi,p0=init_vals)\n",
        "perr = np.sqrt(np.diag(pcov))\n",
        "\n",
        "ps = np.random.multivariate_normal(popt,pcov,10000)\n",
        "ysample=np.asarray([fitfunction(xi,*pi) for pi in ps])\n",
        "\n",
        "lower = np.percentile(ysample,2.5,axis=0)\n",
        "upper = np.percentile(ysample,97.5,axis=0)\n",
        "middle = (lower+upper)/2.0\n",
        "\n",
        "print(\"Coefficients (from curve_fit)\")\n",
        "print (popt)\n",
        "print(\"Covariance Matrix (from curve_fit)\")\n",
        "print (pcov)\n",
        "\n",
        "print()\n",
        "print (\"Final Result: y = (%0.2f +/- %0.2f) x + (%0.2f +/- %0.2f)\" % (popt[1],perr[1],popt[0],perr[0]))\n",
        "\n",
        "plt.plot(xi,yi,'o')\n",
        "\n",
        "plt.plot(xi,middle)\n",
        "plt.plot(xi,lower)\n",
        "plt.plot(xi,upper)\n",
        "plt.show()\n",
        "\n",
        "slope = []\n",
        "dslope = []\n",
        "yint = []\n",
        "dyint = []\n",
        "type = []\n",
        "\n",
        "slope.append(popt[1])\n",
        "dslope.append(perr[1])\n",
        "yint.append(popt[0])\n",
        "dyint.append(perr[0])\n",
        "type.append('Linear')\n",
        "\n",
        "\n",
        "\n"
      ],
      "execution_count": 162,
      "outputs": [
        {
          "output_type": "stream",
          "text": [
            "Coefficients (from curve_fit)\n",
            "[-0.12222937  1.01467832]\n",
            "Covariance Matrix (from curve_fit)\n",
            "[[ 0.012512   -0.00198603]\n",
            " [-0.00198603  0.00044134]]\n",
            "\n",
            "Final Result: y = (1.01 +/- 0.02) x + (-0.12 +/- 0.11)\n"
          ],
          "name": "stdout"
        },
        {
          "output_type": "display_data",
          "data": {
            "image/png": "[encoded data removed]",
            "text/plain": [
              "<Figure size 432x288 with 1 Axes>"
            ]
          },
          "metadata": {
            "tags": [],
            "needs_background": "light"
          }
        }
      ]
    },
    {
      "cell_type": "code",
      "metadata": {
        "id": "3DJuQIQEPmDd",
        "outputId": "de441857-285c-4295-d6cf-0c1610ac99e7",
        "colab": {
          "base_uri": "https://localhost:8080/",
          "height": 76
        }
      },
      "source": [
        "\n",
        "df = pd.DataFrame({'Fit Type':type, 'Slope':slope, 'Error in Slope':dslope, 'Y Intercept':yint, 'Error in Y Intercept':dyint})\n",
        "df.head()"
      ],
      "execution_count": 163,
      "outputs": [
        {
          "output_type": "execute_result",
          "data": {
            "text/html": [
              "<div>\n",
              "<style scoped>\n",
              "    .dataframe tbody tr th:only-of-type {\n",
              "        vertical-align: middle;\n",
              "    }\n",
              "\n",
              "    .dataframe tbody tr th {\n",
              "        vertical-align: top;\n",
              "    }\n",
              "\n",
              "    .dataframe thead th {\n",
              "        text-align: right;\n",
              "    }\n",
              "</style>\n",
              "<table border=\"1\" class=\"dataframe\">\n",
              "  <thead>\n",
              "    <tr style=\"text-align: right;\">\n",
              "      <th></th>\n",
              "      <th>Fit Type</th>\n",
              "      <th>Slope</th>\n",
              "      <th>Error in Slope</th>\n",
              "      <th>Y Intercept</th>\n",
              "      <th>Error in Y Intercept</th>\n",
              "    </tr>\n",
              "  </thead>\n",
              "  <tbody>\n",
              "    <tr>\n",
              "      <th>0</th>\n",
              "      <td>Linear</td>\n",
              "      <td>1.014678</td>\n",
              "      <td>0.021008</td>\n",
              "      <td>-0.122229</td>\n",
              "      <td>0.111857</td>\n",
              "    </tr>\n",
              "  </tbody>\n",
              "</table>\n",
              "</div>"
            ],
            "text/plain": [
              "  Fit Type     Slope  Error in Slope  Y Intercept  Error in Y Intercept\n",
              "0   Linear  1.014678        0.021008    -0.122229              0.111857"
            ]
          },
          "metadata": {
            "tags": []
          },
          "execution_count": 163
        }
      ]
    },
    {
      "cell_type": "code",
      "metadata": {
        "id": "fuRF8iGhPmQ3",
        "outputId": "ec440d4d-5221-4fe1-d8c4-1d7c512bffe5",
        "colab": {
          "base_uri": "https://localhost:8080/",
          "height": 333
        }
      },
      "source": [
        "sigmai = np.array([dyint for i in range(npts)])\n",
        "plt.errorbar(xi, yi, yerr=sigmai, fmt='o', capsize=5, capthick=2)"
      ],
      "execution_count": 164,
      "outputs": [
        {
          "output_type": "stream",
          "text": [
            "/usr/local/lib/python3.6/dist-packages/ipykernel_launcher.py:2: MatplotlibDeprecationWarning: Support for passing a (n, 1)-shaped error array to errorbar() is deprecated since Matplotlib 3.1 and will be removed in 3.3; pass a 1D array instead.\n",
            "  \n"
          ],
          "name": "stderr"
        },
        {
          "output_type": "execute_result",
          "data": {
            "text/plain": [
              "<ErrorbarContainer object of 3 artists>"
            ]
          },
          "metadata": {
            "tags": []
          },
          "execution_count": 164
        },
        {
          "output_type": "display_data",
          "data": {
            "image/png": "[encoded data removed]",
            "text/plain": [
              "<Figure size 432x288 with 1 Axes>"
            ]
          },
          "metadata": {
            "tags": [],
            "needs_background": "light"
          }
        }
      ]
    },
    {
      "cell_type": "code",
      "metadata": {
        "id": "5y34D6Q5Pmfa",
        "outputId": "4c28affa-ca76-49df-8b4c-a9d33567aa7f",
        "colab": {
          "base_uri": "https://localhost:8080/",
          "height": 378
        }
      },
      "source": [
        "#10\n",
        "\n",
        "npts = 11\n",
        "xlow = 0\n",
        "xhigh = 10\n",
        "\n",
        "xl = xlow + 0.01\n",
        "xmid = (xhigh+xlow)/2.0+0.01\n",
        "\n",
        "xi = np.linspace(xlow,xhigh,npts)\n",
        "yrandom = stats.norm.rvs(size=npts,loc=0,scale=.2)\n",
        "yi = xi + yrandom\n",
        "\n",
        "def fitfunction(x,*paramlist):\n",
        "    return paramlist[0]+paramlist[1]*x\n",
        "\n",
        "init_vals = [0.0 for x in range(2)]\n",
        "popt, pcov = curve_fit(fitfunction,xi,yi,p0=init_vals)\n",
        "perr = np.sqrt(np.diag(pcov))\n",
        "\n",
        "ps = np.random.multivariate_normal(popt,pcov,10000)\n",
        "ysample=np.asarray([fitfunction(xi,*pi) for pi in ps])\n",
        "\n",
        "lower = np.percentile(ysample,2.5,axis=0)\n",
        "upper = np.percentile(ysample,97.5,axis=0)\n",
        "middle = (lower+upper)/2.0\n",
        "\n",
        "print(\"Coefficients (from curve_fit)\")\n",
        "print (popt)\n",
        "print(\"Covariance Matrix (from curve_fit)\")\n",
        "print (pcov)\n",
        "\n",
        "print()\n",
        "print (\"Final Result: y = (%0.2f +/- %0.2f) x + (%0.2f +/- %0.2f)\" % (popt[1],perr[1],popt[0],perr[0]))\n",
        "\n",
        "plt.plot(xi,yi,'o')\n",
        "\n",
        "plt.plot(xi,middle)\n",
        "plt.plot(xi,lower)\n",
        "plt.plot(xi,upper)\n",
        "plt.show()\n",
        "\n",
        "slope = []\n",
        "dslope = []\n",
        "yint = []\n",
        "dyint = []\n",
        "type = []\n",
        "\n",
        "slope.append(popt[1])\n",
        "dslope.append(perr[1])\n",
        "yint.append(popt[0])\n",
        "dyint.append(perr[0])\n",
        "type.append('Linear')\n"
      ],
      "execution_count": 165,
      "outputs": [
        {
          "output_type": "stream",
          "text": [
            "Coefficients (from curve_fit)\n",
            "[0.01106283 1.00768927]\n",
            "Covariance Matrix (from curve_fit)\n",
            "[[ 0.01881401 -0.00268772]\n",
            " [-0.00268772  0.00053754]]\n",
            "\n",
            "Final Result: y = (1.01 +/- 0.02) x + (0.01 +/- 0.14)\n"
          ],
          "name": "stdout"
        },
        {
          "output_type": "display_data",
          "data": {
            "image/png": "[encoded data removed]",
            "text/plain": [
              "<Figure size 432x288 with 1 Axes>"
            ]
          },
          "metadata": {
            "tags": [],
            "needs_background": "light"
          }
        }
      ]
    },
    {
      "cell_type": "code",
      "metadata": {
        "id": "vuVuXJ3xPmkl",
        "outputId": "bfc6665e-a252-41e7-d576-0c1966d05062",
        "colab": {
          "base_uri": "https://localhost:8080/",
          "height": 76
        }
      },
      "source": [
        "\n",
        "df = pd.DataFrame({'Fit Type':type, 'Slope':slope, 'Error in Slope':dslope, 'Y Intercept':yint, 'Error in Y Intercept':dyint})\n",
        "df.head()\n"
      ],
      "execution_count": 166,
      "outputs": [
        {
          "output_type": "execute_result",
          "data": {
            "text/html": [
              "<div>\n",
              "<style scoped>\n",
              "    .dataframe tbody tr th:only-of-type {\n",
              "        vertical-align: middle;\n",
              "    }\n",
              "\n",
              "    .dataframe tbody tr th {\n",
              "        vertical-align: top;\n",
              "    }\n",
              "\n",
              "    .dataframe thead th {\n",
              "        text-align: right;\n",
              "    }\n",
              "</style>\n",
              "<table border=\"1\" class=\"dataframe\">\n",
              "  <thead>\n",
              "    <tr style=\"text-align: right;\">\n",
              "      <th></th>\n",
              "      <th>Fit Type</th>\n",
              "      <th>Slope</th>\n",
              "      <th>Error in Slope</th>\n",
              "      <th>Y Intercept</th>\n",
              "      <th>Error in Y Intercept</th>\n",
              "    </tr>\n",
              "  </thead>\n",
              "  <tbody>\n",
              "    <tr>\n",
              "      <th>0</th>\n",
              "      <td>Linear</td>\n",
              "      <td>1.007689</td>\n",
              "      <td>0.023185</td>\n",
              "      <td>0.011063</td>\n",
              "      <td>0.137164</td>\n",
              "    </tr>\n",
              "  </tbody>\n",
              "</table>\n",
              "</div>"
            ],
            "text/plain": [
              "  Fit Type     Slope  Error in Slope  Y Intercept  Error in Y Intercept\n",
              "0   Linear  1.007689        0.023185     0.011063              0.137164"
            ]
          },
          "metadata": {
            "tags": []
          },
          "execution_count": 166
        }
      ]
    },
    {
      "cell_type": "code",
      "metadata": {
        "id": "cYgyXEApPmU7",
        "outputId": "757384af-8419-4343-b1e0-8f248ba95c41",
        "colab": {
          "base_uri": "https://localhost:8080/",
          "height": 333
        }
      },
      "source": [
        "sigmai = np.array([dyint for i in range(npts)])\n",
        "plt.errorbar(xi, yi, yerr=sigmai, fmt='o', capsize=5, capthick=2)"
      ],
      "execution_count": 167,
      "outputs": [
        {
          "output_type": "stream",
          "text": [
            "/usr/local/lib/python3.6/dist-packages/ipykernel_launcher.py:2: MatplotlibDeprecationWarning: Support for passing a (n, 1)-shaped error array to errorbar() is deprecated since Matplotlib 3.1 and will be removed in 3.3; pass a 1D array instead.\n",
            "  \n"
          ],
          "name": "stderr"
        },
        {
          "output_type": "execute_result",
          "data": {
            "text/plain": [
              "<ErrorbarContainer object of 3 artists>"
            ]
          },
          "metadata": {
            "tags": []
          },
          "execution_count": 167
        },
        {
          "output_type": "display_data",
          "data": {
            "image/png": "[encoded data removed]",
            "text/plain": [
              "<Figure size 432x288 with 1 Axes>"
            ]
          },
          "metadata": {
            "tags": [],
            "needs_background": "light"
          }
        }
      ]
    },
    {
      "cell_type": "code",
      "metadata": {
        "id": "YaOusQZcPmHU",
        "outputId": "6fb96ea7-d874-4815-c0e8-99b1ca474edd",
        "colab": {
          "base_uri": "https://localhost:8080/",
          "height": 378
        }
      },
      "source": [
        "#11\n",
        "\n",
        "npts = 11\n",
        "xlow = 2\n",
        "xhigh = 10\n",
        "\n",
        "xl = xlow + 0.01\n",
        "xmid = (xhigh+xlow)/2.0+0.01\n",
        "\n",
        "xi = np.linspace(xlow,xhigh,npts)\n",
        "yrandom = stats.norm.rvs(size=npts,loc=0,scale=.2)\n",
        "yi = xi + yrandom\n",
        "\n",
        "def fitfunction(x,*paramlist):\n",
        "    return paramlist[0]+paramlist[1]*x\n",
        "\n",
        "init_vals = [0.0 for x in range(2)]\n",
        "popt, pcov = curve_fit(fitfunction,xi,yi,p0=init_vals)\n",
        "perr = np.sqrt(np.diag(pcov))\n",
        "\n",
        "ps = np.random.multivariate_normal(popt,pcov,10000)\n",
        "ysample=np.asarray([fitfunction(xi,*pi) for pi in ps])\n",
        "\n",
        "lower = np.percentile(ysample,2.5,axis=0)\n",
        "upper = np.percentile(ysample,97.5,axis=0)\n",
        "middle = (lower+upper)/2.0\n",
        "\n",
        "print(\"Coefficients (from curve_fit)\")\n",
        "print (popt)\n",
        "print(\"Covariance Matrix (from curve_fit)\")\n",
        "print (pcov)\n",
        "\n",
        "print()\n",
        "print (\"Final Result: y = (%0.2f +/- %0.2f) x + (%0.2f +/- %0.2f)\" % (popt[1],perr[1],popt[0],perr[0]))\n",
        "\n",
        "plt.plot(xi,yi,'o')\n",
        "\n",
        "plt.plot(xi,middle)\n",
        "plt.plot(xi,lower)\n",
        "plt.plot(xi,upper)\n",
        "plt.show()\n",
        "\n",
        "slope = []\n",
        "dslope = []\n",
        "yint = []\n",
        "dyint = []\n",
        "type = []\n",
        "\n",
        "slope.append(popt[1])\n",
        "dslope.append(perr[1])\n",
        "yint.append(popt[0])\n",
        "dyint.append(perr[0])\n",
        "type.append('Linear')\n",
        "\n"
      ],
      "execution_count": 168,
      "outputs": [
        {
          "output_type": "stream",
          "text": [
            "Coefficients (from curve_fit)\n",
            "[-0.04232233  0.99872825]\n",
            "Covariance Matrix (from curve_fit)\n",
            "[[ 0.01091527 -0.00154461]\n",
            " [-0.00154461  0.00025744]]\n",
            "\n",
            "Final Result: y = (1.00 +/- 0.02) x + (-0.04 +/- 0.10)\n"
          ],
          "name": "stdout"
        },
        {
          "output_type": "display_data",
          "data": {
            "image/png": "[encoded data removed]",
            "text/plain": [
              "<Figure size 432x288 with 1 Axes>"
            ]
          },
          "metadata": {
            "tags": [],
            "needs_background": "light"
          }
        }
      ]
    },
    {
      "cell_type": "code",
      "metadata": {
        "id": "p50zDo-7Pl4T",
        "outputId": "1ee6557a-4364-43a7-b21b-231afeaaa4e8",
        "colab": {
          "base_uri": "https://localhost:8080/",
          "height": 76
        }
      },
      "source": [
        "df = pd.DataFrame({'Fit Type':type, 'Slope':slope, 'Error in Slope':dslope, 'Y Intercept':yint, 'Error in Y Intercept':dyint})\n",
        "df.head()"
      ],
      "execution_count": 169,
      "outputs": [
        {
          "output_type": "execute_result",
          "data": {
            "text/html": [
              "<div>\n",
              "<style scoped>\n",
              "    .dataframe tbody tr th:only-of-type {\n",
              "        vertical-align: middle;\n",
              "    }\n",
              "\n",
              "    .dataframe tbody tr th {\n",
              "        vertical-align: top;\n",
              "    }\n",
              "\n",
              "    .dataframe thead th {\n",
              "        text-align: right;\n",
              "    }\n",
              "</style>\n",
              "<table border=\"1\" class=\"dataframe\">\n",
              "  <thead>\n",
              "    <tr style=\"text-align: right;\">\n",
              "      <th></th>\n",
              "      <th>Fit Type</th>\n",
              "      <th>Slope</th>\n",
              "      <th>Error in Slope</th>\n",
              "      <th>Y Intercept</th>\n",
              "      <th>Error in Y Intercept</th>\n",
              "    </tr>\n",
              "  </thead>\n",
              "  <tbody>\n",
              "    <tr>\n",
              "      <th>0</th>\n",
              "      <td>Linear</td>\n",
              "      <td>0.998728</td>\n",
              "      <td>0.016045</td>\n",
              "      <td>-0.042322</td>\n",
              "      <td>0.104476</td>\n",
              "    </tr>\n",
              "  </tbody>\n",
              "</table>\n",
              "</div>"
            ],
            "text/plain": [
              "  Fit Type     Slope  Error in Slope  Y Intercept  Error in Y Intercept\n",
              "0   Linear  0.998728        0.016045    -0.042322              0.104476"
            ]
          },
          "metadata": {
            "tags": []
          },
          "execution_count": 169
        }
      ]
    },
    {
      "cell_type": "code",
      "metadata": {
        "id": "JFzMozXaPlsX",
        "outputId": "e54a1255-d959-4a73-dcf8-2bb044eb362b",
        "colab": {
          "base_uri": "https://localhost:8080/",
          "height": 333
        }
      },
      "source": [
        "sigmai = np.array([dyint for i in range(npts)])\n",
        "plt.errorbar(xi, yi, yerr=sigmai, fmt='o', capsize=5, capthick=2)"
      ],
      "execution_count": 170,
      "outputs": [
        {
          "output_type": "stream",
          "text": [
            "/usr/local/lib/python3.6/dist-packages/ipykernel_launcher.py:2: MatplotlibDeprecationWarning: Support for passing a (n, 1)-shaped error array to errorbar() is deprecated since Matplotlib 3.1 and will be removed in 3.3; pass a 1D array instead.\n",
            "  \n"
          ],
          "name": "stderr"
        },
        {
          "output_type": "execute_result",
          "data": {
            "text/plain": [
              "<ErrorbarContainer object of 3 artists>"
            ]
          },
          "metadata": {
            "tags": []
          },
          "execution_count": 170
        },
        {
          "output_type": "display_data",
          "data": {
            "image/png": "[encoded data removed]",
            "text/plain": [
              "<Figure size 432x288 with 1 Axes>"
            ]
          },
          "metadata": {
            "tags": [],
            "needs_background": "light"
          }
        }
      ]
    },
    {
      "cell_type": "code",
      "metadata": {
        "id": "8b5FXpTmQ92s",
        "outputId": "dc4e80b5-5998-4339-9f0f-8f862c0bad9b",
        "colab": {
          "base_uri": "https://localhost:8080/",
          "height": 378
        }
      },
      "source": [
        "#12\n",
        "\n",
        "npts = 11\n",
        "xlow = 4\n",
        "xhigh = 10\n",
        "\n",
        "xl = xlow + 0.01\n",
        "xmid = (xhigh+xlow)/2.0+0.01\n",
        "\n",
        "xi = np.linspace(xlow,xhigh,npts)\n",
        "yrandom = stats.norm.rvs(size=npts,loc=0,scale=.2)\n",
        "yi = xi + yrandom\n",
        "\n",
        "def fitfunction(x,*paramlist):\n",
        "    return paramlist[0]+paramlist[1]*x\n",
        "\n",
        "init_vals = [0.0 for x in range(2)]\n",
        "popt, pcov = curve_fit(fitfunction,xi,yi,p0=init_vals)\n",
        "perr = np.sqrt(np.diag(pcov))\n",
        "\n",
        "ps = np.random.multivariate_normal(popt,pcov,10000)\n",
        "ysample=np.asarray([fitfunction(xi,*pi) for pi in ps])\n",
        "\n",
        "lower = np.percentile(ysample,2.5,axis=0)\n",
        "upper = np.percentile(ysample,97.5,axis=0)\n",
        "middle = (lower+upper)/2.0\n",
        "\n",
        "print(\"Coefficients (from curve_fit)\")\n",
        "print (popt)\n",
        "print(\"Covariance Matrix (from curve_fit)\")\n",
        "print (pcov)\n",
        "\n",
        "print()\n",
        "print (\"Final Result: y = (%0.2f +/- %0.2f) x + (%0.2f +/- %0.2f)\" % (popt[1],perr[1],popt[0],perr[0]))\n",
        "\n",
        "plt.plot(xi,yi,'o')\n",
        "\n",
        "plt.plot(xi,middle)\n",
        "plt.plot(xi,lower)\n",
        "plt.plot(xi,upper)\n",
        "plt.show()\n",
        "\n",
        "slope = []\n",
        "dslope = []\n",
        "yint = []\n",
        "dyint = []\n",
        "type = []\n",
        "\n",
        "slope.append(popt[1])\n",
        "dslope.append(perr[1])\n",
        "yint.append(popt[0])\n",
        "dyint.append(perr[0])\n",
        "type.append('Linear')"
      ],
      "execution_count": 171,
      "outputs": [
        {
          "output_type": "stream",
          "text": [
            "Coefficients (from curve_fit)\n",
            "[-0.08060419  1.01880589]\n",
            "Covariance Matrix (from curve_fit)\n",
            "[[ 0.05536682 -0.00736821]\n",
            " [-0.00736821  0.0010526 ]]\n",
            "\n",
            "Final Result: y = (1.02 +/- 0.03) x + (-0.08 +/- 0.24)\n"
          ],
          "name": "stdout"
        },
        {
          "output_type": "display_data",
          "data": {
            "image/png": "[encoded data removed]",
            "text/plain": [
              "<Figure size 432x288 with 1 Axes>"
            ]
          },
          "metadata": {
            "tags": [],
            "needs_background": "light"
          }
        }
      ]
    },
    {
      "cell_type": "code",
      "metadata": {
        "id": "JEzheyINQ-CT",
        "outputId": "2af4897b-63c8-4133-adca-9bed169d5a8e",
        "colab": {
          "base_uri": "https://localhost:8080/",
          "height": 76
        }
      },
      "source": [
        "df = pd.DataFrame({'Fit Type':type, 'Slope':slope, 'Error in Slope':dslope, 'Y Intercept':yint, 'Error in Y Intercept':dyint})\n",
        "df.head()"
      ],
      "execution_count": 172,
      "outputs": [
        {
          "output_type": "execute_result",
          "data": {
            "text/html": [
              "<div>\n",
              "<style scoped>\n",
              "    .dataframe tbody tr th:only-of-type {\n",
              "        vertical-align: middle;\n",
              "    }\n",
              "\n",
              "    .dataframe tbody tr th {\n",
              "        vertical-align: top;\n",
              "    }\n",
              "\n",
              "    .dataframe thead th {\n",
              "        text-align: right;\n",
              "    }\n",
              "</style>\n",
              "<table border=\"1\" class=\"dataframe\">\n",
              "  <thead>\n",
              "    <tr style=\"text-align: right;\">\n",
              "      <th></th>\n",
              "      <th>Fit Type</th>\n",
              "      <th>Slope</th>\n",
              "      <th>Error in Slope</th>\n",
              "      <th>Y Intercept</th>\n",
              "      <th>Error in Y Intercept</th>\n",
              "    </tr>\n",
              "  </thead>\n",
              "  <tbody>\n",
              "    <tr>\n",
              "      <th>0</th>\n",
              "      <td>Linear</td>\n",
              "      <td>1.018806</td>\n",
              "      <td>0.032444</td>\n",
              "      <td>-0.080604</td>\n",
              "      <td>0.235302</td>\n",
              "    </tr>\n",
              "  </tbody>\n",
              "</table>\n",
              "</div>"
            ],
            "text/plain": [
              "  Fit Type     Slope  Error in Slope  Y Intercept  Error in Y Intercept\n",
              "0   Linear  1.018806        0.032444    -0.080604              0.235302"
            ]
          },
          "metadata": {
            "tags": []
          },
          "execution_count": 172
        }
      ]
    },
    {
      "cell_type": "code",
      "metadata": {
        "id": "VS1BuipJQ-Oh",
        "outputId": "274cf68d-38e1-491b-ab63-3ccea8de6a26",
        "colab": {
          "base_uri": "https://localhost:8080/",
          "height": 333
        }
      },
      "source": [
        "sigmai = np.array([dyint for i in range(npts)])\n",
        "plt.errorbar(xi, yi, yerr=sigmai, fmt='o', capsize=5, capthick=2)"
      ],
      "execution_count": 173,
      "outputs": [
        {
          "output_type": "stream",
          "text": [
            "/usr/local/lib/python3.6/dist-packages/ipykernel_launcher.py:2: MatplotlibDeprecationWarning: Support for passing a (n, 1)-shaped error array to errorbar() is deprecated since Matplotlib 3.1 and will be removed in 3.3; pass a 1D array instead.\n",
            "  \n"
          ],
          "name": "stderr"
        },
        {
          "output_type": "execute_result",
          "data": {
            "text/plain": [
              "<ErrorbarContainer object of 3 artists>"
            ]
          },
          "metadata": {
            "tags": []
          },
          "execution_count": 173
        },
        {
          "output_type": "display_data",
          "data": {
            "image/png": "[encoded data removed]",
            "text/plain": [
              "<Figure size 432x288 with 1 Axes>"
            ]
          },
          "metadata": {
            "tags": [],
            "needs_background": "light"
          }
        }
      ]
    },
    {
      "cell_type": "code",
      "metadata": {
        "id": "hQN1ENWfQ-Z-",
        "outputId": "8daab6a2-a78f-4071-b5ce-0502b99663c0",
        "colab": {
          "base_uri": "https://localhost:8080/",
          "height": 378
        }
      },
      "source": [
        "#13\n",
        "\n",
        "npts = 11\n",
        "xlow = 6\n",
        "xhigh = 10\n",
        "\n",
        "xl = xlow + 0.01\n",
        "xmid = (xhigh+xlow)/2.0+0.01\n",
        "\n",
        "xi = np.linspace(xlow,xhigh,npts)\n",
        "yrandom = stats.norm.rvs(size=npts,loc=0,scale=.2)\n",
        "yi = xi + yrandom\n",
        "\n",
        "def fitfunction(x,*paramlist):\n",
        "    return paramlist[0]+paramlist[1]*x\n",
        "\n",
        "init_vals = [0.0 for x in range(2)]\n",
        "popt, pcov = curve_fit(fitfunction,xi,yi,p0=init_vals)\n",
        "perr = np.sqrt(np.diag(pcov))\n",
        "\n",
        "ps = np.random.multivariate_normal(popt,pcov,10000)\n",
        "ysample=np.asarray([fitfunction(xi,*pi) for pi in ps])\n",
        "\n",
        "lower = np.percentile(ysample,2.5,axis=0)\n",
        "upper = np.percentile(ysample,97.5,axis=0)\n",
        "middle = (lower+upper)/2.0\n",
        "\n",
        "print(\"Coefficients (from curve_fit)\")\n",
        "print (popt)\n",
        "print(\"Covariance Matrix (from curve_fit)\")\n",
        "print (pcov)\n",
        "\n",
        "print()\n",
        "print (\"Final Result: y = (%0.2f +/- %0.2f) x + (%0.2f +/- %0.2f)\" % (popt[1],perr[1],popt[0],perr[0]))\n",
        "\n",
        "plt.plot(xi,yi,'o')\n",
        "\n",
        "plt.plot(xi,middle)\n",
        "plt.plot(xi,lower)\n",
        "plt.plot(xi,upper)\n",
        "plt.show()\n",
        "\n",
        "slope = []\n",
        "dslope = []\n",
        "yint = []\n",
        "dyint = []\n",
        "type = []\n",
        "\n",
        "slope.append(popt[1])\n",
        "dslope.append(perr[1])\n",
        "yint.append(popt[0])\n",
        "dyint.append(perr[0])\n",
        "type.append('Linear')"
      ],
      "execution_count": 174,
      "outputs": [
        {
          "output_type": "stream",
          "text": [
            "Coefficients (from curve_fit)\n",
            "[-0.04785088  1.01468743]\n",
            "Covariance Matrix (from curve_fit)\n",
            "[[ 0.11859419 -0.0144627 ]\n",
            " [-0.0144627   0.00180784]]\n",
            "\n",
            "Final Result: y = (1.01 +/- 0.04) x + (-0.05 +/- 0.34)\n"
          ],
          "name": "stdout"
        },
        {
          "output_type": "display_data",
          "data": {
            "image/png": "[encoded data removed]",
            "text/plain": [
              "<Figure size 432x288 with 1 Axes>"
            ]
          },
          "metadata": {
            "tags": [],
            "needs_background": "light"
          }
        }
      ]
    },
    {
      "cell_type": "code",
      "metadata": {
        "id": "B1ndJx7UQ-kk",
        "outputId": "41933cf5-30f2-48a5-80f1-7469f8adf1b8",
        "colab": {
          "base_uri": "https://localhost:8080/",
          "height": 76
        }
      },
      "source": [
        "df = pd.DataFrame({'Fit Type':type, 'Slope':slope, 'Error in Slope':dslope, 'Y Intercept':yint, 'Error in Y Intercept':dyint})\n",
        "df.head()"
      ],
      "execution_count": 175,
      "outputs": [
        {
          "output_type": "execute_result",
          "data": {
            "text/html": [
              "<div>\n",
              "<style scoped>\n",
              "    .dataframe tbody tr th:only-of-type {\n",
              "        vertical-align: middle;\n",
              "    }\n",
              "\n",
              "    .dataframe tbody tr th {\n",
              "        vertical-align: top;\n",
              "    }\n",
              "\n",
              "    .dataframe thead th {\n",
              "        text-align: right;\n",
              "    }\n",
              "</style>\n",
              "<table border=\"1\" class=\"dataframe\">\n",
              "  <thead>\n",
              "    <tr style=\"text-align: right;\">\n",
              "      <th></th>\n",
              "      <th>Fit Type</th>\n",
              "      <th>Slope</th>\n",
              "      <th>Error in Slope</th>\n",
              "      <th>Y Intercept</th>\n",
              "      <th>Error in Y Intercept</th>\n",
              "    </tr>\n",
              "  </thead>\n",
              "  <tbody>\n",
              "    <tr>\n",
              "      <th>0</th>\n",
              "      <td>Linear</td>\n",
              "      <td>1.014687</td>\n",
              "      <td>0.042519</td>\n",
              "      <td>-0.047851</td>\n",
              "      <td>0.344375</td>\n",
              "    </tr>\n",
              "  </tbody>\n",
              "</table>\n",
              "</div>"
            ],
            "text/plain": [
              "  Fit Type     Slope  Error in Slope  Y Intercept  Error in Y Intercept\n",
              "0   Linear  1.014687        0.042519    -0.047851              0.344375"
            ]
          },
          "metadata": {
            "tags": []
          },
          "execution_count": 175
        }
      ]
    },
    {
      "cell_type": "code",
      "metadata": {
        "id": "s8vX-8s5Q-fo",
        "outputId": "8914208a-7475-4e5c-8157-e6859e78b53f",
        "colab": {
          "base_uri": "https://localhost:8080/",
          "height": 333
        }
      },
      "source": [
        "sigmai = np.array([dyint for i in range(npts)])\n",
        "plt.errorbar(xi, yi, yerr=sigmai, fmt='o', capsize=5, capthick=2)"
      ],
      "execution_count": 176,
      "outputs": [
        {
          "output_type": "stream",
          "text": [
            "/usr/local/lib/python3.6/dist-packages/ipykernel_launcher.py:2: MatplotlibDeprecationWarning: Support for passing a (n, 1)-shaped error array to errorbar() is deprecated since Matplotlib 3.1 and will be removed in 3.3; pass a 1D array instead.\n",
            "  \n"
          ],
          "name": "stderr"
        },
        {
          "output_type": "execute_result",
          "data": {
            "text/plain": [
              "<ErrorbarContainer object of 3 artists>"
            ]
          },
          "metadata": {
            "tags": []
          },
          "execution_count": 176
        },
        {
          "output_type": "display_data",
          "data": {
            "image/png": "[encoded data removed]",
            "text/plain": [
              "<Figure size 432x288 with 1 Axes>"
            ]
          },
          "metadata": {
            "tags": [],
            "needs_background": "light"
          }
        }
      ]
    },
    {
      "cell_type": "code",
      "metadata": {
        "id": "HGOdzi9VQ-Um",
        "outputId": "fec927eb-12e4-42aa-ea36-02ae632c2828",
        "colab": {
          "base_uri": "https://localhost:8080/",
          "height": 378
        }
      },
      "source": [
        "#14\n",
        "\n",
        "npts = 11\n",
        "xlow = 8\n",
        "xhigh = 10\n",
        "\n",
        "xl = xlow + 0.01\n",
        "xmid = (xhigh+xlow)/2.0+0.01\n",
        "\n",
        "xi = np.linspace(xlow,xhigh,npts)\n",
        "yrandom = stats.norm.rvs(size=npts,loc=0,scale=.2)\n",
        "yi = xi + yrandom\n",
        "\n",
        "def fitfunction(x,*paramlist):\n",
        "    return paramlist[0]+paramlist[1]*x\n",
        "\n",
        "init_vals = [0.0 for x in range(2)]\n",
        "popt, pcov = curve_fit(fitfunction,xi,yi,p0=init_vals)\n",
        "perr = np.sqrt(np.diag(pcov))\n",
        "\n",
        "ps = np.random.multivariate_normal(popt,pcov,10000)\n",
        "ysample=np.asarray([fitfunction(xi,*pi) for pi in ps])\n",
        "\n",
        "lower = np.percentile(ysample,2.5,axis=0)\n",
        "upper = np.percentile(ysample,97.5,axis=0)\n",
        "middle = (lower+upper)/2.0\n",
        "\n",
        "print(\"Coefficients (from curve_fit)\")\n",
        "print (popt)\n",
        "print(\"Covariance Matrix (from curve_fit)\")\n",
        "print (pcov)\n",
        "\n",
        "print()\n",
        "print (\"Final Result: y = (%0.2f +/- %0.2f) x + (%0.2f +/- %0.2f)\" % (popt[1],perr[1],popt[0],perr[0]))\n",
        "\n",
        "plt.plot(xi,yi,'o')\n",
        "\n",
        "plt.plot(xi,middle)\n",
        "plt.plot(xi,lower)\n",
        "plt.plot(xi,upper)\n",
        "plt.show()\n",
        "\n",
        "slope = []\n",
        "dslope = []\n",
        "yint = []\n",
        "dyint = []\n",
        "type = []\n",
        "\n",
        "slope.append(popt[1])\n",
        "dslope.append(perr[1])\n",
        "yint.append(popt[0])\n",
        "dyint.append(perr[0])\n",
        "type.append('Linear')"
      ],
      "execution_count": 177,
      "outputs": [
        {
          "output_type": "stream",
          "text": [
            "Coefficients (from curve_fit)\n",
            "[0.42924471 0.95524724]\n",
            "Covariance Matrix (from curve_fit)\n",
            "[[ 0.46729875 -0.05166694]\n",
            " [-0.05166694  0.00574077]]\n",
            "\n",
            "Final Result: y = (0.96 +/- 0.08) x + (0.43 +/- 0.68)\n"
          ],
          "name": "stdout"
        },
        {
          "output_type": "display_data",
          "data": {
            "image/png": "[encoded data removed]",
            "text/plain": [
              "<Figure size 432x288 with 1 Axes>"
            ]
          },
          "metadata": {
            "tags": [],
            "needs_background": "light"
          }
        }
      ]
    },
    {
      "cell_type": "code",
      "metadata": {
        "id": "LBlGwUX6Q-JH",
        "outputId": "f4c8b01e-ddc7-40e8-97b0-89ba7159c634",
        "colab": {
          "base_uri": "https://localhost:8080/",
          "height": 76
        }
      },
      "source": [
        "df = pd.DataFrame({'Fit Type':type, 'Slope':slope, 'Error in Slope':dslope, 'Y Intercept':yint, 'Error in Y Intercept':dyint})\n",
        "df.head()"
      ],
      "execution_count": 178,
      "outputs": [
        {
          "output_type": "execute_result",
          "data": {
            "text/html": [
              "<div>\n",
              "<style scoped>\n",
              "    .dataframe tbody tr th:only-of-type {\n",
              "        vertical-align: middle;\n",
              "    }\n",
              "\n",
              "    .dataframe tbody tr th {\n",
              "        vertical-align: top;\n",
              "    }\n",
              "\n",
              "    .dataframe thead th {\n",
              "        text-align: right;\n",
              "    }\n",
              "</style>\n",
              "<table border=\"1\" class=\"dataframe\">\n",
              "  <thead>\n",
              "    <tr style=\"text-align: right;\">\n",
              "      <th></th>\n",
              "      <th>Fit Type</th>\n",
              "      <th>Slope</th>\n",
              "      <th>Error in Slope</th>\n",
              "      <th>Y Intercept</th>\n",
              "      <th>Error in Y Intercept</th>\n",
              "    </tr>\n",
              "  </thead>\n",
              "  <tbody>\n",
              "    <tr>\n",
              "      <th>0</th>\n",
              "      <td>Linear</td>\n",
              "      <td>0.955247</td>\n",
              "      <td>0.075768</td>\n",
              "      <td>0.429245</td>\n",
              "      <td>0.683593</td>\n",
              "    </tr>\n",
              "  </tbody>\n",
              "</table>\n",
              "</div>"
            ],
            "text/plain": [
              "  Fit Type     Slope  Error in Slope  Y Intercept  Error in Y Intercept\n",
              "0   Linear  0.955247        0.075768     0.429245              0.683593"
            ]
          },
          "metadata": {
            "tags": []
          },
          "execution_count": 178
        }
      ]
    },
    {
      "cell_type": "code",
      "metadata": {
        "id": "1ZtBlyhCQ98e",
        "outputId": "93cdd810-158d-409b-868a-f287dc4b7f0c",
        "colab": {
          "base_uri": "https://localhost:8080/",
          "height": 333
        }
      },
      "source": [
        "sigmai = np.array([dyint for i in range(npts)])\n",
        "plt.errorbar(xi, yi, yerr=sigmai, fmt='o', capsize=5, capthick=2)"
      ],
      "execution_count": 179,
      "outputs": [
        {
          "output_type": "stream",
          "text": [
            "/usr/local/lib/python3.6/dist-packages/ipykernel_launcher.py:2: MatplotlibDeprecationWarning: Support for passing a (n, 1)-shaped error array to errorbar() is deprecated since Matplotlib 3.1 and will be removed in 3.3; pass a 1D array instead.\n",
            "  \n"
          ],
          "name": "stderr"
        },
        {
          "output_type": "execute_result",
          "data": {
            "text/plain": [
              "<ErrorbarContainer object of 3 artists>"
            ]
          },
          "metadata": {
            "tags": []
          },
          "execution_count": 179
        },
        {
          "output_type": "display_data",
          "data": {
            "image/png": "[encoded data removed]",
            "text/plain": [
              "<Figure size 432x288 with 1 Axes>"
            ]
          },
          "metadata": {
            "tags": [],
            "needs_background": "light"
          }
        }
      ]
    },
    {
      "cell_type": "code",
      "metadata": {
        "id": "SGcFO6rpQ9v2",
        "outputId": "73bf004e-58b9-4a09-a1d5-abae7ba420da",
        "colab": {
          "base_uri": "https://localhost:8080/",
          "height": 382
        }
      },
      "source": [
        "#15\n",
        "\n",
        "npts = 11\n",
        "xlow = 9\n",
        "xhigh = 10\n",
        "\n",
        "xl = xlow + 0.01\n",
        "xmid = (xhigh+xlow)/2.0+0.01\n",
        "\n",
        "xi = np.linspace(xlow,xhigh,npts)\n",
        "yrandom = stats.norm.rvs(size=npts,loc=0,scale=.2)\n",
        "yi = xi + yrandom\n",
        "\n",
        "def fitfunction(x,*paramlist):\n",
        "    return paramlist[0]+paramlist[1]*x\n",
        "\n",
        "init_vals = [0.0 for x in range(2)]\n",
        "popt, pcov = curve_fit(fitfunction,xi,yi,p0=init_vals)\n",
        "perr = np.sqrt(np.diag(pcov))\n",
        "\n",
        "ps = np.random.multivariate_normal(popt,pcov,10000)\n",
        "ysample=np.asarray([fitfunction(xi,*pi) for pi in ps])\n",
        "\n",
        "lower = np.percentile(ysample,2.5,axis=0)\n",
        "upper = np.percentile(ysample,97.5,axis=0)\n",
        "middle = (lower+upper)/2.0\n",
        "\n",
        "print(\"Coefficients (from curve_fit)\")\n",
        "print (popt)\n",
        "print(\"Covariance Matrix (from curve_fit)\")\n",
        "print (pcov)\n",
        "\n",
        "print()\n",
        "print (\"Final Result: y = (%0.2f +/- %0.2f) x + (%0.2f +/- %0.2f)\" % (popt[1],perr[1],popt[0],perr[0]))\n",
        "\n",
        "plt.plot(xi,yi,'o')\n",
        "\n",
        "plt.plot(xi,middle)\n",
        "plt.plot(xi,lower)\n",
        "plt.plot(xi,upper)\n",
        "plt.show()\n",
        "\n",
        "slope = []\n",
        "dslope = []\n",
        "yint = []\n",
        "dyint = []\n",
        "type = []\n",
        "\n",
        "slope.append(popt[1])\n",
        "dslope.append(perr[1])\n",
        "yint.append(popt[0])\n",
        "dyint.append(perr[0])\n",
        "type.append('Linear')"
      ],
      "execution_count": 180,
      "outputs": [
        {
          "output_type": "stream",
          "text": [
            "Coefficients (from curve_fit)\n",
            "[0.08145919 0.99392166]\n",
            "Covariance Matrix (from curve_fit)\n",
            "[[ 4.01270393 -0.42192233]\n",
            " [-0.42192233  0.04441287]]\n",
            "\n",
            "Final Result: y = (0.99 +/- 0.21) x + (0.08 +/- 2.00)\n"
          ],
          "name": "stdout"
        },
        {
          "output_type": "display_data",
          "data": {
            "image/png": "[encoded data removed]",
            "text/plain": [
              "<Figure size 432x288 with 1 Axes>"
            ]
          },
          "metadata": {
            "tags": [],
            "needs_background": "light"
          }
        }
      ]
    },
    {
      "cell_type": "code",
      "metadata": {
        "id": "UcVo8RWxRNQ2",
        "outputId": "0b6e9056-22ec-4f4b-e7b3-6de0643e7a7d",
        "colab": {
          "base_uri": "https://localhost:8080/",
          "height": 76
        }
      },
      "source": [
        "df = pd.DataFrame({'Fit Type':type, 'Slope':slope, 'Error in Slope':dslope, 'Y Intercept':yint, 'Error in Y Intercept':dyint})\n",
        "df.head()"
      ],
      "execution_count": 181,
      "outputs": [
        {
          "output_type": "execute_result",
          "data": {
            "text/html": [
              "<div>\n",
              "<style scoped>\n",
              "    .dataframe tbody tr th:only-of-type {\n",
              "        vertical-align: middle;\n",
              "    }\n",
              "\n",
              "    .dataframe tbody tr th {\n",
              "        vertical-align: top;\n",
              "    }\n",
              "\n",
              "    .dataframe thead th {\n",
              "        text-align: right;\n",
              "    }\n",
              "</style>\n",
              "<table border=\"1\" class=\"dataframe\">\n",
              "  <thead>\n",
              "    <tr style=\"text-align: right;\">\n",
              "      <th></th>\n",
              "      <th>Fit Type</th>\n",
              "      <th>Slope</th>\n",
              "      <th>Error in Slope</th>\n",
              "      <th>Y Intercept</th>\n",
              "      <th>Error in Y Intercept</th>\n",
              "    </tr>\n",
              "  </thead>\n",
              "  <tbody>\n",
              "    <tr>\n",
              "      <th>0</th>\n",
              "      <td>Linear</td>\n",
              "      <td>0.993922</td>\n",
              "      <td>0.210744</td>\n",
              "      <td>0.081459</td>\n",
              "      <td>2.003173</td>\n",
              "    </tr>\n",
              "  </tbody>\n",
              "</table>\n",
              "</div>"
            ],
            "text/plain": [
              "  Fit Type     Slope  Error in Slope  Y Intercept  Error in Y Intercept\n",
              "0   Linear  0.993922        0.210744     0.081459              2.003173"
            ]
          },
          "metadata": {
            "tags": []
          },
          "execution_count": 181
        }
      ]
    },
    {
      "cell_type": "code",
      "metadata": {
        "id": "bQvQGjhCRTkZ",
        "outputId": "263d21ee-ffe5-4af6-f331-2896556ef4ff",
        "colab": {
          "base_uri": "https://localhost:8080/",
          "height": 333
        }
      },
      "source": [
        "sigmai = np.array([dyint for i in range(npts)])\n",
        "plt.errorbar(xi, yi, yerr=sigmai, fmt='o', capsize=5, capthick=2)"
      ],
      "execution_count": 182,
      "outputs": [
        {
          "output_type": "stream",
          "text": [
            "/usr/local/lib/python3.6/dist-packages/ipykernel_launcher.py:2: MatplotlibDeprecationWarning: Support for passing a (n, 1)-shaped error array to errorbar() is deprecated since Matplotlib 3.1 and will be removed in 3.3; pass a 1D array instead.\n",
            "  \n"
          ],
          "name": "stderr"
        },
        {
          "output_type": "execute_result",
          "data": {
            "text/plain": [
              "<ErrorbarContainer object of 3 artists>"
            ]
          },
          "metadata": {
            "tags": []
          },
          "execution_count": 182
        },
        {
          "output_type": "display_data",
          "data": {
            "image/png": "[encoded data removed]",
            "text/plain": [
              "<Figure size 432x288 with 1 Axes>"
            ]
          },
          "metadata": {
            "tags": [],
            "needs_background": "light"
          }
        }
      ]
    },
    {
      "cell_type": "markdown",
      "metadata": {
        "id": "bDOgoBx_yToJ"
      },
      "source": [
        "## Question 2 - Why is it cold?"
      ]
    },
    {
      "cell_type": "markdown",
      "metadata": {
        "id": "oWETxylayToJ"
      },
      "source": [
        "Modify the Jupyter Notebook called GlobalTemperatures.ipynb to consider the temperature variations over the year for five locations - two in the northern hemisphere, one near the equator, and two in the southern hemisphere.  Do not use any of the same locations already considered.\n",
        "\n",
        "What are the scale factors and offsets required to give a reasonable fit in each case?"
      ]
    },
    {
      "cell_type": "code",
      "metadata": {
        "id": "EP2-DiERyToK"
      },
      "source": [
        "import datetime\n",
        "import numpy as np\n",
        "\n",
        "class Sun:\n",
        "\n",
        "    def getSunriseTime( self, coords ):\n",
        "        return self.calcSunTime( coords, True )\n",
        "\n",
        "    def getSunsetTime( self, coords ):\n",
        "        return self.calcSunTime( coords, False )\n",
        "\n",
        "    def getCurrentUTC( self ):\n",
        "        now = datetime.datetime.now()\n",
        "        return [ now.day, now.month, now.year ]\n",
        "\n",
        "    def calcSunTime( self, coords, isRiseTime, zenith = 90.8 ):\n",
        "\n",
        "        # isRiseTime == False, returns sunsetTime\n",
        "\n",
        "        day, month, year = self.getCurrentUTC()\n",
        "        #print (day,month,year)\n",
        "\n",
        "        longitude = coords['longitude']\n",
        "        latitude = coords['latitude']\n",
        "\n",
        "        TO_RAD = np.pi/180\n",
        "\n",
        "        ##1. first calculate the day of the year\n",
        "        #N1 = math.floor(275 * month / 9)\n",
        "        #N2 = math.floor((month + 9) / 12)\n",
        "        #N3 = (1 + math.floor((year - 4 * math.floor(year / 4) + 2) / 3))\n",
        "        #N = N1 - (N2 * N3) + day - 30\n",
        "\n",
        "\t# EJB:  Modify to calculate the times for all days of the year!!\n",
        "        N = np.array([i for i in range(1,366)])\n",
        "\n",
        "        #2. convert the longitude to hour value and calculate an approximate time\n",
        "        lngHour = longitude / 15\n",
        "\n",
        "        if isRiseTime:\n",
        "            t = N + ((6 - lngHour) / 24)\n",
        "        else: #sunset\n",
        "            t = N + ((18 - lngHour) / 24)\n",
        "\n",
        "        #3. calculate the Sun's mean anomaly\n",
        "        M = (0.9856 * t) - 3.289\n",
        "\n",
        "        #4. calculate the Sun's true longitude\n",
        "        L = M + (1.916 * np.sin(TO_RAD*M)) + (0.020 * np.sin(TO_RAD * 2 * M)) + 282.634\n",
        "        L = self.forceRange( L, 360 ) #NOTE: L adjusted into the range [0,360)\n",
        "\n",
        "        #5a. calculate the Sun's right ascension\n",
        "\n",
        "        RA = (1/TO_RAD) * np.arctan(0.91764 * np.tan(TO_RAD*L))\n",
        "        RA = self.forceRange( RA, 360 ) #NOTE: RA adjusted into the range [0,360)\n",
        "\n",
        "        #5b. right ascension value needs to be in the same quadrant as L\n",
        "        Lquadrant  = (np.floor( L/90)) * 90\n",
        "        RAquadrant = (np.floor(RA/90)) * 90\n",
        "        RA = RA + (Lquadrant - RAquadrant)\n",
        "\n",
        "        #5c. right ascension value needs to be converted into hours\n",
        "        RA = RA / 15\n",
        "\n",
        "        #6. calculate the Sun's declination\n",
        "        sinDec = 0.39782 * np.sin(TO_RAD*L)\n",
        "        cosDec = np.cos(np.arcsin(sinDec))\n",
        "\n",
        "        #7a. calculate the Sun's local hour angle\n",
        "        cosH = (np.cos(TO_RAD*zenith) - (sinDec * np.sin(TO_RAD*latitude))) / (cosDec * np.cos(TO_RAD*latitude))\n",
        "\n",
        "        #if cosH > 1:\n",
        "        #    return {'status': False, 'msg': 'the sun never rises on this location (on the specified date)'}\n",
        "\n",
        "        #if cosH < -1:\n",
        "        #    return {'status': False, 'msg': 'the sun never sets on this location (on the specified date)'}\n",
        "\n",
        "        #7b. finish calculating H and convert into hours\n",
        "\n",
        "        if isRiseTime:\n",
        "            H = 360 - (1/TO_RAD) * np.arccos(cosH)\n",
        "        else: #setting\n",
        "            H = (1/TO_RAD) * np.arccos(cosH)\n",
        "\n",
        "        H = H / 15\n",
        "\n",
        "        #8. calculate local mean time of rising/setting\n",
        "        T = H + RA - (0.06571 * t) - 6.622\n",
        "\n",
        "        #9. adjust back to UTC\n",
        "        UT = T - lngHour\n",
        "        #print (UT)\n",
        "        UT = self.forceRange( UT, 24) # UTC time in decimal format (e.g. 23.23)\n",
        "        #print (UT)\n",
        "\n",
        "        #10. Return\n",
        "        #hr = self.forceRange(UT, 24)\n",
        "        #min = ((UT - UT.astype(int))*60,0)\n",
        "\n",
        "        return {\n",
        "            'status': True,\n",
        "            'decimal': UT\n",
        "            #'hr': hr,\n",
        "            #'min': min \n",
        "        }\n",
        "\n",
        "    def forceRange( self, v, max ):\n",
        "        # force v to be >= 0 and < max\n",
        "        for i in range(len(v)):\n",
        "            if v[i] < 0:\n",
        "                v[i] = v[i] + max\n",
        "            elif v[i] >= max:\n",
        "                v[i] = v[i] - max\n",
        "        return v"
      ],
      "execution_count": 183,
      "outputs": []
    },
    {
      "cell_type": "code",
      "metadata": {
        "id": "qkulVRgVyVbA",
        "outputId": "eb49d74c-0a19-4d88-8da0-964ef40dbf8d",
        "colab": {
          "base_uri": "https://localhost:8080/",
          "height": 362
        }
      },
      "source": [
        "import numpy as np\n",
        "import pandas as pd\n",
        "import matplotlib.pyplot as plt\n",
        "\n",
        "# Number of days in the sidereal year\n",
        "daysPerYear = 365.256363\n",
        "\n",
        "# Array to hold day of year\n",
        "\n",
        "dayOfYear = np.array([i for i in range(1,366)])\n",
        "\n",
        "# Earth-Sun Distance in A.U.\n",
        "rES=1.0-0.01672*np.cos(2.0*np.pi/daysPerYear*(dayOfYear-4))\n",
        "relPower=1/rES**2\n",
        "\n",
        "# plt.plot(dayOfYear,relPower,'.')\n",
        "\n",
        "\n",
        "def angleCalc(latitude):\n",
        "  # tilt angle of the earth in 2020\n",
        "  tiltAngle = -23.44*np.pi/180.0\n",
        "  angle = tiltAngle*np.cos(2.0*np.pi/daysPerYear*(dayOfYear+10))\n",
        "  \n",
        "  print(latitude)\n",
        "  return latitude*np.pi/180.0 - angle\n",
        "\n",
        "# LOCATIONS\n",
        "angleVirginiaBeach = {\"coords\": {'longitude': -75.9780, 'latitude': 36.8529}, 'angle': angleCalc(36.8529)}\n",
        "angleTokyo = {'coords': {'longitude': 139.7690, 'latitude': 35.6804}, 'angle': angleCalc(35.6804)}\n",
        "angleKampala = {'coords': {'longitude': 32.5825, 'latitude': 0.3476}, 'angle': angleCalc(0.3476)}\n",
        "angleSydney = {'coords': {'longitude': 151.2093, 'latitude': -33.8688}, 'angle': angleCalc(-33.8688)}\n",
        "angleSantiago = {'coords': {'longitude': -70.6693, 'latitude': -33.4489}, 'angle': angleCalc(-33.4489)}\n",
        "\n",
        "\n",
        "#from Sun import Sun\n",
        "\n",
        "coords = angleVirginiaBeach[\"coords\"]\n",
        "sun = Sun()\n",
        "sunrise = sun.getSunriseTime(coords)['decimal']\n",
        "sunset = sun.getSunsetTime(coords)['decimal']\n",
        "dayLength = sun.getSunsetTime(coords)['decimal']-sun.getSunriseTime(coords)['decimal']\n",
        "for i in range(len(dayLength)):\n",
        "    if dayLength[i]<0:\n",
        "        dayLength[i] = dayLength[i]+24\n",
        "angleVirginiaBeach['lengthCorrection'] = dayLength/12.0\n",
        "\n",
        "\n",
        "coords = angleTokyo[\"coords\"]\n",
        "sun = Sun()\n",
        "sunrise = sun.getSunriseTime(coords)['decimal']\n",
        "sunset = sun.getSunsetTime(coords)['decimal']\n",
        "dayLength = sun.getSunsetTime(coords)['decimal']-sun.getSunriseTime(coords)['decimal']\n",
        "for i in range(len(dayLength)):\n",
        "    if dayLength[i]<0:\n",
        "        dayLength[i] = dayLength[i]+24\n",
        "angleTokyo['lengthCorrection'] = dayLength/12.0\n",
        "\n",
        "\n",
        "coords = angleKampala[\"coords\"]\n",
        "sun = Sun()\n",
        "sunrise = sun.getSunriseTime(coords)['decimal']\n",
        "sunset = sun.getSunsetTime(coords)['decimal']\n",
        "dayLength = sun.getSunsetTime(coords)['decimal']-sun.getSunriseTime(coords)['decimal']\n",
        "for i in range(len(dayLength)):\n",
        "    if dayLength[i]<0:\n",
        "        dayLength[i] = dayLength[i]+24\n",
        "angleKampala['lengthCorrection'] = dayLength/12.0\n",
        "\n",
        "\n",
        "coords = angleSydney[\"coords\"]\n",
        "sun = Sun()\n",
        "sunrise = sun.getSunriseTime(coords)['decimal']\n",
        "sunset = sun.getSunsetTime(coords)['decimal']\n",
        "dayLength = sun.getSunsetTime(coords)['decimal']-sun.getSunriseTime(coords)['decimal']\n",
        "for i in range(len(dayLength)):\n",
        "    if dayLength[i]<0:\n",
        "        dayLength[i] = dayLength[i]+24\n",
        "angleSydney['lengthCorrection'] = dayLength/12.0\n",
        "\n",
        "\n",
        "coords = angleSantiago[\"coords\"]\n",
        "sun = Sun()\n",
        "sunrise = sun.getSunriseTime(coords)['decimal']\n",
        "sunset = sun.getSunsetTime(coords)['decimal']\n",
        "dayLength = sun.getSunsetTime(coords)['decimal']-sun.getSunriseTime(coords)['decimal']\n",
        "for i in range(len(dayLength)):\n",
        "    if dayLength[i]<0:\n",
        "        dayLength[i] = dayLength[i]+24\n",
        "angleSantiago['lengthCorrection'] = dayLength/12.0\n",
        "\n",
        "\n",
        "angleVirginiaBeach[\"tempTheory\"] = (np.cos(angleVirginiaBeach['angle'])*relPower*np.sqrt(angleVirginiaBeach['lengthCorrection']))\n",
        "angleTokyo[\"tempTheory\"] = (np.cos(angleTokyo['angle'])*relPower*np.sqrt(angleTokyo['lengthCorrection']))\n",
        "angleKampala[\"tempTheory\"] = (np.cos(angleKampala['angle'])*relPower*np.sqrt(angleKampala['lengthCorrection']))\n",
        "angleSydney[\"tempTheory\"] = (np.cos(angleSydney['angle'])*relPower*np.sqrt(angleSydney['lengthCorrection']))\n",
        "angleSantiago[\"tempTheory\"] = (np.cos(angleSantiago['angle'])*relPower*np.sqrt(angleSantiago['lengthCorrection']))\n",
        "\n",
        "#print(angleVirginiaBeach[\"tempTheory\"])\n",
        "\n",
        "# plt.plot(dayOfYear,angleVirginiaBeach[\"tempTheory\"],'m')\n",
        "# plt.plot(dayOfYear,angleTokyo[\"tempTheory\"],'r')\n",
        "# plt.plot(dayOfYear,angleKampala[\"tempTheory\"],'g')\n",
        "# plt.plot(dayOfYear,angleSydney[\"tempTheory\"],'b')\n",
        "# plt.plot(dayOfYear,angleSantiago[\"tempTheory\"],'c')\n",
        "\n",
        "angleVirginiaBeach['temp'] = np.array([4.6,5.5,9.2,14,18.6,23.2,25.7,25.2,22.3,11.5,6.7])+273.15 #https://en.climate-data.org/north-america/united-states-of-america/virginia/virginia-beach-764480/\n",
        "angleTokyo['temp'] = np.array([5.1,5.8,8.6,14,18.6,21.8,25.5,27.3,23.2,17.5,12.4,7.7])+273.15 # https://en.climate-data.org/asia/japan/tokyo/tokyo-3292/\n",
        "angleKampala['temp'] = np.array([26.6,28.6,30.8,31,29.6,27.3,25.8,25.3,25.6,27.2,27.7,26.3])+273.15 # https://en.climate-data.org/africa/burkina-faso/central-south/kampala-999745/\n",
        "angleSydney['temp'] = np.array([22.2,22.3,21.1,18.4,15.2,12.9,12,13.1,15.2,17.8,19.5,21.5])+273.15 # https://en.climate-data.org/oceania/australia/new-south-wales/sydney-24/\n",
        "angleSantiago['temp'] = np.array([20.8,19.8,17.8,14.8,11.6,8.8,8.6,9.7,11.8,14.4,17.2,19.6])+273.15 # https://en.climate-data.org/south-america/chile/region-metropolitana-de-santiago/santiago-938/\n",
        "\n",
        "error = np.array([1 for i in range(12)])\n",
        "\n",
        "\n",
        "normalization = max([np.amax(angleVirginiaBeach['temp']),\n",
        "                     np.amax(angleTokyo['temp']),\n",
        "                     np.amax(angleKampala['temp']),\n",
        "                     np.amax(angleSydney['temp']),\n",
        "                     np.amax(angleSantiago['temp'])]) \n",
        "\n",
        "\n",
        "# Normalize Temperatures between 0 and 1\n",
        "angleVirginiaBeach['temp'] /= normalization\n",
        "angleTokyo['temp'] /= normalization\n",
        "angleKampala['temp'] /= normalization\n",
        "angleSydney['temp'] /= normalization\n",
        "angleSantiago['temp'] /= normalization\n",
        "error = error/normalization\n",
        "\n",
        "month = np.array([(15+30*(i-2)) for i in range(1,13)])\n",
        "for i in range(len(month)):\n",
        "    if month[i]<0:\n",
        "        month[i]=month[i]+365\n",
        "\n",
        "#plt.errorbar(month,angleVirginiaBeach['temp'],yerr=error,fmt='mo')\n",
        "plt.errorbar(month,angleTokyo['temp'],yerr=error,fmt='ro')\n",
        "plt.errorbar(month,angleKampala['temp'],yerr=error,fmt='go')\n",
        "plt.errorbar(month,angleSydney['temp'],yerr=error,fmt='bo')\n",
        "plt.errorbar(month,angleSantiago['temp'],yerr=error,fmt='co')\n",
        "\n",
        "plt.plot(dayOfYear,(angleVirginiaBeach['tempTheory']-1)/16+.982,'m')\n",
        "plt.plot(dayOfYear,(angleTokyo['tempTheory']-1)/8.56+.970,'r')\n",
        "plt.plot(dayOfYear,(angleKampala['tempTheory']-1)/18+.987,'g')\n",
        "plt.plot(dayOfYear,(angleSydney['tempTheory']-1)/15+.97,'b')\n",
        "plt.plot(dayOfYear,(angleSantiago['tempTheory']-1)/16+.959,'c')"
      ],
      "execution_count": 184,
      "outputs": [
        {
          "output_type": "stream",
          "text": [
            "36.8529\n",
            "35.6804\n",
            "0.3476\n",
            "-33.8688\n",
            "-33.4489\n"
          ],
          "name": "stdout"
        },
        {
          "output_type": "execute_result",
          "data": {
            "text/plain": [
              "[<matplotlib.lines.Line2D at 0x7f32050cb4a8>]"
            ]
          },
          "metadata": {
            "tags": []
          },
          "execution_count": 184
        },
        {
          "output_type": "display_data",
          "data": {
            "image/png": "[encoded data removed]",
            "text/plain": [
              "<Figure size 432x288 with 1 Axes>"
            ]
          },
          "metadata": {
            "tags": [],
            "needs_background": "light"
          }
        }
      ]
    },
    {
      "cell_type": "markdown",
      "metadata": {
        "id": "GUcZSv-4yToN"
      },
      "source": [
        "## Question 3 - Kater's Pendulum"
      ]
    },
    {
      "cell_type": "markdown",
      "metadata": {
        "id": "Kah7PzqyyToN"
      },
      "source": [
        "Begin with the example Jupyter Notebook called KaterPendulum.ipynb.  Carry out a full analysis of the data obtained in the subdirectory called ~/KaterPendulum/data/scan2.  The file in this directory called kater_scan2_c2.dat will tell you what the x-positions of the small mass were (they are slightly different than in the example we covered in class).\n",
        "\n",
        "Think about how to \"clean\" the raw data before proceeding with the fits.\n",
        "\n",
        "What value of g is the \"best\" value for this data?  What value of the \"fudge factor\" offset gives the best comparison of the theory to the data? Is this a reasonable offset?"
      ]
    },
    {
      "cell_type": "code",
      "metadata": {
        "id": "i4lat7ksyToO"
      },
      "source": [
        ""
      ],
      "execution_count": 184,
      "outputs": []
    }
  ]
}