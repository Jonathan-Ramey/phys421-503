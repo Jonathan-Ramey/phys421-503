{
 "cells": [
  {
   "cell_type": "code",
   "execution_count": 1,
   "metadata": {},
   "outputs": [],
   "source": [
    "import numpy as np"
   ]
  },
  {
   "cell_type": "code",
   "execution_count": 8,
   "metadata": {},
   "outputs": [
    {
     "name": "stdout",
     "output_type": "stream",
     "text": [
      "3.14 3.64\n",
      "3.64 3.63\n",
      "3.63 3.63\n",
      "Found fixed point at p = 3.63\n"
     ]
    }
   ],
   "source": [
    "p = np.pi\n",
    "\n",
    "epsilon = 1.0E-02\n",
    "diff = 1.0E12\n",
    "\n",
    "while (diff > epsilon):\n",
    "    gp = np.pi + 0.5*np.sin(p/2.0)\n",
    "    print (\"%0.2f %0.2f\" %(p,gp))\n",
    "    diff = np.abs(p-gp)\n",
    "    p = gp\n",
    "    \n",
    "print (\"Found fixed point at p = %0.2f\" % p)"
   ]
  },
  {
   "cell_type": "code",
   "execution_count": null,
   "metadata": {},
   "outputs": [],
   "source": []
  }
 ],
 "metadata": {
  "kernelspec": {
   "display_name": "Python 3",
   "language": "python",
   "name": "python3"
  },
  "language_info": {
   "codemirror_mode": {
    "name": "ipython",
    "version": 3
   },
   "file_extension": ".py",
   "mimetype": "text/x-python",
   "name": "python",
   "nbconvert_exporter": "python",
   "pygments_lexer": "ipython3",
   "version": "3.6.8"
  }
 },
 "nbformat": 4,
 "nbformat_minor": 2
}
